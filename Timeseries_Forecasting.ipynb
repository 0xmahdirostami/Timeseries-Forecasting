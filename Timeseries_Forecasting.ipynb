{
  "cells": [
    {
      "cell_type": "markdown",
      "metadata": {
        "id": "view-in-github",
        "colab_type": "text"
      },
      "source": [
        "<a href=\"https://colab.research.google.com/github/mahdi-rostami/Timeseries-Forecasting/blob/main/Timeseries_Forecasting.ipynb\" target=\"_parent\"><img src=\"https://colab.research.google.com/assets/colab-badge.svg\" alt=\"Open In Colab\"/></a>"
      ]
    },
    {
      "cell_type": "code",
      "execution_count": null,
      "metadata": {
        "id": "vNtv_VRTkE6T"
      },
      "outputs": [],
      "source": [
        "#import libraries\n",
        "from __future__ import (absolute_import, division, print_function,\n",
        "                        unicode_literals)\n",
        "import pandas as pd\n",
        "import matplotlib.pyplot as plt\n",
        "from matplotlib import cycler\n",
        "import seaborn as sb\n",
        "import numpy as np\n",
        "import gc\n",
        "from operator import itemgetter\n",
        "import warnings\n",
        "from sklearn.preprocessing import StandardScaler\n",
        "from sklearn.linear_model import LogisticRegression\n",
        "from sklearn.svm import SVC\n",
        "from xgboost import XGBClassifier\n",
        "from sklearn import metrics\n",
        "\n",
        "\n",
        "warnings.filterwarnings('ignore')\n",
        "%matplotlib inline"
      ]
    },
    {
      "cell_type": "code",
      "execution_count": null,
      "metadata": {
        "colab": {
          "base_uri": "https://localhost:8080/"
        },
        "id": "tnLlvDiripMt",
        "outputId": "d35d9a4e-1ff7-4a9e-8e85-b87162c3fa79"
      },
      "outputs": [
        {
          "output_type": "stream",
          "name": "stdout",
          "text": [
            "--2022-11-17 15:15:01--  https://raw.githubusercontent.com/0xtweeter/Timeseries-Forecasting/main/data/LOB_NQU22-CME.rar\n",
            "Resolving raw.githubusercontent.com (raw.githubusercontent.com)... 185.199.108.133, 185.199.109.133, 185.199.110.133, ...\n",
            "Connecting to raw.githubusercontent.com (raw.githubusercontent.com)|185.199.108.133|:443... connected.\n",
            "HTTP request sent, awaiting response... 200 OK\n",
            "Length: 38220604 (36M) [application/octet-stream]\n",
            "Saving to: ‘LOB_NQU22-CME.rar’\n",
            "\n",
            "LOB_NQU22-CME.rar   100%[===================>]  36.45M   169MB/s    in 0.2s    \n",
            "\n",
            "2022-11-17 15:15:02 (169 MB/s) - ‘LOB_NQU22-CME.rar’ saved [38220604/38220604]\n",
            "\n",
            "Looking in indexes: https://pypi.org/simple, https://us-python.pkg.dev/colab-wheels/public/simple/\n",
            "Collecting unrar\n",
            "  Downloading unrar-0.4-py3-none-any.whl (25 kB)\n",
            "Installing collected packages: unrar\n",
            "Successfully installed unrar-0.4\n",
            "\n",
            "UNRAR 5.50 freeware      Copyright (c) 1993-2017 Alexander Roshal\n",
            "\n",
            "\n",
            "Extracting from /content/LOB_NQU22-CME.rar\n",
            "\n",
            "Extracting  LOB_NQU22-CME.csv                                            \b\b\b\b 10%\b\b\b\b 21%\b\b\b\b 32%\b\b\b\b 43%\b\b\b\b 54%\b\b\b\b 65%\b\b\b\b 76%\b\b\b\b 87%\b\b\b\b 98%\b\b\b\b 99%\b\b\b\b\b  OK \n",
            "All OK\n",
            "data downloaded and exteracted\n"
          ]
        }
      ],
      "source": [
        "#download data\n",
        "import os \n",
        "if not os.path.isfile('LOB_NQU22-CME.csv'):\n",
        "    !wget https://raw.githubusercontent.com/0xtweeter/Timeseries-Forecasting/main/data/LOB_NQU22-CME.rar\n",
        "    !pip install unrar\n",
        "    !unrar x \"/content/LOB_NQU22-CME.rar\"\n",
        "    print('data downloaded and exteracted')\n",
        "else :\n",
        "    print('csv file already existed.')"
      ]
    },
    {
      "cell_type": "code",
      "execution_count": null,
      "metadata": {
        "id": "ZQwBcsBwcQPV"
      },
      "outputs": [],
      "source": [
        "#plt style\n",
        "# colors = cycler('color',\n",
        "#                 ['#669FEE', '#66EE91', '#9988DD',\n",
        "#                  '#EECC55', '#88BB44', '#FFBBBB'])\n",
        "# plt.rc('figure', facecolor='#313233')\n",
        "# plt.rc('axes', facecolor=\"#313233\", edgecolor='none',\n",
        "#        axisbelow=True, grid=True, prop_cycle=colors,\n",
        "#        labelcolor='gray')\n",
        "# plt.rc('grid', color='474A4A', linestyle='solid')\n",
        "# plt.rc('xtick', color='gray')\n",
        "# plt.rc('ytick', direction='out', color='gray')\n",
        "# plt.rc('legend', facecolor=\"#313233\", edgecolor=\"#313233\")\n",
        "# plt.rc(\"text\", color=\"#C9C9C9\")\n",
        "plt.style.use('ggplot')"
      ]
    },
    {
      "cell_type": "markdown",
      "metadata": {
        "id": "ykMB8lUfgS8Y"
      },
      "source": [
        "# EDA"
      ]
    },
    {
      "cell_type": "code",
      "execution_count": null,
      "metadata": {
        "id": "2COgAfavkJUc"
      },
      "outputs": [],
      "source": [
        "#reading dataset\n",
        "pd.set_option('display.max_columns',None)  #to show all columns\n",
        "colnames=[\n",
        "    'time', 'open', 'high', 'low', 'close', 'volume',\n",
        "     'numtrades', 'bidvolume', 'askvolume', 'lob_bid', 'lob_ask'\n",
        "     ] #columns name\n",
        "Data = pd.read_csv(\"/content/LOB_NQU22-CME.csv\", names=colnames, header=None, index_col='time' )"
      ]
    },
    {
      "cell_type": "code",
      "source": [
        "df = Data.copy()"
      ],
      "metadata": {
        "id": "nJbhktJTVd1z"
      },
      "execution_count": null,
      "outputs": []
    },
    {
      "cell_type": "code",
      "execution_count": null,
      "metadata": {
        "colab": {
          "base_uri": "https://localhost:8080/"
        },
        "id": "v86sh4nxk7wV",
        "outputId": "22e6c92e-1332-45ca-8034-8789b5474f8b"
      },
      "outputs": [
        {
          "output_type": "execute_result",
          "data": {
            "text/plain": [
              "(72907, 10)"
            ]
          },
          "metadata": {},
          "execution_count": 6
        }
      ],
      "source": [
        "df.shape"
      ]
    },
    {
      "cell_type": "code",
      "execution_count": null,
      "metadata": {
        "colab": {
          "base_uri": "https://localhost:8080/",
          "height": 343
        },
        "id": "ljpAu0ph4oDZ",
        "outputId": "ca622047-d2b6-4e8b-fe1d-432da17fa8d6"
      },
      "outputs": [
        {
          "output_type": "execute_result",
          "data": {
            "text/plain": [
              "                         open      high       low     close  volume  \\\n",
              "time                                                                  \n",
              "2022-03-18  00:00:00  14066.5  14069.75  14061.75  14066.00   145.0   \n",
              "2022-03-18  00:01:00  14064.5  14067.75  14063.00  14066.25    66.0   \n",
              "2022-03-18  00:02:00  14067.0  14068.00  14064.75  14066.25    68.0   \n",
              "\n",
              "                      numtrades  bidvolume  askvolume  \\\n",
              "time                                                    \n",
              "2022-03-18  00:00:00      144.0       60.0       85.0   \n",
              "2022-03-18  00:01:00       64.0       36.0       30.0   \n",
              "2022-03-18  00:02:00       64.0       36.0       32.0   \n",
              "\n",
              "                                                                lob_bid  \\\n",
              "time                                                                      \n",
              "2022-03-18  00:00:00  200.000000|1|578.750000|1|586.500000|1|6490.00...   \n",
              "2022-03-18  00:01:00  200.000000|1|578.750000|1|586.500000|1|6490.00...   \n",
              "2022-03-18  00:02:00  200.000000|1|578.750000|1|586.500000|1|6490.00...   \n",
              "\n",
              "                                                                lob_ask  \n",
              "time                                                                     \n",
              "2022-03-18  00:00:00  14019.500000|1|14019.750000|2|14020.000000|1|1...  \n",
              "2022-03-18  00:01:00  14020.750000|1|14021.000000|1|14021.250000|1|1...  \n",
              "2022-03-18  00:02:00  14022.500000|3|14022.750000|1|14023.000000|1|1...  "
            ],
            "text/html": [
              "\n",
              "  <div id=\"df-f014278d-ebd9-4ea0-81d0-1d2a7e60cabe\">\n",
              "    <div class=\"colab-df-container\">\n",
              "      <div>\n",
              "<style scoped>\n",
              "    .dataframe tbody tr th:only-of-type {\n",
              "        vertical-align: middle;\n",
              "    }\n",
              "\n",
              "    .dataframe tbody tr th {\n",
              "        vertical-align: top;\n",
              "    }\n",
              "\n",
              "    .dataframe thead th {\n",
              "        text-align: right;\n",
              "    }\n",
              "</style>\n",
              "<table border=\"1\" class=\"dataframe\">\n",
              "  <thead>\n",
              "    <tr style=\"text-align: right;\">\n",
              "      <th></th>\n",
              "      <th>open</th>\n",
              "      <th>high</th>\n",
              "      <th>low</th>\n",
              "      <th>close</th>\n",
              "      <th>volume</th>\n",
              "      <th>numtrades</th>\n",
              "      <th>bidvolume</th>\n",
              "      <th>askvolume</th>\n",
              "      <th>lob_bid</th>\n",
              "      <th>lob_ask</th>\n",
              "    </tr>\n",
              "    <tr>\n",
              "      <th>time</th>\n",
              "      <th></th>\n",
              "      <th></th>\n",
              "      <th></th>\n",
              "      <th></th>\n",
              "      <th></th>\n",
              "      <th></th>\n",
              "      <th></th>\n",
              "      <th></th>\n",
              "      <th></th>\n",
              "      <th></th>\n",
              "    </tr>\n",
              "  </thead>\n",
              "  <tbody>\n",
              "    <tr>\n",
              "      <th>2022-03-18  00:00:00</th>\n",
              "      <td>14066.5</td>\n",
              "      <td>14069.75</td>\n",
              "      <td>14061.75</td>\n",
              "      <td>14066.00</td>\n",
              "      <td>145.0</td>\n",
              "      <td>144.0</td>\n",
              "      <td>60.0</td>\n",
              "      <td>85.0</td>\n",
              "      <td>200.000000|1|578.750000|1|586.500000|1|6490.00...</td>\n",
              "      <td>14019.500000|1|14019.750000|2|14020.000000|1|1...</td>\n",
              "    </tr>\n",
              "    <tr>\n",
              "      <th>2022-03-18  00:01:00</th>\n",
              "      <td>14064.5</td>\n",
              "      <td>14067.75</td>\n",
              "      <td>14063.00</td>\n",
              "      <td>14066.25</td>\n",
              "      <td>66.0</td>\n",
              "      <td>64.0</td>\n",
              "      <td>36.0</td>\n",
              "      <td>30.0</td>\n",
              "      <td>200.000000|1|578.750000|1|586.500000|1|6490.00...</td>\n",
              "      <td>14020.750000|1|14021.000000|1|14021.250000|1|1...</td>\n",
              "    </tr>\n",
              "    <tr>\n",
              "      <th>2022-03-18  00:02:00</th>\n",
              "      <td>14067.0</td>\n",
              "      <td>14068.00</td>\n",
              "      <td>14064.75</td>\n",
              "      <td>14066.25</td>\n",
              "      <td>68.0</td>\n",
              "      <td>64.0</td>\n",
              "      <td>36.0</td>\n",
              "      <td>32.0</td>\n",
              "      <td>200.000000|1|578.750000|1|586.500000|1|6490.00...</td>\n",
              "      <td>14022.500000|3|14022.750000|1|14023.000000|1|1...</td>\n",
              "    </tr>\n",
              "  </tbody>\n",
              "</table>\n",
              "</div>\n",
              "      <button class=\"colab-df-convert\" onclick=\"convertToInteractive('df-f014278d-ebd9-4ea0-81d0-1d2a7e60cabe')\"\n",
              "              title=\"Convert this dataframe to an interactive table.\"\n",
              "              style=\"display:none;\">\n",
              "        \n",
              "  <svg xmlns=\"http://www.w3.org/2000/svg\" height=\"24px\"viewBox=\"0 0 24 24\"\n",
              "       width=\"24px\">\n",
              "    <path d=\"M0 0h24v24H0V0z\" fill=\"none\"/>\n",
              "    <path d=\"M18.56 5.44l.94 2.06.94-2.06 2.06-.94-2.06-.94-.94-2.06-.94 2.06-2.06.94zm-11 1L8.5 8.5l.94-2.06 2.06-.94-2.06-.94L8.5 2.5l-.94 2.06-2.06.94zm10 10l.94 2.06.94-2.06 2.06-.94-2.06-.94-.94-2.06-.94 2.06-2.06.94z\"/><path d=\"M17.41 7.96l-1.37-1.37c-.4-.4-.92-.59-1.43-.59-.52 0-1.04.2-1.43.59L10.3 9.45l-7.72 7.72c-.78.78-.78 2.05 0 2.83L4 21.41c.39.39.9.59 1.41.59.51 0 1.02-.2 1.41-.59l7.78-7.78 2.81-2.81c.8-.78.8-2.07 0-2.86zM5.41 20L4 18.59l7.72-7.72 1.47 1.35L5.41 20z\"/>\n",
              "  </svg>\n",
              "      </button>\n",
              "      \n",
              "  <style>\n",
              "    .colab-df-container {\n",
              "      display:flex;\n",
              "      flex-wrap:wrap;\n",
              "      gap: 12px;\n",
              "    }\n",
              "\n",
              "    .colab-df-convert {\n",
              "      background-color: #E8F0FE;\n",
              "      border: none;\n",
              "      border-radius: 50%;\n",
              "      cursor: pointer;\n",
              "      display: none;\n",
              "      fill: #1967D2;\n",
              "      height: 32px;\n",
              "      padding: 0 0 0 0;\n",
              "      width: 32px;\n",
              "    }\n",
              "\n",
              "    .colab-df-convert:hover {\n",
              "      background-color: #E2EBFA;\n",
              "      box-shadow: 0px 1px 2px rgba(60, 64, 67, 0.3), 0px 1px 3px 1px rgba(60, 64, 67, 0.15);\n",
              "      fill: #174EA6;\n",
              "    }\n",
              "\n",
              "    [theme=dark] .colab-df-convert {\n",
              "      background-color: #3B4455;\n",
              "      fill: #D2E3FC;\n",
              "    }\n",
              "\n",
              "    [theme=dark] .colab-df-convert:hover {\n",
              "      background-color: #434B5C;\n",
              "      box-shadow: 0px 1px 3px 1px rgba(0, 0, 0, 0.15);\n",
              "      filter: drop-shadow(0px 1px 2px rgba(0, 0, 0, 0.3));\n",
              "      fill: #FFFFFF;\n",
              "    }\n",
              "  </style>\n",
              "\n",
              "      <script>\n",
              "        const buttonEl =\n",
              "          document.querySelector('#df-f014278d-ebd9-4ea0-81d0-1d2a7e60cabe button.colab-df-convert');\n",
              "        buttonEl.style.display =\n",
              "          google.colab.kernel.accessAllowed ? 'block' : 'none';\n",
              "\n",
              "        async function convertToInteractive(key) {\n",
              "          const element = document.querySelector('#df-f014278d-ebd9-4ea0-81d0-1d2a7e60cabe');\n",
              "          const dataTable =\n",
              "            await google.colab.kernel.invokeFunction('convertToInteractive',\n",
              "                                                     [key], {});\n",
              "          if (!dataTable) return;\n",
              "\n",
              "          const docLinkHtml = 'Like what you see? Visit the ' +\n",
              "            '<a target=\"_blank\" href=https://colab.research.google.com/notebooks/data_table.ipynb>data table notebook</a>'\n",
              "            + ' to learn more about interactive tables.';\n",
              "          element.innerHTML = '';\n",
              "          dataTable['output_type'] = 'display_data';\n",
              "          await google.colab.output.renderOutput(dataTable, element);\n",
              "          const docLink = document.createElement('div');\n",
              "          docLink.innerHTML = docLinkHtml;\n",
              "          element.appendChild(docLink);\n",
              "        }\n",
              "      </script>\n",
              "    </div>\n",
              "  </div>\n",
              "  "
            ]
          },
          "metadata": {},
          "execution_count": 7
        }
      ],
      "source": [
        "df.head(3)"
      ]
    },
    {
      "cell_type": "code",
      "execution_count": null,
      "metadata": {
        "colab": {
          "base_uri": "https://localhost:8080/"
        },
        "id": "2ktWV1m167Pf",
        "outputId": "ff230b8c-2440-4304-b450-f6855a9eb28c"
      },
      "outputs": [
        {
          "output_type": "stream",
          "name": "stdout",
          "text": [
            "<class 'pandas.core.frame.DataFrame'>\n",
            "Index: 72907 entries, 2022-03-18  00:00:00 to 2022-06-29  16:15:00\n",
            "Data columns (total 10 columns):\n",
            " #   Column     Non-Null Count  Dtype  \n",
            "---  ------     --------------  -----  \n",
            " 0   open       72907 non-null  float64\n",
            " 1   high       72907 non-null  float64\n",
            " 2   low        72907 non-null  float64\n",
            " 3   close      72907 non-null  float64\n",
            " 4   volume     72907 non-null  float64\n",
            " 5   numtrades  72907 non-null  float64\n",
            " 6   bidvolume  72907 non-null  float64\n",
            " 7   askvolume  72907 non-null  float64\n",
            " 8   lob_bid    72907 non-null  object \n",
            " 9   lob_ask    72907 non-null  object \n",
            "dtypes: float64(8), object(2)\n",
            "memory usage: 6.1+ MB\n"
          ]
        }
      ],
      "source": [
        "df.info()"
      ]
    },
    {
      "cell_type": "code",
      "execution_count": null,
      "metadata": {
        "colab": {
          "base_uri": "https://localhost:8080/",
          "height": 300
        },
        "id": "8zK3kJq87aub",
        "outputId": "5f9a6e44-8c17-493c-c3d5-a81251027759"
      },
      "outputs": [
        {
          "output_type": "execute_result",
          "data": {
            "text/plain": [
              "               open          high           low         close        volume  \\\n",
              "count  72907.000000  72907.000000  72907.000000  72907.000000  72907.000000   \n",
              "mean   13339.652328  13343.960775  13335.343534  13339.642065    453.720521   \n",
              "std     1264.345092   1263.763152   1264.884332   1264.338144    702.840828   \n",
              "min    11071.000000  11076.750000  11068.500000  11071.250000      1.000000   \n",
              "25%    12123.000000  12127.250000  12118.000000  12122.875000     60.000000   \n",
              "50%    13458.250000  13464.250000  13453.500000  13458.500000    140.000000   \n",
              "75%    14458.250000  14462.500000  14453.750000  14458.250000    600.000000   \n",
              "max    15310.750000  15311.500000  15307.000000  15310.750000  14469.000000   \n",
              "\n",
              "          numtrades     bidvolume     askvolume  \n",
              "count  72907.000000  72907.000000  72907.000000  \n",
              "mean     413.374491    227.202546    226.517975  \n",
              "std      633.438076    354.099034    354.567693  \n",
              "min        1.000000      0.000000      0.000000  \n",
              "25%       55.000000     29.000000     29.000000  \n",
              "50%      128.000000     70.000000     70.000000  \n",
              "75%      549.000000    299.000000    298.000000  \n",
              "max    11819.000000   7066.000000   7403.000000  "
            ],
            "text/html": [
              "\n",
              "  <div id=\"df-6762fb81-558b-44ac-82be-244d13dfb107\">\n",
              "    <div class=\"colab-df-container\">\n",
              "      <div>\n",
              "<style scoped>\n",
              "    .dataframe tbody tr th:only-of-type {\n",
              "        vertical-align: middle;\n",
              "    }\n",
              "\n",
              "    .dataframe tbody tr th {\n",
              "        vertical-align: top;\n",
              "    }\n",
              "\n",
              "    .dataframe thead th {\n",
              "        text-align: right;\n",
              "    }\n",
              "</style>\n",
              "<table border=\"1\" class=\"dataframe\">\n",
              "  <thead>\n",
              "    <tr style=\"text-align: right;\">\n",
              "      <th></th>\n",
              "      <th>open</th>\n",
              "      <th>high</th>\n",
              "      <th>low</th>\n",
              "      <th>close</th>\n",
              "      <th>volume</th>\n",
              "      <th>numtrades</th>\n",
              "      <th>bidvolume</th>\n",
              "      <th>askvolume</th>\n",
              "    </tr>\n",
              "  </thead>\n",
              "  <tbody>\n",
              "    <tr>\n",
              "      <th>count</th>\n",
              "      <td>72907.000000</td>\n",
              "      <td>72907.000000</td>\n",
              "      <td>72907.000000</td>\n",
              "      <td>72907.000000</td>\n",
              "      <td>72907.000000</td>\n",
              "      <td>72907.000000</td>\n",
              "      <td>72907.000000</td>\n",
              "      <td>72907.000000</td>\n",
              "    </tr>\n",
              "    <tr>\n",
              "      <th>mean</th>\n",
              "      <td>13339.652328</td>\n",
              "      <td>13343.960775</td>\n",
              "      <td>13335.343534</td>\n",
              "      <td>13339.642065</td>\n",
              "      <td>453.720521</td>\n",
              "      <td>413.374491</td>\n",
              "      <td>227.202546</td>\n",
              "      <td>226.517975</td>\n",
              "    </tr>\n",
              "    <tr>\n",
              "      <th>std</th>\n",
              "      <td>1264.345092</td>\n",
              "      <td>1263.763152</td>\n",
              "      <td>1264.884332</td>\n",
              "      <td>1264.338144</td>\n",
              "      <td>702.840828</td>\n",
              "      <td>633.438076</td>\n",
              "      <td>354.099034</td>\n",
              "      <td>354.567693</td>\n",
              "    </tr>\n",
              "    <tr>\n",
              "      <th>min</th>\n",
              "      <td>11071.000000</td>\n",
              "      <td>11076.750000</td>\n",
              "      <td>11068.500000</td>\n",
              "      <td>11071.250000</td>\n",
              "      <td>1.000000</td>\n",
              "      <td>1.000000</td>\n",
              "      <td>0.000000</td>\n",
              "      <td>0.000000</td>\n",
              "    </tr>\n",
              "    <tr>\n",
              "      <th>25%</th>\n",
              "      <td>12123.000000</td>\n",
              "      <td>12127.250000</td>\n",
              "      <td>12118.000000</td>\n",
              "      <td>12122.875000</td>\n",
              "      <td>60.000000</td>\n",
              "      <td>55.000000</td>\n",
              "      <td>29.000000</td>\n",
              "      <td>29.000000</td>\n",
              "    </tr>\n",
              "    <tr>\n",
              "      <th>50%</th>\n",
              "      <td>13458.250000</td>\n",
              "      <td>13464.250000</td>\n",
              "      <td>13453.500000</td>\n",
              "      <td>13458.500000</td>\n",
              "      <td>140.000000</td>\n",
              "      <td>128.000000</td>\n",
              "      <td>70.000000</td>\n",
              "      <td>70.000000</td>\n",
              "    </tr>\n",
              "    <tr>\n",
              "      <th>75%</th>\n",
              "      <td>14458.250000</td>\n",
              "      <td>14462.500000</td>\n",
              "      <td>14453.750000</td>\n",
              "      <td>14458.250000</td>\n",
              "      <td>600.000000</td>\n",
              "      <td>549.000000</td>\n",
              "      <td>299.000000</td>\n",
              "      <td>298.000000</td>\n",
              "    </tr>\n",
              "    <tr>\n",
              "      <th>max</th>\n",
              "      <td>15310.750000</td>\n",
              "      <td>15311.500000</td>\n",
              "      <td>15307.000000</td>\n",
              "      <td>15310.750000</td>\n",
              "      <td>14469.000000</td>\n",
              "      <td>11819.000000</td>\n",
              "      <td>7066.000000</td>\n",
              "      <td>7403.000000</td>\n",
              "    </tr>\n",
              "  </tbody>\n",
              "</table>\n",
              "</div>\n",
              "      <button class=\"colab-df-convert\" onclick=\"convertToInteractive('df-6762fb81-558b-44ac-82be-244d13dfb107')\"\n",
              "              title=\"Convert this dataframe to an interactive table.\"\n",
              "              style=\"display:none;\">\n",
              "        \n",
              "  <svg xmlns=\"http://www.w3.org/2000/svg\" height=\"24px\"viewBox=\"0 0 24 24\"\n",
              "       width=\"24px\">\n",
              "    <path d=\"M0 0h24v24H0V0z\" fill=\"none\"/>\n",
              "    <path d=\"M18.56 5.44l.94 2.06.94-2.06 2.06-.94-2.06-.94-.94-2.06-.94 2.06-2.06.94zm-11 1L8.5 8.5l.94-2.06 2.06-.94-2.06-.94L8.5 2.5l-.94 2.06-2.06.94zm10 10l.94 2.06.94-2.06 2.06-.94-2.06-.94-.94-2.06-.94 2.06-2.06.94z\"/><path d=\"M17.41 7.96l-1.37-1.37c-.4-.4-.92-.59-1.43-.59-.52 0-1.04.2-1.43.59L10.3 9.45l-7.72 7.72c-.78.78-.78 2.05 0 2.83L4 21.41c.39.39.9.59 1.41.59.51 0 1.02-.2 1.41-.59l7.78-7.78 2.81-2.81c.8-.78.8-2.07 0-2.86zM5.41 20L4 18.59l7.72-7.72 1.47 1.35L5.41 20z\"/>\n",
              "  </svg>\n",
              "      </button>\n",
              "      \n",
              "  <style>\n",
              "    .colab-df-container {\n",
              "      display:flex;\n",
              "      flex-wrap:wrap;\n",
              "      gap: 12px;\n",
              "    }\n",
              "\n",
              "    .colab-df-convert {\n",
              "      background-color: #E8F0FE;\n",
              "      border: none;\n",
              "      border-radius: 50%;\n",
              "      cursor: pointer;\n",
              "      display: none;\n",
              "      fill: #1967D2;\n",
              "      height: 32px;\n",
              "      padding: 0 0 0 0;\n",
              "      width: 32px;\n",
              "    }\n",
              "\n",
              "    .colab-df-convert:hover {\n",
              "      background-color: #E2EBFA;\n",
              "      box-shadow: 0px 1px 2px rgba(60, 64, 67, 0.3), 0px 1px 3px 1px rgba(60, 64, 67, 0.15);\n",
              "      fill: #174EA6;\n",
              "    }\n",
              "\n",
              "    [theme=dark] .colab-df-convert {\n",
              "      background-color: #3B4455;\n",
              "      fill: #D2E3FC;\n",
              "    }\n",
              "\n",
              "    [theme=dark] .colab-df-convert:hover {\n",
              "      background-color: #434B5C;\n",
              "      box-shadow: 0px 1px 3px 1px rgba(0, 0, 0, 0.15);\n",
              "      filter: drop-shadow(0px 1px 2px rgba(0, 0, 0, 0.3));\n",
              "      fill: #FFFFFF;\n",
              "    }\n",
              "  </style>\n",
              "\n",
              "      <script>\n",
              "        const buttonEl =\n",
              "          document.querySelector('#df-6762fb81-558b-44ac-82be-244d13dfb107 button.colab-df-convert');\n",
              "        buttonEl.style.display =\n",
              "          google.colab.kernel.accessAllowed ? 'block' : 'none';\n",
              "\n",
              "        async function convertToInteractive(key) {\n",
              "          const element = document.querySelector('#df-6762fb81-558b-44ac-82be-244d13dfb107');\n",
              "          const dataTable =\n",
              "            await google.colab.kernel.invokeFunction('convertToInteractive',\n",
              "                                                     [key], {});\n",
              "          if (!dataTable) return;\n",
              "\n",
              "          const docLinkHtml = 'Like what you see? Visit the ' +\n",
              "            '<a target=\"_blank\" href=https://colab.research.google.com/notebooks/data_table.ipynb>data table notebook</a>'\n",
              "            + ' to learn more about interactive tables.';\n",
              "          element.innerHTML = '';\n",
              "          dataTable['output_type'] = 'display_data';\n",
              "          await google.colab.output.renderOutput(dataTable, element);\n",
              "          const docLink = document.createElement('div');\n",
              "          docLink.innerHTML = docLinkHtml;\n",
              "          element.appendChild(docLink);\n",
              "        }\n",
              "      </script>\n",
              "    </div>\n",
              "  </div>\n",
              "  "
            ]
          },
          "metadata": {},
          "execution_count": 9
        }
      ],
      "source": [
        "df.describe()"
      ]
    },
    {
      "cell_type": "markdown",
      "metadata": {
        "id": "uhOljGL_vClR"
      },
      "source": [
        "## null items\n"
      ]
    },
    {
      "cell_type": "code",
      "execution_count": null,
      "metadata": {
        "colab": {
          "base_uri": "https://localhost:8080/"
        },
        "id": "22lzGASeeMT2",
        "outputId": "cf7ca765-4e9a-4c55-843e-2e6c4cf59a37"
      },
      "outputs": [
        {
          "output_type": "execute_result",
          "data": {
            "text/plain": [
              "open         0\n",
              "high         0\n",
              "low          0\n",
              "close        0\n",
              "volume       0\n",
              "numtrades    0\n",
              "bidvolume    0\n",
              "askvolume    0\n",
              "lob_bid      0\n",
              "lob_ask      0\n",
              "dtype: int64"
            ]
          },
          "metadata": {},
          "execution_count": 10
        }
      ],
      "source": [
        "df.isnull().sum()"
      ]
    },
    {
      "cell_type": "markdown",
      "metadata": {
        "id": "mikaunIlu8Ap"
      },
      "source": [
        "## Outliers"
      ]
    },
    {
      "cell_type": "code",
      "execution_count": null,
      "metadata": {
        "colab": {
          "base_uri": "https://localhost:8080/"
        },
        "id": "BfxnVkvotPsM",
        "outputId": "efaa7024-e014-4e34-f0af-76653198eaca"
      },
      "outputs": [
        {
          "output_type": "execute_result",
          "data": {
            "text/plain": [
              "open         -1.327697\n",
              "high         -1.327039\n",
              "low          -1.328361\n",
              "close        -1.327696\n",
              "volume       24.174307\n",
              "numtrades    18.861598\n",
              "bidvolume    23.645504\n",
              "askvolume    25.204776\n",
              "dtype: float64"
            ]
          },
          "metadata": {},
          "execution_count": 11
        }
      ],
      "source": [
        "# Return unbiased kurtosis over requested axis using Fisher's definition of kurtosis (kurtosis of normal == 0.0).\n",
        "# The result is normalized by N-1\n",
        "kurt = df.kurt(numeric_only=True)[:]\n",
        "kurt"
      ]
    },
    {
      "cell_type": "code",
      "execution_count": null,
      "metadata": {
        "colab": {
          "base_uri": "https://localhost:8080/",
          "height": 1000
        },
        "id": "kypeqr1xtsbw",
        "outputId": "707ec35e-347d-4587-c755-d48ee9f7a431"
      },
      "outputs": [
        {
          "output_type": "display_data",
          "data": {
            "text/plain": [
              "<Figure size 288x288 with 1 Axes>"
            ],
            "image/png": "[encoded data removed]"
          },
          "metadata": {}
        },
        {
          "output_type": "display_data",
          "data": {
            "text/plain": [
              "<Figure size 288x288 with 1 Axes>"
            ],
            "image/png": "[encoded data removed]"
          },
          "metadata": {}
        },
        {
          "output_type": "display_data",
          "data": {
            "text/plain": [
              "<Figure size 288x288 with 1 Axes>"
            ],
            "image/png": "[encoded data removed]"
          },
          "metadata": {}
        },
        {
          "output_type": "display_data",
          "data": {
            "text/plain": [
              "<Figure size 288x288 with 1 Axes>"
            ],
            "image/png": "[encoded data removed]"
          },
          "metadata": {}
        }
      ],
      "source": [
        "outliers = [\"volume\", \"numtrades\", \"bidvolume\", \"askvolume\"]\n",
        "for col in outliers:\n",
        "    plt.figure(figsize=(4, 4))\n",
        "    df.boxplot(column=[col])"
      ]
    },
    {
      "cell_type": "code",
      "execution_count": null,
      "metadata": {
        "id": "3AYCnLuTuAZR"
      },
      "outputs": [],
      "source": [
        "def outliers_iqr(ys):\n",
        "    quartile_1, quartile_3 = np.percentile(ys, [25, 75])\n",
        "    iqr = quartile_3 - quartile_1\n",
        "    lower_bound = quartile_1 - (iqr * 1.5)\n",
        "    upper_bound = quartile_3 + (iqr * 1.5)\n",
        "    return np.where((ys > upper_bound) | (ys < lower_bound))\n",
        "\n",
        "def outliers_z_score(ys):\n",
        "    threshold = 3\n",
        "    mean_y = np.mean(ys)\n",
        "    stdev_y = np.std(ys)\n",
        "    z_scores = [(y - mean_y) / stdev_y for y in ys]\n",
        "    return np.where(np.abs(z_scores) > threshold)"
      ]
    },
    {
      "cell_type": "code",
      "execution_count": null,
      "metadata": {
        "colab": {
          "base_uri": "https://localhost:8080/"
        },
        "id": "88dTR0gNuFXa",
        "outputId": "07c6b7a2-f50b-4ae4-c815-3436a6c6b0d9"
      },
      "outputs": [
        {
          "output_type": "stream",
          "name": "stdout",
          "text": [
            "volume: 6380\n",
            "numtrades: 6335\n",
            "bidvolume: 6380\n",
            "askvolume: 6403\n"
          ]
        }
      ],
      "source": [
        "for col in outliers:\n",
        "    print(f'{col}: {len(outliers_iqr(df[col])[0])}')"
      ]
    },
    {
      "cell_type": "code",
      "execution_count": null,
      "metadata": {
        "colab": {
          "base_uri": "https://localhost:8080/"
        },
        "id": "KiC9mhyluGtn",
        "outputId": "64babb7c-9023-4fb0-9f84-4f1d4cee6afb"
      },
      "outputs": [
        {
          "output_type": "stream",
          "name": "stdout",
          "text": [
            "volume: 1487\n",
            "numtrades: 1530\n",
            "bidvolume: 1495\n",
            "askvolume: 1493\n"
          ]
        }
      ],
      "source": [
        "for col in outliers:\n",
        "    print(f'{col}: {len(outliers_z_score(df[col])[0])}')"
      ]
    },
    {
      "cell_type": "code",
      "execution_count": null,
      "metadata": {
        "id": "gJ8V5BIMuXHa"
      },
      "outputs": [],
      "source": [
        "for i in outliers:\n",
        "    mean_y = np.mean(df[i])\n",
        "    stdev_y = np.std(df[i])\n",
        "    lower_bound = mean_y - (3 * stdev_y)\n",
        "    upper_bound = mean_y + (3 * stdev_y)\n",
        "    df = df[df[i]<upper_bound]\n",
        "    df = df[df[i]>lower_bound]"
      ]
    },
    {
      "cell_type": "code",
      "execution_count": null,
      "metadata": {
        "colab": {
          "base_uri": "https://localhost:8080/"
        },
        "id": "Vw-hajRCuhlJ",
        "outputId": "50fa33e2-35f0-42b7-e8d5-bdb4d4e4a1be"
      },
      "outputs": [
        {
          "output_type": "execute_result",
          "data": {
            "text/plain": [
              "(67121, 10)"
            ]
          },
          "metadata": {},
          "execution_count": 17
        }
      ],
      "source": [
        "df.shape"
      ]
    },
    {
      "cell_type": "markdown",
      "metadata": {
        "id": "QcjTEERPgCcI"
      },
      "source": [
        "## visualizing stock prices history"
      ]
    },
    {
      "cell_type": "code",
      "execution_count": null,
      "metadata": {
        "colab": {
          "base_uri": "https://localhost:8080/",
          "height": 354
        },
        "id": "SY_2xn1kafuM",
        "outputId": "eed96175-2579-48e1-a7e9-f5f9c63629f4"
      },
      "outputs": [
        {
          "output_type": "execute_result",
          "data": {
            "text/plain": [
              "Text(0.5, 1.0, 'the total volume of stock being traded for E-mini Nasdaq-100')"
            ]
          },
          "metadata": {},
          "execution_count": 18
        },
        {
          "output_type": "display_data",
          "data": {
            "text/plain": [
              "<Figure size 1296x360 with 1 Axes>"
            ],
            "image/png": "[encoded data removed]"
          },
          "metadata": {}
        }
      ],
      "source": [
        "plt.figure(figsize=(18,5))\n",
        "df['close'].plot()\n",
        "plt.ylabel('Volume')\n",
        "plt.xlabel(None)\n",
        "plt.title(f\"the total volume of stock being traded for E-mini Nasdaq-100\")"
      ]
    },
    {
      "cell_type": "code",
      "source": [
        "features = [\"open\", \"high\",\t\"low\", \"close\",\t\"volume\",\t\"numtrades\",\t\"bidvolume\",\t\"askvolume\"]\n",
        " \n",
        "plt.subplots(figsize=(20,10))\n",
        " \n",
        "for i, col in enumerate(features):\n",
        "  plt.subplot(2,4,i+1)\n",
        "  sb.distplot(df[col])\n",
        "plt.show()"
      ],
      "metadata": {
        "colab": {
          "base_uri": "https://localhost:8080/",
          "height": 609
        },
        "id": "9n2cG-LVuj0G",
        "outputId": "1df69143-a3e0-4cbf-8e6d-f1337ac191c9"
      },
      "execution_count": null,
      "outputs": [
        {
          "output_type": "display_data",
          "data": {
            "text/plain": [
              "<Figure size 1440x720 with 8 Axes>"
            ],
            "image/png": "[encoded data removed]"
          },
          "metadata": {}
        }
      ]
    },
    {
      "cell_type": "markdown",
      "metadata": {
        "id": "0sMXmaHtgdmt"
      },
      "source": [
        "### The total volume of stock"
      ]
    },
    {
      "cell_type": "code",
      "execution_count": null,
      "metadata": {
        "colab": {
          "base_uri": "https://localhost:8080/",
          "height": 354
        },
        "id": "FtskSXs1ghFe",
        "outputId": "05f29f87-09eb-499c-b26d-526594b1a02c"
      },
      "outputs": [
        {
          "output_type": "execute_result",
          "data": {
            "text/plain": [
              "Text(0.5, 1.0, 'the total volume of stock being traded each day for E-mini Nasdaq-100')"
            ]
          },
          "metadata": {},
          "execution_count": 20
        },
        {
          "output_type": "display_data",
          "data": {
            "text/plain": [
              "<Figure size 1296x360 with 1 Axes>"
            ],
            "image/png": "[encoded data removed]"
          },
          "metadata": {}
        }
      ],
      "source": [
        "plt.figure(figsize=(18,5))\n",
        "df['volume'].plot()\n",
        "plt.ylabel('Volume')\n",
        "plt.xlabel(None)\n",
        "plt.title(f\"the total volume of stock being traded each day for E-mini Nasdaq-100\")"
      ]
    },
    {
      "cell_type": "markdown",
      "metadata": {
        "id": "AdUHw77pgyed"
      },
      "source": [
        "### Moving averages"
      ]
    },
    {
      "cell_type": "code",
      "execution_count": null,
      "metadata": {
        "colab": {
          "base_uri": "https://localhost:8080/",
          "height": 175
        },
        "id": "WR6yJwgGmlaJ",
        "outputId": "5992e634-2cc6-46b0-9d76-1d90b9b4224e"
      },
      "outputs": [
        {
          "output_type": "execute_result",
          "data": {
            "text/plain": [
              "                    open          high           low         close  \\\n",
              "time                                                                 \n",
              "2022-03-18  14141.586726  14144.865140  14138.221374  14141.714801   \n",
              "2022-03-20  14453.708333  14456.345833  14451.579167  14453.681250   \n",
              "2022-03-21  14396.346698  14399.521030  14392.863404  14396.116352   \n",
              "\n",
              "                volume   numtrades   bidvolume   askvolume  \n",
              "time                                                        \n",
              "2022-03-18  304.256997  275.206107  151.964377  152.292621  \n",
              "2022-03-20   72.683333   65.491667   35.941667   36.741667  \n",
              "2022-03-21  282.197327  259.839623  142.043239  140.154088  "
            ],
            "text/html": [
              "\n",
              "  <div id=\"df-68256cb5-bb31-41bd-9a29-006fd9ffc111\">\n",
              "    <div class=\"colab-df-container\">\n",
              "      <div>\n",
              "<style scoped>\n",
              "    .dataframe tbody tr th:only-of-type {\n",
              "        vertical-align: middle;\n",
              "    }\n",
              "\n",
              "    .dataframe tbody tr th {\n",
              "        vertical-align: top;\n",
              "    }\n",
              "\n",
              "    .dataframe thead th {\n",
              "        text-align: right;\n",
              "    }\n",
              "</style>\n",
              "<table border=\"1\" class=\"dataframe\">\n",
              "  <thead>\n",
              "    <tr style=\"text-align: right;\">\n",
              "      <th></th>\n",
              "      <th>open</th>\n",
              "      <th>high</th>\n",
              "      <th>low</th>\n",
              "      <th>close</th>\n",
              "      <th>volume</th>\n",
              "      <th>numtrades</th>\n",
              "      <th>bidvolume</th>\n",
              "      <th>askvolume</th>\n",
              "    </tr>\n",
              "    <tr>\n",
              "      <th>time</th>\n",
              "      <th></th>\n",
              "      <th></th>\n",
              "      <th></th>\n",
              "      <th></th>\n",
              "      <th></th>\n",
              "      <th></th>\n",
              "      <th></th>\n",
              "      <th></th>\n",
              "    </tr>\n",
              "  </thead>\n",
              "  <tbody>\n",
              "    <tr>\n",
              "      <th>2022-03-18</th>\n",
              "      <td>14141.586726</td>\n",
              "      <td>14144.865140</td>\n",
              "      <td>14138.221374</td>\n",
              "      <td>14141.714801</td>\n",
              "      <td>304.256997</td>\n",
              "      <td>275.206107</td>\n",
              "      <td>151.964377</td>\n",
              "      <td>152.292621</td>\n",
              "    </tr>\n",
              "    <tr>\n",
              "      <th>2022-03-20</th>\n",
              "      <td>14453.708333</td>\n",
              "      <td>14456.345833</td>\n",
              "      <td>14451.579167</td>\n",
              "      <td>14453.681250</td>\n",
              "      <td>72.683333</td>\n",
              "      <td>65.491667</td>\n",
              "      <td>35.941667</td>\n",
              "      <td>36.741667</td>\n",
              "    </tr>\n",
              "    <tr>\n",
              "      <th>2022-03-21</th>\n",
              "      <td>14396.346698</td>\n",
              "      <td>14399.521030</td>\n",
              "      <td>14392.863404</td>\n",
              "      <td>14396.116352</td>\n",
              "      <td>282.197327</td>\n",
              "      <td>259.839623</td>\n",
              "      <td>142.043239</td>\n",
              "      <td>140.154088</td>\n",
              "    </tr>\n",
              "  </tbody>\n",
              "</table>\n",
              "</div>\n",
              "      <button class=\"colab-df-convert\" onclick=\"convertToInteractive('df-68256cb5-bb31-41bd-9a29-006fd9ffc111')\"\n",
              "              title=\"Convert this dataframe to an interactive table.\"\n",
              "              style=\"display:none;\">\n",
              "        \n",
              "  <svg xmlns=\"http://www.w3.org/2000/svg\" height=\"24px\"viewBox=\"0 0 24 24\"\n",
              "       width=\"24px\">\n",
              "    <path d=\"M0 0h24v24H0V0z\" fill=\"none\"/>\n",
              "    <path d=\"M18.56 5.44l.94 2.06.94-2.06 2.06-.94-2.06-.94-.94-2.06-.94 2.06-2.06.94zm-11 1L8.5 8.5l.94-2.06 2.06-.94-2.06-.94L8.5 2.5l-.94 2.06-2.06.94zm10 10l.94 2.06.94-2.06 2.06-.94-2.06-.94-.94-2.06-.94 2.06-2.06.94z\"/><path d=\"M17.41 7.96l-1.37-1.37c-.4-.4-.92-.59-1.43-.59-.52 0-1.04.2-1.43.59L10.3 9.45l-7.72 7.72c-.78.78-.78 2.05 0 2.83L4 21.41c.39.39.9.59 1.41.59.51 0 1.02-.2 1.41-.59l7.78-7.78 2.81-2.81c.8-.78.8-2.07 0-2.86zM5.41 20L4 18.59l7.72-7.72 1.47 1.35L5.41 20z\"/>\n",
              "  </svg>\n",
              "      </button>\n",
              "      \n",
              "  <style>\n",
              "    .colab-df-container {\n",
              "      display:flex;\n",
              "      flex-wrap:wrap;\n",
              "      gap: 12px;\n",
              "    }\n",
              "\n",
              "    .colab-df-convert {\n",
              "      background-color: #E8F0FE;\n",
              "      border: none;\n",
              "      border-radius: 50%;\n",
              "      cursor: pointer;\n",
              "      display: none;\n",
              "      fill: #1967D2;\n",
              "      height: 32px;\n",
              "      padding: 0 0 0 0;\n",
              "      width: 32px;\n",
              "    }\n",
              "\n",
              "    .colab-df-convert:hover {\n",
              "      background-color: #E2EBFA;\n",
              "      box-shadow: 0px 1px 2px rgba(60, 64, 67, 0.3), 0px 1px 3px 1px rgba(60, 64, 67, 0.15);\n",
              "      fill: #174EA6;\n",
              "    }\n",
              "\n",
              "    [theme=dark] .colab-df-convert {\n",
              "      background-color: #3B4455;\n",
              "      fill: #D2E3FC;\n",
              "    }\n",
              "\n",
              "    [theme=dark] .colab-df-convert:hover {\n",
              "      background-color: #434B5C;\n",
              "      box-shadow: 0px 1px 3px 1px rgba(0, 0, 0, 0.15);\n",
              "      filter: drop-shadow(0px 1px 2px rgba(0, 0, 0, 0.3));\n",
              "      fill: #FFFFFF;\n",
              "    }\n",
              "  </style>\n",
              "\n",
              "      <script>\n",
              "        const buttonEl =\n",
              "          document.querySelector('#df-68256cb5-bb31-41bd-9a29-006fd9ffc111 button.colab-df-convert');\n",
              "        buttonEl.style.display =\n",
              "          google.colab.kernel.accessAllowed ? 'block' : 'none';\n",
              "\n",
              "        async function convertToInteractive(key) {\n",
              "          const element = document.querySelector('#df-68256cb5-bb31-41bd-9a29-006fd9ffc111');\n",
              "          const dataTable =\n",
              "            await google.colab.kernel.invokeFunction('convertToInteractive',\n",
              "                                                     [key], {});\n",
              "          if (!dataTable) return;\n",
              "\n",
              "          const docLinkHtml = 'Like what you see? Visit the ' +\n",
              "            '<a target=\"_blank\" href=https://colab.research.google.com/notebooks/data_table.ipynb>data table notebook</a>'\n",
              "            + ' to learn more about interactive tables.';\n",
              "          element.innerHTML = '';\n",
              "          dataTable['output_type'] = 'display_data';\n",
              "          await google.colab.output.renderOutput(dataTable, element);\n",
              "          const docLink = document.createElement('div');\n",
              "          docLink.innerHTML = docLinkHtml;\n",
              "          element.appendChild(docLink);\n",
              "        }\n",
              "      </script>\n",
              "    </div>\n",
              "  </div>\n",
              "  "
            ]
          },
          "metadata": {},
          "execution_count": 21
        }
      ],
      "source": [
        "#dataframe daily\n",
        "df_daily = df.copy()\n",
        "df_daily.index = pd.to_datetime(df_daily.index)\n",
        "df_daily = df_daily.resample('D').mean()\n",
        "df_daily.dropna(axis = 0, inplace=True)\n",
        "df_daily.head(3)"
      ]
    },
    {
      "cell_type": "code",
      "execution_count": null,
      "metadata": {
        "id": "fELVyi9Cg1hd"
      },
      "outputs": [],
      "source": [
        "df_daily['ma for 5 days'] = df_daily['close'].rolling(5).mean()"
      ]
    },
    {
      "cell_type": "code",
      "execution_count": null,
      "metadata": {
        "colab": {
          "base_uri": "https://localhost:8080/",
          "height": 323
        },
        "id": "UfNCML9BhTC1",
        "outputId": "471841cc-5f60-4a1d-fb95-b41ead8bd81a"
      },
      "outputs": [
        {
          "output_type": "execute_result",
          "data": {
            "text/plain": [
              "<matplotlib.axes._subplots.AxesSubplot at 0x7f25e0086bd0>"
            ]
          },
          "metadata": {},
          "execution_count": 23
        },
        {
          "output_type": "display_data",
          "data": {
            "text/plain": [
              "<Figure size 1296x360 with 0 Axes>"
            ]
          },
          "metadata": {}
        },
        {
          "output_type": "display_data",
          "data": {
            "text/plain": [
              "<Figure size 432x288 with 1 Axes>"
            ],
            "image/png": "[encoded data removed]"
          },
          "metadata": {}
        }
      ],
      "source": [
        "plt.figure(figsize=(18,5))\n",
        "\n",
        "df_daily[['close', 'ma for 5 days']].plot()"
      ]
    },
    {
      "cell_type": "code",
      "source": [
        "del df_daily\n",
        "gc.collect()"
      ],
      "metadata": {
        "colab": {
          "base_uri": "https://localhost:8080/"
        },
        "id": "emIyt9SCN6dR",
        "outputId": "1a087843-155a-444d-b31d-3841739ec1c4"
      },
      "execution_count": null,
      "outputs": [
        {
          "output_type": "execute_result",
          "data": {
            "text/plain": [
              "41509"
            ]
          },
          "metadata": {},
          "execution_count": 24
        }
      ]
    },
    {
      "cell_type": "markdown",
      "metadata": {
        "id": "XFW8FmDagf7X"
      },
      "source": [
        "# DATA LABELING"
      ]
    },
    {
      "cell_type": "markdown",
      "source": [
        "## close price labeling"
      ],
      "metadata": {
        "id": "wewDLBTplZMa"
      }
    },
    {
      "cell_type": "code",
      "execution_count": null,
      "metadata": {
        "id": "vZK3Yc-f0b1H"
      },
      "outputs": [],
      "source": [
        "alpha_up = 0.5\n",
        "alpha_down = -0.5\n",
        "def filter(x):\n",
        "    if x > alpha_up:\n",
        "      x = +1\n",
        "      return x\n",
        "    elif x < alpha_down:\n",
        "      x=-1\n",
        "      return x\n",
        "    else:\n",
        "        return 0"
      ]
    },
    {
      "cell_type": "code",
      "execution_count": null,
      "metadata": {
        "id": "DGiEFMLWvobn"
      },
      "outputs": [],
      "source": [
        "df['close_change'] = df['close'].diff()\n",
        "df['close_lable'] = df[\"close_change\"].apply(filter)\n",
        "df.fillna(0, inplace=True)"
      ]
    },
    {
      "cell_type": "code",
      "execution_count": null,
      "metadata": {
        "colab": {
          "base_uri": "https://localhost:8080/",
          "height": 343
        },
        "id": "i7nsZx7S0guI",
        "outputId": "352cdfe1-a072-4d2a-cb86-747afb927ff4"
      },
      "outputs": [
        {
          "output_type": "execute_result",
          "data": {
            "text/plain": [
              "                         open      high       low     close  volume  \\\n",
              "time                                                                  \n",
              "2022-03-18  00:00:00  14066.5  14069.75  14061.75  14066.00   145.0   \n",
              "2022-03-18  00:01:00  14064.5  14067.75  14063.00  14066.25    66.0   \n",
              "2022-03-18  00:02:00  14067.0  14068.00  14064.75  14066.25    68.0   \n",
              "\n",
              "                      numtrades  bidvolume  askvolume  \\\n",
              "time                                                    \n",
              "2022-03-18  00:00:00      144.0       60.0       85.0   \n",
              "2022-03-18  00:01:00       64.0       36.0       30.0   \n",
              "2022-03-18  00:02:00       64.0       36.0       32.0   \n",
              "\n",
              "                                                                lob_bid  \\\n",
              "time                                                                      \n",
              "2022-03-18  00:00:00  200.000000|1|578.750000|1|586.500000|1|6490.00...   \n",
              "2022-03-18  00:01:00  200.000000|1|578.750000|1|586.500000|1|6490.00...   \n",
              "2022-03-18  00:02:00  200.000000|1|578.750000|1|586.500000|1|6490.00...   \n",
              "\n",
              "                                                                lob_ask  \\\n",
              "time                                                                      \n",
              "2022-03-18  00:00:00  14019.500000|1|14019.750000|2|14020.000000|1|1...   \n",
              "2022-03-18  00:01:00  14020.750000|1|14021.000000|1|14021.250000|1|1...   \n",
              "2022-03-18  00:02:00  14022.500000|3|14022.750000|1|14023.000000|1|1...   \n",
              "\n",
              "                      close_change  close_lable  \n",
              "time                                             \n",
              "2022-03-18  00:00:00          0.00            0  \n",
              "2022-03-18  00:01:00          0.25            0  \n",
              "2022-03-18  00:02:00          0.00            0  "
            ],
            "text/html": [
              "\n",
              "  <div id=\"df-25b95ca5-d430-436e-ae21-a01d8da8a2bf\">\n",
              "    <div class=\"colab-df-container\">\n",
              "      <div>\n",
              "<style scoped>\n",
              "    .dataframe tbody tr th:only-of-type {\n",
              "        vertical-align: middle;\n",
              "    }\n",
              "\n",
              "    .dataframe tbody tr th {\n",
              "        vertical-align: top;\n",
              "    }\n",
              "\n",
              "    .dataframe thead th {\n",
              "        text-align: right;\n",
              "    }\n",
              "</style>\n",
              "<table border=\"1\" class=\"dataframe\">\n",
              "  <thead>\n",
              "    <tr style=\"text-align: right;\">\n",
              "      <th></th>\n",
              "      <th>open</th>\n",
              "      <th>high</th>\n",
              "      <th>low</th>\n",
              "      <th>close</th>\n",
              "      <th>volume</th>\n",
              "      <th>numtrades</th>\n",
              "      <th>bidvolume</th>\n",
              "      <th>askvolume</th>\n",
              "      <th>lob_bid</th>\n",
              "      <th>lob_ask</th>\n",
              "      <th>close_change</th>\n",
              "      <th>close_lable</th>\n",
              "    </tr>\n",
              "    <tr>\n",
              "      <th>time</th>\n",
              "      <th></th>\n",
              "      <th></th>\n",
              "      <th></th>\n",
              "      <th></th>\n",
              "      <th></th>\n",
              "      <th></th>\n",
              "      <th></th>\n",
              "      <th></th>\n",
              "      <th></th>\n",
              "      <th></th>\n",
              "      <th></th>\n",
              "      <th></th>\n",
              "    </tr>\n",
              "  </thead>\n",
              "  <tbody>\n",
              "    <tr>\n",
              "      <th>2022-03-18  00:00:00</th>\n",
              "      <td>14066.5</td>\n",
              "      <td>14069.75</td>\n",
              "      <td>14061.75</td>\n",
              "      <td>14066.00</td>\n",
              "      <td>145.0</td>\n",
              "      <td>144.0</td>\n",
              "      <td>60.0</td>\n",
              "      <td>85.0</td>\n",
              "      <td>200.000000|1|578.750000|1|586.500000|1|6490.00...</td>\n",
              "      <td>14019.500000|1|14019.750000|2|14020.000000|1|1...</td>\n",
              "      <td>0.00</td>\n",
              "      <td>0</td>\n",
              "    </tr>\n",
              "    <tr>\n",
              "      <th>2022-03-18  00:01:00</th>\n",
              "      <td>14064.5</td>\n",
              "      <td>14067.75</td>\n",
              "      <td>14063.00</td>\n",
              "      <td>14066.25</td>\n",
              "      <td>66.0</td>\n",
              "      <td>64.0</td>\n",
              "      <td>36.0</td>\n",
              "      <td>30.0</td>\n",
              "      <td>200.000000|1|578.750000|1|586.500000|1|6490.00...</td>\n",
              "      <td>14020.750000|1|14021.000000|1|14021.250000|1|1...</td>\n",
              "      <td>0.25</td>\n",
              "      <td>0</td>\n",
              "    </tr>\n",
              "    <tr>\n",
              "      <th>2022-03-18  00:02:00</th>\n",
              "      <td>14067.0</td>\n",
              "      <td>14068.00</td>\n",
              "      <td>14064.75</td>\n",
              "      <td>14066.25</td>\n",
              "      <td>68.0</td>\n",
              "      <td>64.0</td>\n",
              "      <td>36.0</td>\n",
              "      <td>32.0</td>\n",
              "      <td>200.000000|1|578.750000|1|586.500000|1|6490.00...</td>\n",
              "      <td>14022.500000|3|14022.750000|1|14023.000000|1|1...</td>\n",
              "      <td>0.00</td>\n",
              "      <td>0</td>\n",
              "    </tr>\n",
              "  </tbody>\n",
              "</table>\n",
              "</div>\n",
              "      <button class=\"colab-df-convert\" onclick=\"convertToInteractive('df-25b95ca5-d430-436e-ae21-a01d8da8a2bf')\"\n",
              "              title=\"Convert this dataframe to an interactive table.\"\n",
              "              style=\"display:none;\">\n",
              "        \n",
              "  <svg xmlns=\"http://www.w3.org/2000/svg\" height=\"24px\"viewBox=\"0 0 24 24\"\n",
              "       width=\"24px\">\n",
              "    <path d=\"M0 0h24v24H0V0z\" fill=\"none\"/>\n",
              "    <path d=\"M18.56 5.44l.94 2.06.94-2.06 2.06-.94-2.06-.94-.94-2.06-.94 2.06-2.06.94zm-11 1L8.5 8.5l.94-2.06 2.06-.94-2.06-.94L8.5 2.5l-.94 2.06-2.06.94zm10 10l.94 2.06.94-2.06 2.06-.94-2.06-.94-.94-2.06-.94 2.06-2.06.94z\"/><path d=\"M17.41 7.96l-1.37-1.37c-.4-.4-.92-.59-1.43-.59-.52 0-1.04.2-1.43.59L10.3 9.45l-7.72 7.72c-.78.78-.78 2.05 0 2.83L4 21.41c.39.39.9.59 1.41.59.51 0 1.02-.2 1.41-.59l7.78-7.78 2.81-2.81c.8-.78.8-2.07 0-2.86zM5.41 20L4 18.59l7.72-7.72 1.47 1.35L5.41 20z\"/>\n",
              "  </svg>\n",
              "      </button>\n",
              "      \n",
              "  <style>\n",
              "    .colab-df-container {\n",
              "      display:flex;\n",
              "      flex-wrap:wrap;\n",
              "      gap: 12px;\n",
              "    }\n",
              "\n",
              "    .colab-df-convert {\n",
              "      background-color: #E8F0FE;\n",
              "      border: none;\n",
              "      border-radius: 50%;\n",
              "      cursor: pointer;\n",
              "      display: none;\n",
              "      fill: #1967D2;\n",
              "      height: 32px;\n",
              "      padding: 0 0 0 0;\n",
              "      width: 32px;\n",
              "    }\n",
              "\n",
              "    .colab-df-convert:hover {\n",
              "      background-color: #E2EBFA;\n",
              "      box-shadow: 0px 1px 2px rgba(60, 64, 67, 0.3), 0px 1px 3px 1px rgba(60, 64, 67, 0.15);\n",
              "      fill: #174EA6;\n",
              "    }\n",
              "\n",
              "    [theme=dark] .colab-df-convert {\n",
              "      background-color: #3B4455;\n",
              "      fill: #D2E3FC;\n",
              "    }\n",
              "\n",
              "    [theme=dark] .colab-df-convert:hover {\n",
              "      background-color: #434B5C;\n",
              "      box-shadow: 0px 1px 3px 1px rgba(0, 0, 0, 0.15);\n",
              "      filter: drop-shadow(0px 1px 2px rgba(0, 0, 0, 0.3));\n",
              "      fill: #FFFFFF;\n",
              "    }\n",
              "  </style>\n",
              "\n",
              "      <script>\n",
              "        const buttonEl =\n",
              "          document.querySelector('#df-25b95ca5-d430-436e-ae21-a01d8da8a2bf button.colab-df-convert');\n",
              "        buttonEl.style.display =\n",
              "          google.colab.kernel.accessAllowed ? 'block' : 'none';\n",
              "\n",
              "        async function convertToInteractive(key) {\n",
              "          const element = document.querySelector('#df-25b95ca5-d430-436e-ae21-a01d8da8a2bf');\n",
              "          const dataTable =\n",
              "            await google.colab.kernel.invokeFunction('convertToInteractive',\n",
              "                                                     [key], {});\n",
              "          if (!dataTable) return;\n",
              "\n",
              "          const docLinkHtml = 'Like what you see? Visit the ' +\n",
              "            '<a target=\"_blank\" href=https://colab.research.google.com/notebooks/data_table.ipynb>data table notebook</a>'\n",
              "            + ' to learn more about interactive tables.';\n",
              "          element.innerHTML = '';\n",
              "          dataTable['output_type'] = 'display_data';\n",
              "          await google.colab.output.renderOutput(dataTable, element);\n",
              "          const docLink = document.createElement('div');\n",
              "          docLink.innerHTML = docLinkHtml;\n",
              "          element.appendChild(docLink);\n",
              "        }\n",
              "      </script>\n",
              "    </div>\n",
              "  </div>\n",
              "  "
            ]
          },
          "metadata": {},
          "execution_count": 27
        }
      ],
      "source": [
        "df.head(3)"
      ]
    },
    {
      "cell_type": "code",
      "source": [
        "plt.pie(df['close_lable'].value_counts().values,\n",
        "        labels=[-1, 0, 1], autopct='%1.1f%%')\n",
        "plt.show()"
      ],
      "metadata": {
        "colab": {
          "base_uri": "https://localhost:8080/",
          "height": 248
        },
        "id": "e1vKuqK3v5Ct",
        "outputId": "dfc70e25-1bb8-4994-8987-84ef1815b700"
      },
      "execution_count": null,
      "outputs": [
        {
          "output_type": "display_data",
          "data": {
            "text/plain": [
              "<Figure size 432x288 with 1 Axes>"
            ],
            "image/png": "[encoded data removed]"
          },
          "metadata": {}
        }
      ]
    },
    {
      "cell_type": "markdown",
      "source": [
        "## ask-bid orders labeling"
      ],
      "metadata": {
        "id": "IWEJ6XuGleNm"
      }
    },
    {
      "cell_type": "markdown",
      "source": [
        "### ask column"
      ],
      "metadata": {
        "id": "XrwdxNtSd9jZ"
      }
    },
    {
      "cell_type": "code",
      "source": [
        "df['lob_ask'] = df[\"lob_ask\"].str.split('|')"
      ],
      "metadata": {
        "id": "m9Y4Ocj9RWHy"
      },
      "execution_count": null,
      "outputs": []
    },
    {
      "cell_type": "code",
      "source": [
        "for row in df.index:\n",
        "  close = df.loc[row, \"close\"]\n",
        "  lenght = len(df.loc[row, \"lob_ask\"])\n",
        "  for index in range(lenght):\n",
        "    number = float( df.loc[row, \"lob_ask\"][index])\n",
        "    if number > close:\n",
        "      df.loc[row, \"lob_ask\"] = str(df.loc[row, \"lob_ask\"][index:index+20])\n",
        "      break"
      ],
      "metadata": {
        "id": "QE9YoQQQRqJt"
      },
      "execution_count": null,
      "outputs": []
    },
    {
      "cell_type": "code",
      "source": [
        "df[\"lob_ask\"] = df[\"lob_ask\"].str.replace('[',\"\")\n",
        "df[\"lob_ask\"] = df[\"lob_ask\"].str.replace(']',\"\")\n",
        "\n",
        "df_ask = df[\"lob_ask\"].str.split(',', expand=True)\n",
        "df.drop(columns=[\"lob_ask\"], inplace=True)"
      ],
      "metadata": {
        "id": "Qd6VDUFnXAOk"
      },
      "execution_count": null,
      "outputs": []
    },
    {
      "cell_type": "code",
      "source": [
        "for i in range(20):\n",
        "  df_ask[i] = df_ask[i].str.replace(\"'\",\"\")\n",
        "  df_ask[i] = df_ask[i].astype(float)"
      ],
      "metadata": {
        "id": "jS_MSZYsbG-d"
      },
      "execution_count": null,
      "outputs": []
    },
    {
      "cell_type": "code",
      "source": [
        "ask_cols = [f'ask{i}' for i in range(20, 40)]\n",
        "df_ask.columns = ask_cols"
      ],
      "metadata": {
        "id": "LPR-3KmobV8F"
      },
      "execution_count": null,
      "outputs": []
    },
    {
      "cell_type": "code",
      "source": [
        "df_ask.head(3)"
      ],
      "metadata": {
        "colab": {
          "base_uri": "https://localhost:8080/",
          "height": 219
        },
        "id": "UWv_pKdKaP8x",
        "outputId": "debe5277-00a5-416f-8a1f-47d0ce59ae83"
      },
      "execution_count": null,
      "outputs": [
        {
          "output_type": "execute_result",
          "data": {
            "text/plain": [
              "                        ask20  ask21    ask22  ask23    ask24  ask25    ask26  \\\n",
              "time                                                                            \n",
              "2022-03-18  00:00:00  14066.5    2.0  14067.0    2.0  14067.5    2.0  14068.0   \n",
              "2022-03-18  00:01:00  14066.5    2.0  14067.0    2.0  14067.5    2.0  14068.0   \n",
              "2022-03-18  00:02:00  14066.5    2.0  14067.0    2.0  14067.5    2.0  14068.0   \n",
              "\n",
              "                      ask27     ask28  ask29    ask30  ask31    ask32  ask33  \\\n",
              "time                                                                           \n",
              "2022-03-18  00:00:00    3.0  14068.25    1.0  14068.5    2.0  14069.0    4.0   \n",
              "2022-03-18  00:01:00    3.0  14068.25    1.0  14068.5    2.0  14069.0    4.0   \n",
              "2022-03-18  00:02:00    3.0  14068.25    1.0  14068.5    2.0  14069.0    4.0   \n",
              "\n",
              "                        ask34  ask35    ask36  ask37     ask38  ask39  \n",
              "time                                                                   \n",
              "2022-03-18  00:00:00  14069.5    2.0  14070.0    8.0  14070.25    2.0  \n",
              "2022-03-18  00:01:00  14069.5    2.0  14070.0    8.0  14070.25    2.0  \n",
              "2022-03-18  00:02:00  14069.5    2.0  14070.0    8.0  14070.25    2.0  "
            ],
            "text/html": [
              "\n",
              "  <div id=\"df-a6b3f1a1-7a48-4a02-b9a9-0063830f00df\">\n",
              "    <div class=\"colab-df-container\">\n",
              "      <div>\n",
              "<style scoped>\n",
              "    .dataframe tbody tr th:only-of-type {\n",
              "        vertical-align: middle;\n",
              "    }\n",
              "\n",
              "    .dataframe tbody tr th {\n",
              "        vertical-align: top;\n",
              "    }\n",
              "\n",
              "    .dataframe thead th {\n",
              "        text-align: right;\n",
              "    }\n",
              "</style>\n",
              "<table border=\"1\" class=\"dataframe\">\n",
              "  <thead>\n",
              "    <tr style=\"text-align: right;\">\n",
              "      <th></th>\n",
              "      <th>ask20</th>\n",
              "      <th>ask21</th>\n",
              "      <th>ask22</th>\n",
              "      <th>ask23</th>\n",
              "      <th>ask24</th>\n",
              "      <th>ask25</th>\n",
              "      <th>ask26</th>\n",
              "      <th>ask27</th>\n",
              "      <th>ask28</th>\n",
              "      <th>ask29</th>\n",
              "      <th>ask30</th>\n",
              "      <th>ask31</th>\n",
              "      <th>ask32</th>\n",
              "      <th>ask33</th>\n",
              "      <th>ask34</th>\n",
              "      <th>ask35</th>\n",
              "      <th>ask36</th>\n",
              "      <th>ask37</th>\n",
              "      <th>ask38</th>\n",
              "      <th>ask39</th>\n",
              "    </tr>\n",
              "    <tr>\n",
              "      <th>time</th>\n",
              "      <th></th>\n",
              "      <th></th>\n",
              "      <th></th>\n",
              "      <th></th>\n",
              "      <th></th>\n",
              "      <th></th>\n",
              "      <th></th>\n",
              "      <th></th>\n",
              "      <th></th>\n",
              "      <th></th>\n",
              "      <th></th>\n",
              "      <th></th>\n",
              "      <th></th>\n",
              "      <th></th>\n",
              "      <th></th>\n",
              "      <th></th>\n",
              "      <th></th>\n",
              "      <th></th>\n",
              "      <th></th>\n",
              "      <th></th>\n",
              "    </tr>\n",
              "  </thead>\n",
              "  <tbody>\n",
              "    <tr>\n",
              "      <th>2022-03-18  00:00:00</th>\n",
              "      <td>14066.5</td>\n",
              "      <td>2.0</td>\n",
              "      <td>14067.0</td>\n",
              "      <td>2.0</td>\n",
              "      <td>14067.5</td>\n",
              "      <td>2.0</td>\n",
              "      <td>14068.0</td>\n",
              "      <td>3.0</td>\n",
              "      <td>14068.25</td>\n",
              "      <td>1.0</td>\n",
              "      <td>14068.5</td>\n",
              "      <td>2.0</td>\n",
              "      <td>14069.0</td>\n",
              "      <td>4.0</td>\n",
              "      <td>14069.5</td>\n",
              "      <td>2.0</td>\n",
              "      <td>14070.0</td>\n",
              "      <td>8.0</td>\n",
              "      <td>14070.25</td>\n",
              "      <td>2.0</td>\n",
              "    </tr>\n",
              "    <tr>\n",
              "      <th>2022-03-18  00:01:00</th>\n",
              "      <td>14066.5</td>\n",
              "      <td>2.0</td>\n",
              "      <td>14067.0</td>\n",
              "      <td>2.0</td>\n",
              "      <td>14067.5</td>\n",
              "      <td>2.0</td>\n",
              "      <td>14068.0</td>\n",
              "      <td>3.0</td>\n",
              "      <td>14068.25</td>\n",
              "      <td>1.0</td>\n",
              "      <td>14068.5</td>\n",
              "      <td>2.0</td>\n",
              "      <td>14069.0</td>\n",
              "      <td>4.0</td>\n",
              "      <td>14069.5</td>\n",
              "      <td>2.0</td>\n",
              "      <td>14070.0</td>\n",
              "      <td>8.0</td>\n",
              "      <td>14070.25</td>\n",
              "      <td>2.0</td>\n",
              "    </tr>\n",
              "    <tr>\n",
              "      <th>2022-03-18  00:02:00</th>\n",
              "      <td>14066.5</td>\n",
              "      <td>2.0</td>\n",
              "      <td>14067.0</td>\n",
              "      <td>2.0</td>\n",
              "      <td>14067.5</td>\n",
              "      <td>2.0</td>\n",
              "      <td>14068.0</td>\n",
              "      <td>3.0</td>\n",
              "      <td>14068.25</td>\n",
              "      <td>1.0</td>\n",
              "      <td>14068.5</td>\n",
              "      <td>2.0</td>\n",
              "      <td>14069.0</td>\n",
              "      <td>4.0</td>\n",
              "      <td>14069.5</td>\n",
              "      <td>2.0</td>\n",
              "      <td>14070.0</td>\n",
              "      <td>8.0</td>\n",
              "      <td>14070.25</td>\n",
              "      <td>2.0</td>\n",
              "    </tr>\n",
              "  </tbody>\n",
              "</table>\n",
              "</div>\n",
              "      <button class=\"colab-df-convert\" onclick=\"convertToInteractive('df-a6b3f1a1-7a48-4a02-b9a9-0063830f00df')\"\n",
              "              title=\"Convert this dataframe to an interactive table.\"\n",
              "              style=\"display:none;\">\n",
              "        \n",
              "  <svg xmlns=\"http://www.w3.org/2000/svg\" height=\"24px\"viewBox=\"0 0 24 24\"\n",
              "       width=\"24px\">\n",
              "    <path d=\"M0 0h24v24H0V0z\" fill=\"none\"/>\n",
              "    <path d=\"M18.56 5.44l.94 2.06.94-2.06 2.06-.94-2.06-.94-.94-2.06-.94 2.06-2.06.94zm-11 1L8.5 8.5l.94-2.06 2.06-.94-2.06-.94L8.5 2.5l-.94 2.06-2.06.94zm10 10l.94 2.06.94-2.06 2.06-.94-2.06-.94-.94-2.06-.94 2.06-2.06.94z\"/><path d=\"M17.41 7.96l-1.37-1.37c-.4-.4-.92-.59-1.43-.59-.52 0-1.04.2-1.43.59L10.3 9.45l-7.72 7.72c-.78.78-.78 2.05 0 2.83L4 21.41c.39.39.9.59 1.41.59.51 0 1.02-.2 1.41-.59l7.78-7.78 2.81-2.81c.8-.78.8-2.07 0-2.86zM5.41 20L4 18.59l7.72-7.72 1.47 1.35L5.41 20z\"/>\n",
              "  </svg>\n",
              "      </button>\n",
              "      \n",
              "  <style>\n",
              "    .colab-df-container {\n",
              "      display:flex;\n",
              "      flex-wrap:wrap;\n",
              "      gap: 12px;\n",
              "    }\n",
              "\n",
              "    .colab-df-convert {\n",
              "      background-color: #E8F0FE;\n",
              "      border: none;\n",
              "      border-radius: 50%;\n",
              "      cursor: pointer;\n",
              "      display: none;\n",
              "      fill: #1967D2;\n",
              "      height: 32px;\n",
              "      padding: 0 0 0 0;\n",
              "      width: 32px;\n",
              "    }\n",
              "\n",
              "    .colab-df-convert:hover {\n",
              "      background-color: #E2EBFA;\n",
              "      box-shadow: 0px 1px 2px rgba(60, 64, 67, 0.3), 0px 1px 3px 1px rgba(60, 64, 67, 0.15);\n",
              "      fill: #174EA6;\n",
              "    }\n",
              "\n",
              "    [theme=dark] .colab-df-convert {\n",
              "      background-color: #3B4455;\n",
              "      fill: #D2E3FC;\n",
              "    }\n",
              "\n",
              "    [theme=dark] .colab-df-convert:hover {\n",
              "      background-color: #434B5C;\n",
              "      box-shadow: 0px 1px 3px 1px rgba(0, 0, 0, 0.15);\n",
              "      filter: drop-shadow(0px 1px 2px rgba(0, 0, 0, 0.3));\n",
              "      fill: #FFFFFF;\n",
              "    }\n",
              "  </style>\n",
              "\n",
              "      <script>\n",
              "        const buttonEl =\n",
              "          document.querySelector('#df-a6b3f1a1-7a48-4a02-b9a9-0063830f00df button.colab-df-convert');\n",
              "        buttonEl.style.display =\n",
              "          google.colab.kernel.accessAllowed ? 'block' : 'none';\n",
              "\n",
              "        async function convertToInteractive(key) {\n",
              "          const element = document.querySelector('#df-a6b3f1a1-7a48-4a02-b9a9-0063830f00df');\n",
              "          const dataTable =\n",
              "            await google.colab.kernel.invokeFunction('convertToInteractive',\n",
              "                                                     [key], {});\n",
              "          if (!dataTable) return;\n",
              "\n",
              "          const docLinkHtml = 'Like what you see? Visit the ' +\n",
              "            '<a target=\"_blank\" href=https://colab.research.google.com/notebooks/data_table.ipynb>data table notebook</a>'\n",
              "            + ' to learn more about interactive tables.';\n",
              "          element.innerHTML = '';\n",
              "          dataTable['output_type'] = 'display_data';\n",
              "          await google.colab.output.renderOutput(dataTable, element);\n",
              "          const docLink = document.createElement('div');\n",
              "          docLink.innerHTML = docLinkHtml;\n",
              "          element.appendChild(docLink);\n",
              "        }\n",
              "      </script>\n",
              "    </div>\n",
              "  </div>\n",
              "  "
            ]
          },
          "metadata": {},
          "execution_count": 34
        }
      ]
    },
    {
      "cell_type": "markdown",
      "source": [
        "### bid cloumn"
      ],
      "metadata": {
        "id": "CQLPrQCweAJ2"
      }
    },
    {
      "cell_type": "code",
      "source": [
        "df['lob_bid'] = df[\"lob_bid\"].str.split('|')"
      ],
      "metadata": {
        "id": "vlLyY0GFbgg_"
      },
      "execution_count": null,
      "outputs": []
    },
    {
      "cell_type": "code",
      "source": [
        "keys = [i for i in range(20)]\n",
        "values = [itemgetter(-i) for i in range(2, 22)] \n",
        " \n",
        "myDict = { k:v for (k,v) in zip(keys, values)} \n",
        "df_bid = df['lob_bid'].transform(myDict)\n",
        "df.drop(columns=[\"lob_bid\"], inplace=True)"
      ],
      "metadata": {
        "id": "OkU6WkTpyV3t"
      },
      "execution_count": null,
      "outputs": []
    },
    {
      "cell_type": "code",
      "source": [
        "for i in range(20):\n",
        "  df_bid[i] = df_bid[i].astype(float)"
      ],
      "metadata": {
        "id": "isTADQ7wTJWE"
      },
      "execution_count": null,
      "outputs": []
    },
    {
      "cell_type": "code",
      "source": [
        "bid_cols = [f'bid{i}' for i in range(19,-1,-1)]\n",
        "df_bid.columns = bid_cols"
      ],
      "metadata": {
        "id": "BdsbwiRTaHRg"
      },
      "execution_count": null,
      "outputs": []
    },
    {
      "cell_type": "code",
      "source": [
        "df_bid = df_bid[[f'bid{i}' for i in range(20)]]"
      ],
      "metadata": {
        "id": "ePPH3bdpfWmQ"
      },
      "execution_count": null,
      "outputs": []
    },
    {
      "cell_type": "code",
      "source": [
        "df_bid.head(3)"
      ],
      "metadata": {
        "id": "17dw543nUVTr",
        "colab": {
          "base_uri": "https://localhost:8080/",
          "height": 271
        },
        "outputId": "6e379d24-8565-4f09-9036-6fdaa3de4812"
      },
      "execution_count": null,
      "outputs": [
        {
          "output_type": "execute_result",
          "data": {
            "text/plain": [
              "                          bid0  bid1      bid2  bid3      bid4  bid5  \\\n",
              "time                                                                   \n",
              "2022-03-18  00:00:00  14024.25   2.0  14024.50   1.0  14024.75   1.0   \n",
              "2022-03-18  00:01:00  14022.25   2.0  14022.50   2.0  14022.75   1.0   \n",
              "2022-03-18  00:02:00  14023.00   2.0  14023.25   1.0  14023.50   1.0   \n",
              "\n",
              "                          bid6  bid7      bid8  bid9     bid10  bid11  \\\n",
              "time                                                                    \n",
              "2022-03-18  00:00:00  14025.00   1.0  14025.25   2.0  14025.50    1.0   \n",
              "2022-03-18  00:01:00  14023.00   1.0  14023.25   3.0  14023.50    2.0   \n",
              "2022-03-18  00:02:00  14023.75   2.0  14024.00   1.0  14024.25    1.0   \n",
              "\n",
              "                         bid12  bid13     bid14  bid15     bid16  bid17  \\\n",
              "time                                                                      \n",
              "2022-03-18  00:00:00  14025.75    1.0  14026.00    1.0  14026.25    2.0   \n",
              "2022-03-18  00:01:00  14023.75    1.0  14024.00    1.0  14024.25    1.0   \n",
              "2022-03-18  00:02:00  14024.50    1.0  14024.75    1.0  14025.00    2.0   \n",
              "\n",
              "                         bid18  bid19  \n",
              "time                                   \n",
              "2022-03-18  00:00:00  14026.50    1.0  \n",
              "2022-03-18  00:01:00  14024.50    2.0  \n",
              "2022-03-18  00:02:00  14025.25    1.0  "
            ],
            "text/html": [
              "\n",
              "  <div id=\"df-b1be5740-0e55-4440-b313-85a76ad5f294\">\n",
              "    <div class=\"colab-df-container\">\n",
              "      <div>\n",
              "<style scoped>\n",
              "    .dataframe tbody tr th:only-of-type {\n",
              "        vertical-align: middle;\n",
              "    }\n",
              "\n",
              "    .dataframe tbody tr th {\n",
              "        vertical-align: top;\n",
              "    }\n",
              "\n",
              "    .dataframe thead th {\n",
              "        text-align: right;\n",
              "    }\n",
              "</style>\n",
              "<table border=\"1\" class=\"dataframe\">\n",
              "  <thead>\n",
              "    <tr style=\"text-align: right;\">\n",
              "      <th></th>\n",
              "      <th>bid0</th>\n",
              "      <th>bid1</th>\n",
              "      <th>bid2</th>\n",
              "      <th>bid3</th>\n",
              "      <th>bid4</th>\n",
              "      <th>bid5</th>\n",
              "      <th>bid6</th>\n",
              "      <th>bid7</th>\n",
              "      <th>bid8</th>\n",
              "      <th>bid9</th>\n",
              "      <th>bid10</th>\n",
              "      <th>bid11</th>\n",
              "      <th>bid12</th>\n",
              "      <th>bid13</th>\n",
              "      <th>bid14</th>\n",
              "      <th>bid15</th>\n",
              "      <th>bid16</th>\n",
              "      <th>bid17</th>\n",
              "      <th>bid18</th>\n",
              "      <th>bid19</th>\n",
              "    </tr>\n",
              "    <tr>\n",
              "      <th>time</th>\n",
              "      <th></th>\n",
              "      <th></th>\n",
              "      <th></th>\n",
              "      <th></th>\n",
              "      <th></th>\n",
              "      <th></th>\n",
              "      <th></th>\n",
              "      <th></th>\n",
              "      <th></th>\n",
              "      <th></th>\n",
              "      <th></th>\n",
              "      <th></th>\n",
              "      <th></th>\n",
              "      <th></th>\n",
              "      <th></th>\n",
              "      <th></th>\n",
              "      <th></th>\n",
              "      <th></th>\n",
              "      <th></th>\n",
              "      <th></th>\n",
              "    </tr>\n",
              "  </thead>\n",
              "  <tbody>\n",
              "    <tr>\n",
              "      <th>2022-03-18  00:00:00</th>\n",
              "      <td>14024.25</td>\n",
              "      <td>2.0</td>\n",
              "      <td>14024.50</td>\n",
              "      <td>1.0</td>\n",
              "      <td>14024.75</td>\n",
              "      <td>1.0</td>\n",
              "      <td>14025.00</td>\n",
              "      <td>1.0</td>\n",
              "      <td>14025.25</td>\n",
              "      <td>2.0</td>\n",
              "      <td>14025.50</td>\n",
              "      <td>1.0</td>\n",
              "      <td>14025.75</td>\n",
              "      <td>1.0</td>\n",
              "      <td>14026.00</td>\n",
              "      <td>1.0</td>\n",
              "      <td>14026.25</td>\n",
              "      <td>2.0</td>\n",
              "      <td>14026.50</td>\n",
              "      <td>1.0</td>\n",
              "    </tr>\n",
              "    <tr>\n",
              "      <th>2022-03-18  00:01:00</th>\n",
              "      <td>14022.25</td>\n",
              "      <td>2.0</td>\n",
              "      <td>14022.50</td>\n",
              "      <td>2.0</td>\n",
              "      <td>14022.75</td>\n",
              "      <td>1.0</td>\n",
              "      <td>14023.00</td>\n",
              "      <td>1.0</td>\n",
              "      <td>14023.25</td>\n",
              "      <td>3.0</td>\n",
              "      <td>14023.50</td>\n",
              "      <td>2.0</td>\n",
              "      <td>14023.75</td>\n",
              "      <td>1.0</td>\n",
              "      <td>14024.00</td>\n",
              "      <td>1.0</td>\n",
              "      <td>14024.25</td>\n",
              "      <td>1.0</td>\n",
              "      <td>14024.50</td>\n",
              "      <td>2.0</td>\n",
              "    </tr>\n",
              "    <tr>\n",
              "      <th>2022-03-18  00:02:00</th>\n",
              "      <td>14023.00</td>\n",
              "      <td>2.0</td>\n",
              "      <td>14023.25</td>\n",
              "      <td>1.0</td>\n",
              "      <td>14023.50</td>\n",
              "      <td>1.0</td>\n",
              "      <td>14023.75</td>\n",
              "      <td>2.0</td>\n",
              "      <td>14024.00</td>\n",
              "      <td>1.0</td>\n",
              "      <td>14024.25</td>\n",
              "      <td>1.0</td>\n",
              "      <td>14024.50</td>\n",
              "      <td>1.0</td>\n",
              "      <td>14024.75</td>\n",
              "      <td>1.0</td>\n",
              "      <td>14025.00</td>\n",
              "      <td>2.0</td>\n",
              "      <td>14025.25</td>\n",
              "      <td>1.0</td>\n",
              "    </tr>\n",
              "  </tbody>\n",
              "</table>\n",
              "</div>\n",
              "      <button class=\"colab-df-convert\" onclick=\"convertToInteractive('df-b1be5740-0e55-4440-b313-85a76ad5f294')\"\n",
              "              title=\"Convert this dataframe to an interactive table.\"\n",
              "              style=\"display:none;\">\n",
              "        \n",
              "  <svg xmlns=\"http://www.w3.org/2000/svg\" height=\"24px\"viewBox=\"0 0 24 24\"\n",
              "       width=\"24px\">\n",
              "    <path d=\"M0 0h24v24H0V0z\" fill=\"none\"/>\n",
              "    <path d=\"M18.56 5.44l.94 2.06.94-2.06 2.06-.94-2.06-.94-.94-2.06-.94 2.06-2.06.94zm-11 1L8.5 8.5l.94-2.06 2.06-.94-2.06-.94L8.5 2.5l-.94 2.06-2.06.94zm10 10l.94 2.06.94-2.06 2.06-.94-2.06-.94-.94-2.06-.94 2.06-2.06.94z\"/><path d=\"M17.41 7.96l-1.37-1.37c-.4-.4-.92-.59-1.43-.59-.52 0-1.04.2-1.43.59L10.3 9.45l-7.72 7.72c-.78.78-.78 2.05 0 2.83L4 21.41c.39.39.9.59 1.41.59.51 0 1.02-.2 1.41-.59l7.78-7.78 2.81-2.81c.8-.78.8-2.07 0-2.86zM5.41 20L4 18.59l7.72-7.72 1.47 1.35L5.41 20z\"/>\n",
              "  </svg>\n",
              "      </button>\n",
              "      \n",
              "  <style>\n",
              "    .colab-df-container {\n",
              "      display:flex;\n",
              "      flex-wrap:wrap;\n",
              "      gap: 12px;\n",
              "    }\n",
              "\n",
              "    .colab-df-convert {\n",
              "      background-color: #E8F0FE;\n",
              "      border: none;\n",
              "      border-radius: 50%;\n",
              "      cursor: pointer;\n",
              "      display: none;\n",
              "      fill: #1967D2;\n",
              "      height: 32px;\n",
              "      padding: 0 0 0 0;\n",
              "      width: 32px;\n",
              "    }\n",
              "\n",
              "    .colab-df-convert:hover {\n",
              "      background-color: #E2EBFA;\n",
              "      box-shadow: 0px 1px 2px rgba(60, 64, 67, 0.3), 0px 1px 3px 1px rgba(60, 64, 67, 0.15);\n",
              "      fill: #174EA6;\n",
              "    }\n",
              "\n",
              "    [theme=dark] .colab-df-convert {\n",
              "      background-color: #3B4455;\n",
              "      fill: #D2E3FC;\n",
              "    }\n",
              "\n",
              "    [theme=dark] .colab-df-convert:hover {\n",
              "      background-color: #434B5C;\n",
              "      box-shadow: 0px 1px 3px 1px rgba(0, 0, 0, 0.15);\n",
              "      filter: drop-shadow(0px 1px 2px rgba(0, 0, 0, 0.3));\n",
              "      fill: #FFFFFF;\n",
              "    }\n",
              "  </style>\n",
              "\n",
              "      <script>\n",
              "        const buttonEl =\n",
              "          document.querySelector('#df-b1be5740-0e55-4440-b313-85a76ad5f294 button.colab-df-convert');\n",
              "        buttonEl.style.display =\n",
              "          google.colab.kernel.accessAllowed ? 'block' : 'none';\n",
              "\n",
              "        async function convertToInteractive(key) {\n",
              "          const element = document.querySelector('#df-b1be5740-0e55-4440-b313-85a76ad5f294');\n",
              "          const dataTable =\n",
              "            await google.colab.kernel.invokeFunction('convertToInteractive',\n",
              "                                                     [key], {});\n",
              "          if (!dataTable) return;\n",
              "\n",
              "          const docLinkHtml = 'Like what you see? Visit the ' +\n",
              "            '<a target=\"_blank\" href=https://colab.research.google.com/notebooks/data_table.ipynb>data table notebook</a>'\n",
              "            + ' to learn more about interactive tables.';\n",
              "          element.innerHTML = '';\n",
              "          dataTable['output_type'] = 'display_data';\n",
              "          await google.colab.output.renderOutput(dataTable, element);\n",
              "          const docLink = document.createElement('div');\n",
              "          docLink.innerHTML = docLinkHtml;\n",
              "          element.appendChild(docLink);\n",
              "        }\n",
              "      </script>\n",
              "    </div>\n",
              "  </div>\n",
              "  "
            ]
          },
          "metadata": {},
          "execution_count": 40
        }
      ]
    },
    {
      "cell_type": "markdown",
      "source": [
        "### bid & ask"
      ],
      "metadata": {
        "id": "R7_OO5oDhzVM"
      }
    },
    {
      "cell_type": "code",
      "source": [
        "df_bidask =  pd.concat([df_bid, df_ask], axis=1)\n",
        "df_bidask.head(3)"
      ],
      "metadata": {
        "colab": {
          "base_uri": "https://localhost:8080/",
          "height": 343
        },
        "id": "XPN7_Is6fqzE",
        "outputId": "ae156184-27e0-47ea-f3f7-2e583e8cbf2a"
      },
      "execution_count": null,
      "outputs": [
        {
          "output_type": "execute_result",
          "data": {
            "text/plain": [
              "                          bid0  bid1      bid2  bid3      bid4  bid5  \\\n",
              "time                                                                   \n",
              "2022-03-18  00:00:00  14024.25   2.0  14024.50   1.0  14024.75   1.0   \n",
              "2022-03-18  00:01:00  14022.25   2.0  14022.50   2.0  14022.75   1.0   \n",
              "2022-03-18  00:02:00  14023.00   2.0  14023.25   1.0  14023.50   1.0   \n",
              "\n",
              "                          bid6  bid7      bid8  bid9     bid10  bid11  \\\n",
              "time                                                                    \n",
              "2022-03-18  00:00:00  14025.00   1.0  14025.25   2.0  14025.50    1.0   \n",
              "2022-03-18  00:01:00  14023.00   1.0  14023.25   3.0  14023.50    2.0   \n",
              "2022-03-18  00:02:00  14023.75   2.0  14024.00   1.0  14024.25    1.0   \n",
              "\n",
              "                         bid12  bid13     bid14  bid15     bid16  bid17  \\\n",
              "time                                                                      \n",
              "2022-03-18  00:00:00  14025.75    1.0  14026.00    1.0  14026.25    2.0   \n",
              "2022-03-18  00:01:00  14023.75    1.0  14024.00    1.0  14024.25    1.0   \n",
              "2022-03-18  00:02:00  14024.50    1.0  14024.75    1.0  14025.00    2.0   \n",
              "\n",
              "                         bid18  bid19    ask20  ask21    ask22  ask23  \\\n",
              "time                                                                    \n",
              "2022-03-18  00:00:00  14026.50    1.0  14066.5    2.0  14067.0    2.0   \n",
              "2022-03-18  00:01:00  14024.50    2.0  14066.5    2.0  14067.0    2.0   \n",
              "2022-03-18  00:02:00  14025.25    1.0  14066.5    2.0  14067.0    2.0   \n",
              "\n",
              "                        ask24  ask25    ask26  ask27     ask28  ask29  \\\n",
              "time                                                                    \n",
              "2022-03-18  00:00:00  14067.5    2.0  14068.0    3.0  14068.25    1.0   \n",
              "2022-03-18  00:01:00  14067.5    2.0  14068.0    3.0  14068.25    1.0   \n",
              "2022-03-18  00:02:00  14067.5    2.0  14068.0    3.0  14068.25    1.0   \n",
              "\n",
              "                        ask30  ask31    ask32  ask33    ask34  ask35    ask36  \\\n",
              "time                                                                            \n",
              "2022-03-18  00:00:00  14068.5    2.0  14069.0    4.0  14069.5    2.0  14070.0   \n",
              "2022-03-18  00:01:00  14068.5    2.0  14069.0    4.0  14069.5    2.0  14070.0   \n",
              "2022-03-18  00:02:00  14068.5    2.0  14069.0    4.0  14069.5    2.0  14070.0   \n",
              "\n",
              "                      ask37     ask38  ask39  \n",
              "time                                          \n",
              "2022-03-18  00:00:00    8.0  14070.25    2.0  \n",
              "2022-03-18  00:01:00    8.0  14070.25    2.0  \n",
              "2022-03-18  00:02:00    8.0  14070.25    2.0  "
            ],
            "text/html": [
              "\n",
              "  <div id=\"df-06e5d2fd-4e6c-4508-a4e0-2541340129c8\">\n",
              "    <div class=\"colab-df-container\">\n",
              "      <div>\n",
              "<style scoped>\n",
              "    .dataframe tbody tr th:only-of-type {\n",
              "        vertical-align: middle;\n",
              "    }\n",
              "\n",
              "    .dataframe tbody tr th {\n",
              "        vertical-align: top;\n",
              "    }\n",
              "\n",
              "    .dataframe thead th {\n",
              "        text-align: right;\n",
              "    }\n",
              "</style>\n",
              "<table border=\"1\" class=\"dataframe\">\n",
              "  <thead>\n",
              "    <tr style=\"text-align: right;\">\n",
              "      <th></th>\n",
              "      <th>bid0</th>\n",
              "      <th>bid1</th>\n",
              "      <th>bid2</th>\n",
              "      <th>bid3</th>\n",
              "      <th>bid4</th>\n",
              "      <th>bid5</th>\n",
              "      <th>bid6</th>\n",
              "      <th>bid7</th>\n",
              "      <th>bid8</th>\n",
              "      <th>bid9</th>\n",
              "      <th>bid10</th>\n",
              "      <th>bid11</th>\n",
              "      <th>bid12</th>\n",
              "      <th>bid13</th>\n",
              "      <th>bid14</th>\n",
              "      <th>bid15</th>\n",
              "      <th>bid16</th>\n",
              "      <th>bid17</th>\n",
              "      <th>bid18</th>\n",
              "      <th>bid19</th>\n",
              "      <th>ask20</th>\n",
              "      <th>ask21</th>\n",
              "      <th>ask22</th>\n",
              "      <th>ask23</th>\n",
              "      <th>ask24</th>\n",
              "      <th>ask25</th>\n",
              "      <th>ask26</th>\n",
              "      <th>ask27</th>\n",
              "      <th>ask28</th>\n",
              "      <th>ask29</th>\n",
              "      <th>ask30</th>\n",
              "      <th>ask31</th>\n",
              "      <th>ask32</th>\n",
              "      <th>ask33</th>\n",
              "      <th>ask34</th>\n",
              "      <th>ask35</th>\n",
              "      <th>ask36</th>\n",
              "      <th>ask37</th>\n",
              "      <th>ask38</th>\n",
              "      <th>ask39</th>\n",
              "    </tr>\n",
              "    <tr>\n",
              "      <th>time</th>\n",
              "      <th></th>\n",
              "      <th></th>\n",
              "      <th></th>\n",
              "      <th></th>\n",
              "      <th></th>\n",
              "      <th></th>\n",
              "      <th></th>\n",
              "      <th></th>\n",
              "      <th></th>\n",
              "      <th></th>\n",
              "      <th></th>\n",
              "      <th></th>\n",
              "      <th></th>\n",
              "      <th></th>\n",
              "      <th></th>\n",
              "      <th></th>\n",
              "      <th></th>\n",
              "      <th></th>\n",
              "      <th></th>\n",
              "      <th></th>\n",
              "      <th></th>\n",
              "      <th></th>\n",
              "      <th></th>\n",
              "      <th></th>\n",
              "      <th></th>\n",
              "      <th></th>\n",
              "      <th></th>\n",
              "      <th></th>\n",
              "      <th></th>\n",
              "      <th></th>\n",
              "      <th></th>\n",
              "      <th></th>\n",
              "      <th></th>\n",
              "      <th></th>\n",
              "      <th></th>\n",
              "      <th></th>\n",
              "      <th></th>\n",
              "      <th></th>\n",
              "      <th></th>\n",
              "      <th></th>\n",
              "    </tr>\n",
              "  </thead>\n",
              "  <tbody>\n",
              "    <tr>\n",
              "      <th>2022-03-18  00:00:00</th>\n",
              "      <td>14024.25</td>\n",
              "      <td>2.0</td>\n",
              "      <td>14024.50</td>\n",
              "      <td>1.0</td>\n",
              "      <td>14024.75</td>\n",
              "      <td>1.0</td>\n",
              "      <td>14025.00</td>\n",
              "      <td>1.0</td>\n",
              "      <td>14025.25</td>\n",
              "      <td>2.0</td>\n",
              "      <td>14025.50</td>\n",
              "      <td>1.0</td>\n",
              "      <td>14025.75</td>\n",
              "      <td>1.0</td>\n",
              "      <td>14026.00</td>\n",
              "      <td>1.0</td>\n",
              "      <td>14026.25</td>\n",
              "      <td>2.0</td>\n",
              "      <td>14026.50</td>\n",
              "      <td>1.0</td>\n",
              "      <td>14066.5</td>\n",
              "      <td>2.0</td>\n",
              "      <td>14067.0</td>\n",
              "      <td>2.0</td>\n",
              "      <td>14067.5</td>\n",
              "      <td>2.0</td>\n",
              "      <td>14068.0</td>\n",
              "      <td>3.0</td>\n",
              "      <td>14068.25</td>\n",
              "      <td>1.0</td>\n",
              "      <td>14068.5</td>\n",
              "      <td>2.0</td>\n",
              "      <td>14069.0</td>\n",
              "      <td>4.0</td>\n",
              "      <td>14069.5</td>\n",
              "      <td>2.0</td>\n",
              "      <td>14070.0</td>\n",
              "      <td>8.0</td>\n",
              "      <td>14070.25</td>\n",
              "      <td>2.0</td>\n",
              "    </tr>\n",
              "    <tr>\n",
              "      <th>2022-03-18  00:01:00</th>\n",
              "      <td>14022.25</td>\n",
              "      <td>2.0</td>\n",
              "      <td>14022.50</td>\n",
              "      <td>2.0</td>\n",
              "      <td>14022.75</td>\n",
              "      <td>1.0</td>\n",
              "      <td>14023.00</td>\n",
              "      <td>1.0</td>\n",
              "      <td>14023.25</td>\n",
              "      <td>3.0</td>\n",
              "      <td>14023.50</td>\n",
              "      <td>2.0</td>\n",
              "      <td>14023.75</td>\n",
              "      <td>1.0</td>\n",
              "      <td>14024.00</td>\n",
              "      <td>1.0</td>\n",
              "      <td>14024.25</td>\n",
              "      <td>1.0</td>\n",
              "      <td>14024.50</td>\n",
              "      <td>2.0</td>\n",
              "      <td>14066.5</td>\n",
              "      <td>2.0</td>\n",
              "      <td>14067.0</td>\n",
              "      <td>2.0</td>\n",
              "      <td>14067.5</td>\n",
              "      <td>2.0</td>\n",
              "      <td>14068.0</td>\n",
              "      <td>3.0</td>\n",
              "      <td>14068.25</td>\n",
              "      <td>1.0</td>\n",
              "      <td>14068.5</td>\n",
              "      <td>2.0</td>\n",
              "      <td>14069.0</td>\n",
              "      <td>4.0</td>\n",
              "      <td>14069.5</td>\n",
              "      <td>2.0</td>\n",
              "      <td>14070.0</td>\n",
              "      <td>8.0</td>\n",
              "      <td>14070.25</td>\n",
              "      <td>2.0</td>\n",
              "    </tr>\n",
              "    <tr>\n",
              "      <th>2022-03-18  00:02:00</th>\n",
              "      <td>14023.00</td>\n",
              "      <td>2.0</td>\n",
              "      <td>14023.25</td>\n",
              "      <td>1.0</td>\n",
              "      <td>14023.50</td>\n",
              "      <td>1.0</td>\n",
              "      <td>14023.75</td>\n",
              "      <td>2.0</td>\n",
              "      <td>14024.00</td>\n",
              "      <td>1.0</td>\n",
              "      <td>14024.25</td>\n",
              "      <td>1.0</td>\n",
              "      <td>14024.50</td>\n",
              "      <td>1.0</td>\n",
              "      <td>14024.75</td>\n",
              "      <td>1.0</td>\n",
              "      <td>14025.00</td>\n",
              "      <td>2.0</td>\n",
              "      <td>14025.25</td>\n",
              "      <td>1.0</td>\n",
              "      <td>14066.5</td>\n",
              "      <td>2.0</td>\n",
              "      <td>14067.0</td>\n",
              "      <td>2.0</td>\n",
              "      <td>14067.5</td>\n",
              "      <td>2.0</td>\n",
              "      <td>14068.0</td>\n",
              "      <td>3.0</td>\n",
              "      <td>14068.25</td>\n",
              "      <td>1.0</td>\n",
              "      <td>14068.5</td>\n",
              "      <td>2.0</td>\n",
              "      <td>14069.0</td>\n",
              "      <td>4.0</td>\n",
              "      <td>14069.5</td>\n",
              "      <td>2.0</td>\n",
              "      <td>14070.0</td>\n",
              "      <td>8.0</td>\n",
              "      <td>14070.25</td>\n",
              "      <td>2.0</td>\n",
              "    </tr>\n",
              "  </tbody>\n",
              "</table>\n",
              "</div>\n",
              "      <button class=\"colab-df-convert\" onclick=\"convertToInteractive('df-06e5d2fd-4e6c-4508-a4e0-2541340129c8')\"\n",
              "              title=\"Convert this dataframe to an interactive table.\"\n",
              "              style=\"display:none;\">\n",
              "        \n",
              "  <svg xmlns=\"http://www.w3.org/2000/svg\" height=\"24px\"viewBox=\"0 0 24 24\"\n",
              "       width=\"24px\">\n",
              "    <path d=\"M0 0h24v24H0V0z\" fill=\"none\"/>\n",
              "    <path d=\"M18.56 5.44l.94 2.06.94-2.06 2.06-.94-2.06-.94-.94-2.06-.94 2.06-2.06.94zm-11 1L8.5 8.5l.94-2.06 2.06-.94-2.06-.94L8.5 2.5l-.94 2.06-2.06.94zm10 10l.94 2.06.94-2.06 2.06-.94-2.06-.94-.94-2.06-.94 2.06-2.06.94z\"/><path d=\"M17.41 7.96l-1.37-1.37c-.4-.4-.92-.59-1.43-.59-.52 0-1.04.2-1.43.59L10.3 9.45l-7.72 7.72c-.78.78-.78 2.05 0 2.83L4 21.41c.39.39.9.59 1.41.59.51 0 1.02-.2 1.41-.59l7.78-7.78 2.81-2.81c.8-.78.8-2.07 0-2.86zM5.41 20L4 18.59l7.72-7.72 1.47 1.35L5.41 20z\"/>\n",
              "  </svg>\n",
              "      </button>\n",
              "      \n",
              "  <style>\n",
              "    .colab-df-container {\n",
              "      display:flex;\n",
              "      flex-wrap:wrap;\n",
              "      gap: 12px;\n",
              "    }\n",
              "\n",
              "    .colab-df-convert {\n",
              "      background-color: #E8F0FE;\n",
              "      border: none;\n",
              "      border-radius: 50%;\n",
              "      cursor: pointer;\n",
              "      display: none;\n",
              "      fill: #1967D2;\n",
              "      height: 32px;\n",
              "      padding: 0 0 0 0;\n",
              "      width: 32px;\n",
              "    }\n",
              "\n",
              "    .colab-df-convert:hover {\n",
              "      background-color: #E2EBFA;\n",
              "      box-shadow: 0px 1px 2px rgba(60, 64, 67, 0.3), 0px 1px 3px 1px rgba(60, 64, 67, 0.15);\n",
              "      fill: #174EA6;\n",
              "    }\n",
              "\n",
              "    [theme=dark] .colab-df-convert {\n",
              "      background-color: #3B4455;\n",
              "      fill: #D2E3FC;\n",
              "    }\n",
              "\n",
              "    [theme=dark] .colab-df-convert:hover {\n",
              "      background-color: #434B5C;\n",
              "      box-shadow: 0px 1px 3px 1px rgba(0, 0, 0, 0.15);\n",
              "      filter: drop-shadow(0px 1px 2px rgba(0, 0, 0, 0.3));\n",
              "      fill: #FFFFFF;\n",
              "    }\n",
              "  </style>\n",
              "\n",
              "      <script>\n",
              "        const buttonEl =\n",
              "          document.querySelector('#df-06e5d2fd-4e6c-4508-a4e0-2541340129c8 button.colab-df-convert');\n",
              "        buttonEl.style.display =\n",
              "          google.colab.kernel.accessAllowed ? 'block' : 'none';\n",
              "\n",
              "        async function convertToInteractive(key) {\n",
              "          const element = document.querySelector('#df-06e5d2fd-4e6c-4508-a4e0-2541340129c8');\n",
              "          const dataTable =\n",
              "            await google.colab.kernel.invokeFunction('convertToInteractive',\n",
              "                                                     [key], {});\n",
              "          if (!dataTable) return;\n",
              "\n",
              "          const docLinkHtml = 'Like what you see? Visit the ' +\n",
              "            '<a target=\"_blank\" href=https://colab.research.google.com/notebooks/data_table.ipynb>data table notebook</a>'\n",
              "            + ' to learn more about interactive tables.';\n",
              "          element.innerHTML = '';\n",
              "          dataTable['output_type'] = 'display_data';\n",
              "          await google.colab.output.renderOutput(dataTable, element);\n",
              "          const docLink = document.createElement('div');\n",
              "          docLink.innerHTML = docLinkHtml;\n",
              "          element.appendChild(docLink);\n",
              "        }\n",
              "      </script>\n",
              "    </div>\n",
              "  </div>\n",
              "  "
            ]
          },
          "metadata": {},
          "execution_count": 41
        }
      ]
    },
    {
      "cell_type": "code",
      "execution_count": null,
      "metadata": {
        "id": "fNPj3v9zzwM_"
      },
      "outputs": [],
      "source": [
        "df_bidask['p_b'] = df_bidask[\"bid18\"]\n",
        "df_bidask['p_a'] = df_bidask[\"ask20\"]\n",
        "df_bidask['p_t'] = (df_bidask['p_b']+df_bidask['p_a'])/2\n",
        "df_bidask['m_+'] = df_bidask['p_t'].diff()\n",
        "df_bidask['l_t'] = (df_bidask['m_+'] - df_bidask['p_t']) / df_bidask['p_t']\n",
        "df_bidask.fillna(0, inplace=True)\n",
        "df_bidask['l_t_lable'] = df_bidask[\"l_t\"].apply(filter)"
      ]
    },
    {
      "cell_type": "code",
      "source": [
        "plt.pie(df_bidask['l_t_lable'].value_counts().values,\n",
        "        labels=[-1, 0], autopct='%1.1f%%')\n",
        "plt.show()"
      ],
      "metadata": {
        "colab": {
          "base_uri": "https://localhost:8080/",
          "height": 248
        },
        "id": "8AusjhJcyKBF",
        "outputId": "121aefa1-76ad-4940-cd5c-0b98b4866f6c"
      },
      "execution_count": null,
      "outputs": [
        {
          "output_type": "display_data",
          "data": {
            "text/plain": [
              "<Figure size 432x288 with 1 Axes>"
            ],
            "image/png": "[encoded data removed]"
          },
          "metadata": {}
        }
      ]
    },
    {
      "cell_type": "code",
      "source": [
        "total_df = pd.concat([df, df_bidask], axis=1)\n",
        "total_df.head(3)"
      ],
      "metadata": {
        "id": "u6zfXhuvkbxt",
        "colab": {
          "base_uri": "https://localhost:8080/",
          "height": 343
        },
        "outputId": "8e97c70f-8c33-48ed-c1f8-062831181940"
      },
      "execution_count": null,
      "outputs": [
        {
          "output_type": "execute_result",
          "data": {
            "text/plain": [
              "                         open      high       low     close  volume  \\\n",
              "time                                                                  \n",
              "2022-03-18  00:00:00  14066.5  14069.75  14061.75  14066.00   145.0   \n",
              "2022-03-18  00:01:00  14064.5  14067.75  14063.00  14066.25    66.0   \n",
              "2022-03-18  00:02:00  14067.0  14068.00  14064.75  14066.25    68.0   \n",
              "\n",
              "                      numtrades  bidvolume  askvolume  close_change  \\\n",
              "time                                                                  \n",
              "2022-03-18  00:00:00      144.0       60.0       85.0          0.00   \n",
              "2022-03-18  00:01:00       64.0       36.0       30.0          0.25   \n",
              "2022-03-18  00:02:00       64.0       36.0       32.0          0.00   \n",
              "\n",
              "                      close_lable      bid0  bid1      bid2  bid3      bid4  \\\n",
              "time                                                                          \n",
              "2022-03-18  00:00:00            0  14024.25   2.0  14024.50   1.0  14024.75   \n",
              "2022-03-18  00:01:00            0  14022.25   2.0  14022.50   2.0  14022.75   \n",
              "2022-03-18  00:02:00            0  14023.00   2.0  14023.25   1.0  14023.50   \n",
              "\n",
              "                      bid5      bid6  bid7      bid8  bid9     bid10  bid11  \\\n",
              "time                                                                          \n",
              "2022-03-18  00:00:00   1.0  14025.00   1.0  14025.25   2.0  14025.50    1.0   \n",
              "2022-03-18  00:01:00   1.0  14023.00   1.0  14023.25   3.0  14023.50    2.0   \n",
              "2022-03-18  00:02:00   1.0  14023.75   2.0  14024.00   1.0  14024.25    1.0   \n",
              "\n",
              "                         bid12  bid13     bid14  bid15     bid16  bid17  \\\n",
              "time                                                                      \n",
              "2022-03-18  00:00:00  14025.75    1.0  14026.00    1.0  14026.25    2.0   \n",
              "2022-03-18  00:01:00  14023.75    1.0  14024.00    1.0  14024.25    1.0   \n",
              "2022-03-18  00:02:00  14024.50    1.0  14024.75    1.0  14025.00    2.0   \n",
              "\n",
              "                         bid18  bid19    ask20  ask21    ask22  ask23  \\\n",
              "time                                                                    \n",
              "2022-03-18  00:00:00  14026.50    1.0  14066.5    2.0  14067.0    2.0   \n",
              "2022-03-18  00:01:00  14024.50    2.0  14066.5    2.0  14067.0    2.0   \n",
              "2022-03-18  00:02:00  14025.25    1.0  14066.5    2.0  14067.0    2.0   \n",
              "\n",
              "                        ask24  ask25    ask26  ask27     ask28  ask29  \\\n",
              "time                                                                    \n",
              "2022-03-18  00:00:00  14067.5    2.0  14068.0    3.0  14068.25    1.0   \n",
              "2022-03-18  00:01:00  14067.5    2.0  14068.0    3.0  14068.25    1.0   \n",
              "2022-03-18  00:02:00  14067.5    2.0  14068.0    3.0  14068.25    1.0   \n",
              "\n",
              "                        ask30  ask31    ask32  ask33    ask34  ask35    ask36  \\\n",
              "time                                                                            \n",
              "2022-03-18  00:00:00  14068.5    2.0  14069.0    4.0  14069.5    2.0  14070.0   \n",
              "2022-03-18  00:01:00  14068.5    2.0  14069.0    4.0  14069.5    2.0  14070.0   \n",
              "2022-03-18  00:02:00  14068.5    2.0  14069.0    4.0  14069.5    2.0  14070.0   \n",
              "\n",
              "                      ask37     ask38  ask39       p_b      p_a        p_t  \\\n",
              "time                                                                         \n",
              "2022-03-18  00:00:00    8.0  14070.25    2.0  14026.50  14066.5  14046.500   \n",
              "2022-03-18  00:01:00    8.0  14070.25    2.0  14024.50  14066.5  14045.500   \n",
              "2022-03-18  00:02:00    8.0  14070.25    2.0  14025.25  14066.5  14045.875   \n",
              "\n",
              "                        m_+       l_t  l_t_lable  \n",
              "time                                              \n",
              "2022-03-18  00:00:00  0.000  0.000000          0  \n",
              "2022-03-18  00:01:00 -1.000 -1.000071         -1  \n",
              "2022-03-18  00:02:00  0.375 -0.999973         -1  "
            ],
            "text/html": [
              "\n",
              "  <div id=\"df-b18bcc68-7dc4-4ebc-9402-5fadb93ab6a4\">\n",
              "    <div class=\"colab-df-container\">\n",
              "      <div>\n",
              "<style scoped>\n",
              "    .dataframe tbody tr th:only-of-type {\n",
              "        vertical-align: middle;\n",
              "    }\n",
              "\n",
              "    .dataframe tbody tr th {\n",
              "        vertical-align: top;\n",
              "    }\n",
              "\n",
              "    .dataframe thead th {\n",
              "        text-align: right;\n",
              "    }\n",
              "</style>\n",
              "<table border=\"1\" class=\"dataframe\">\n",
              "  <thead>\n",
              "    <tr style=\"text-align: right;\">\n",
              "      <th></th>\n",
              "      <th>open</th>\n",
              "      <th>high</th>\n",
              "      <th>low</th>\n",
              "      <th>close</th>\n",
              "      <th>volume</th>\n",
              "      <th>numtrades</th>\n",
              "      <th>bidvolume</th>\n",
              "      <th>askvolume</th>\n",
              "      <th>close_change</th>\n",
              "      <th>close_lable</th>\n",
              "      <th>bid0</th>\n",
              "      <th>bid1</th>\n",
              "      <th>bid2</th>\n",
              "      <th>bid3</th>\n",
              "      <th>bid4</th>\n",
              "      <th>bid5</th>\n",
              "      <th>bid6</th>\n",
              "      <th>bid7</th>\n",
              "      <th>bid8</th>\n",
              "      <th>bid9</th>\n",
              "      <th>bid10</th>\n",
              "      <th>bid11</th>\n",
              "      <th>bid12</th>\n",
              "      <th>bid13</th>\n",
              "      <th>bid14</th>\n",
              "      <th>bid15</th>\n",
              "      <th>bid16</th>\n",
              "      <th>bid17</th>\n",
              "      <th>bid18</th>\n",
              "      <th>bid19</th>\n",
              "      <th>ask20</th>\n",
              "      <th>ask21</th>\n",
              "      <th>ask22</th>\n",
              "      <th>ask23</th>\n",
              "      <th>ask24</th>\n",
              "      <th>ask25</th>\n",
              "      <th>ask26</th>\n",
              "      <th>ask27</th>\n",
              "      <th>ask28</th>\n",
              "      <th>ask29</th>\n",
              "      <th>ask30</th>\n",
              "      <th>ask31</th>\n",
              "      <th>ask32</th>\n",
              "      <th>ask33</th>\n",
              "      <th>ask34</th>\n",
              "      <th>ask35</th>\n",
              "      <th>ask36</th>\n",
              "      <th>ask37</th>\n",
              "      <th>ask38</th>\n",
              "      <th>ask39</th>\n",
              "      <th>p_b</th>\n",
              "      <th>p_a</th>\n",
              "      <th>p_t</th>\n",
              "      <th>m_+</th>\n",
              "      <th>l_t</th>\n",
              "      <th>l_t_lable</th>\n",
              "    </tr>\n",
              "    <tr>\n",
              "      <th>time</th>\n",
              "      <th></th>\n",
              "      <th></th>\n",
              "      <th></th>\n",
              "      <th></th>\n",
              "      <th></th>\n",
              "      <th></th>\n",
              "      <th></th>\n",
              "      <th></th>\n",
              "      <th></th>\n",
              "      <th></th>\n",
              "      <th></th>\n",
              "      <th></th>\n",
              "      <th></th>\n",
              "      <th></th>\n",
              "      <th></th>\n",
              "      <th></th>\n",
              "      <th></th>\n",
              "      <th></th>\n",
              "      <th></th>\n",
              "      <th></th>\n",
              "      <th></th>\n",
              "      <th></th>\n",
              "      <th></th>\n",
              "      <th></th>\n",
              "      <th></th>\n",
              "      <th></th>\n",
              "      <th></th>\n",
              "      <th></th>\n",
              "      <th></th>\n",
              "      <th></th>\n",
              "      <th></th>\n",
              "      <th></th>\n",
              "      <th></th>\n",
              "      <th></th>\n",
              "      <th></th>\n",
              "      <th></th>\n",
              "      <th></th>\n",
              "      <th></th>\n",
              "      <th></th>\n",
              "      <th></th>\n",
              "      <th></th>\n",
              "      <th></th>\n",
              "      <th></th>\n",
              "      <th></th>\n",
              "      <th></th>\n",
              "      <th></th>\n",
              "      <th></th>\n",
              "      <th></th>\n",
              "      <th></th>\n",
              "      <th></th>\n",
              "      <th></th>\n",
              "      <th></th>\n",
              "      <th></th>\n",
              "      <th></th>\n",
              "      <th></th>\n",
              "      <th></th>\n",
              "    </tr>\n",
              "  </thead>\n",
              "  <tbody>\n",
              "    <tr>\n",
              "      <th>2022-03-18  00:00:00</th>\n",
              "      <td>14066.5</td>\n",
              "      <td>14069.75</td>\n",
              "      <td>14061.75</td>\n",
              "      <td>14066.00</td>\n",
              "      <td>145.0</td>\n",
              "      <td>144.0</td>\n",
              "      <td>60.0</td>\n",
              "      <td>85.0</td>\n",
              "      <td>0.00</td>\n",
              "      <td>0</td>\n",
              "      <td>14024.25</td>\n",
              "      <td>2.0</td>\n",
              "      <td>14024.50</td>\n",
              "      <td>1.0</td>\n",
              "      <td>14024.75</td>\n",
              "      <td>1.0</td>\n",
              "      <td>14025.00</td>\n",
              "      <td>1.0</td>\n",
              "      <td>14025.25</td>\n",
              "      <td>2.0</td>\n",
              "      <td>14025.50</td>\n",
              "      <td>1.0</td>\n",
              "      <td>14025.75</td>\n",
              "      <td>1.0</td>\n",
              "      <td>14026.00</td>\n",
              "      <td>1.0</td>\n",
              "      <td>14026.25</td>\n",
              "      <td>2.0</td>\n",
              "      <td>14026.50</td>\n",
              "      <td>1.0</td>\n",
              "      <td>14066.5</td>\n",
              "      <td>2.0</td>\n",
              "      <td>14067.0</td>\n",
              "      <td>2.0</td>\n",
              "      <td>14067.5</td>\n",
              "      <td>2.0</td>\n",
              "      <td>14068.0</td>\n",
              "      <td>3.0</td>\n",
              "      <td>14068.25</td>\n",
              "      <td>1.0</td>\n",
              "      <td>14068.5</td>\n",
              "      <td>2.0</td>\n",
              "      <td>14069.0</td>\n",
              "      <td>4.0</td>\n",
              "      <td>14069.5</td>\n",
              "      <td>2.0</td>\n",
              "      <td>14070.0</td>\n",
              "      <td>8.0</td>\n",
              "      <td>14070.25</td>\n",
              "      <td>2.0</td>\n",
              "      <td>14026.50</td>\n",
              "      <td>14066.5</td>\n",
              "      <td>14046.500</td>\n",
              "      <td>0.000</td>\n",
              "      <td>0.000000</td>\n",
              "      <td>0</td>\n",
              "    </tr>\n",
              "    <tr>\n",
              "      <th>2022-03-18  00:01:00</th>\n",
              "      <td>14064.5</td>\n",
              "      <td>14067.75</td>\n",
              "      <td>14063.00</td>\n",
              "      <td>14066.25</td>\n",
              "      <td>66.0</td>\n",
              "      <td>64.0</td>\n",
              "      <td>36.0</td>\n",
              "      <td>30.0</td>\n",
              "      <td>0.25</td>\n",
              "      <td>0</td>\n",
              "      <td>14022.25</td>\n",
              "      <td>2.0</td>\n",
              "      <td>14022.50</td>\n",
              "      <td>2.0</td>\n",
              "      <td>14022.75</td>\n",
              "      <td>1.0</td>\n",
              "      <td>14023.00</td>\n",
              "      <td>1.0</td>\n",
              "      <td>14023.25</td>\n",
              "      <td>3.0</td>\n",
              "      <td>14023.50</td>\n",
              "      <td>2.0</td>\n",
              "      <td>14023.75</td>\n",
              "      <td>1.0</td>\n",
              "      <td>14024.00</td>\n",
              "      <td>1.0</td>\n",
              "      <td>14024.25</td>\n",
              "      <td>1.0</td>\n",
              "      <td>14024.50</td>\n",
              "      <td>2.0</td>\n",
              "      <td>14066.5</td>\n",
              "      <td>2.0</td>\n",
              "      <td>14067.0</td>\n",
              "      <td>2.0</td>\n",
              "      <td>14067.5</td>\n",
              "      <td>2.0</td>\n",
              "      <td>14068.0</td>\n",
              "      <td>3.0</td>\n",
              "      <td>14068.25</td>\n",
              "      <td>1.0</td>\n",
              "      <td>14068.5</td>\n",
              "      <td>2.0</td>\n",
              "      <td>14069.0</td>\n",
              "      <td>4.0</td>\n",
              "      <td>14069.5</td>\n",
              "      <td>2.0</td>\n",
              "      <td>14070.0</td>\n",
              "      <td>8.0</td>\n",
              "      <td>14070.25</td>\n",
              "      <td>2.0</td>\n",
              "      <td>14024.50</td>\n",
              "      <td>14066.5</td>\n",
              "      <td>14045.500</td>\n",
              "      <td>-1.000</td>\n",
              "      <td>-1.000071</td>\n",
              "      <td>-1</td>\n",
              "    </tr>\n",
              "    <tr>\n",
              "      <th>2022-03-18  00:02:00</th>\n",
              "      <td>14067.0</td>\n",
              "      <td>14068.00</td>\n",
              "      <td>14064.75</td>\n",
              "      <td>14066.25</td>\n",
              "      <td>68.0</td>\n",
              "      <td>64.0</td>\n",
              "      <td>36.0</td>\n",
              "      <td>32.0</td>\n",
              "      <td>0.00</td>\n",
              "      <td>0</td>\n",
              "      <td>14023.00</td>\n",
              "      <td>2.0</td>\n",
              "      <td>14023.25</td>\n",
              "      <td>1.0</td>\n",
              "      <td>14023.50</td>\n",
              "      <td>1.0</td>\n",
              "      <td>14023.75</td>\n",
              "      <td>2.0</td>\n",
              "      <td>14024.00</td>\n",
              "      <td>1.0</td>\n",
              "      <td>14024.25</td>\n",
              "      <td>1.0</td>\n",
              "      <td>14024.50</td>\n",
              "      <td>1.0</td>\n",
              "      <td>14024.75</td>\n",
              "      <td>1.0</td>\n",
              "      <td>14025.00</td>\n",
              "      <td>2.0</td>\n",
              "      <td>14025.25</td>\n",
              "      <td>1.0</td>\n",
              "      <td>14066.5</td>\n",
              "      <td>2.0</td>\n",
              "      <td>14067.0</td>\n",
              "      <td>2.0</td>\n",
              "      <td>14067.5</td>\n",
              "      <td>2.0</td>\n",
              "      <td>14068.0</td>\n",
              "      <td>3.0</td>\n",
              "      <td>14068.25</td>\n",
              "      <td>1.0</td>\n",
              "      <td>14068.5</td>\n",
              "      <td>2.0</td>\n",
              "      <td>14069.0</td>\n",
              "      <td>4.0</td>\n",
              "      <td>14069.5</td>\n",
              "      <td>2.0</td>\n",
              "      <td>14070.0</td>\n",
              "      <td>8.0</td>\n",
              "      <td>14070.25</td>\n",
              "      <td>2.0</td>\n",
              "      <td>14025.25</td>\n",
              "      <td>14066.5</td>\n",
              "      <td>14045.875</td>\n",
              "      <td>0.375</td>\n",
              "      <td>-0.999973</td>\n",
              "      <td>-1</td>\n",
              "    </tr>\n",
              "  </tbody>\n",
              "</table>\n",
              "</div>\n",
              "      <button class=\"colab-df-convert\" onclick=\"convertToInteractive('df-b18bcc68-7dc4-4ebc-9402-5fadb93ab6a4')\"\n",
              "              title=\"Convert this dataframe to an interactive table.\"\n",
              "              style=\"display:none;\">\n",
              "        \n",
              "  <svg xmlns=\"http://www.w3.org/2000/svg\" height=\"24px\"viewBox=\"0 0 24 24\"\n",
              "       width=\"24px\">\n",
              "    <path d=\"M0 0h24v24H0V0z\" fill=\"none\"/>\n",
              "    <path d=\"M18.56 5.44l.94 2.06.94-2.06 2.06-.94-2.06-.94-.94-2.06-.94 2.06-2.06.94zm-11 1L8.5 8.5l.94-2.06 2.06-.94-2.06-.94L8.5 2.5l-.94 2.06-2.06.94zm10 10l.94 2.06.94-2.06 2.06-.94-2.06-.94-.94-2.06-.94 2.06-2.06.94z\"/><path d=\"M17.41 7.96l-1.37-1.37c-.4-.4-.92-.59-1.43-.59-.52 0-1.04.2-1.43.59L10.3 9.45l-7.72 7.72c-.78.78-.78 2.05 0 2.83L4 21.41c.39.39.9.59 1.41.59.51 0 1.02-.2 1.41-.59l7.78-7.78 2.81-2.81c.8-.78.8-2.07 0-2.86zM5.41 20L4 18.59l7.72-7.72 1.47 1.35L5.41 20z\"/>\n",
              "  </svg>\n",
              "      </button>\n",
              "      \n",
              "  <style>\n",
              "    .colab-df-container {\n",
              "      display:flex;\n",
              "      flex-wrap:wrap;\n",
              "      gap: 12px;\n",
              "    }\n",
              "\n",
              "    .colab-df-convert {\n",
              "      background-color: #E8F0FE;\n",
              "      border: none;\n",
              "      border-radius: 50%;\n",
              "      cursor: pointer;\n",
              "      display: none;\n",
              "      fill: #1967D2;\n",
              "      height: 32px;\n",
              "      padding: 0 0 0 0;\n",
              "      width: 32px;\n",
              "    }\n",
              "\n",
              "    .colab-df-convert:hover {\n",
              "      background-color: #E2EBFA;\n",
              "      box-shadow: 0px 1px 2px rgba(60, 64, 67, 0.3), 0px 1px 3px 1px rgba(60, 64, 67, 0.15);\n",
              "      fill: #174EA6;\n",
              "    }\n",
              "\n",
              "    [theme=dark] .colab-df-convert {\n",
              "      background-color: #3B4455;\n",
              "      fill: #D2E3FC;\n",
              "    }\n",
              "\n",
              "    [theme=dark] .colab-df-convert:hover {\n",
              "      background-color: #434B5C;\n",
              "      box-shadow: 0px 1px 3px 1px rgba(0, 0, 0, 0.15);\n",
              "      filter: drop-shadow(0px 1px 2px rgba(0, 0, 0, 0.3));\n",
              "      fill: #FFFFFF;\n",
              "    }\n",
              "  </style>\n",
              "\n",
              "      <script>\n",
              "        const buttonEl =\n",
              "          document.querySelector('#df-b18bcc68-7dc4-4ebc-9402-5fadb93ab6a4 button.colab-df-convert');\n",
              "        buttonEl.style.display =\n",
              "          google.colab.kernel.accessAllowed ? 'block' : 'none';\n",
              "\n",
              "        async function convertToInteractive(key) {\n",
              "          const element = document.querySelector('#df-b18bcc68-7dc4-4ebc-9402-5fadb93ab6a4');\n",
              "          const dataTable =\n",
              "            await google.colab.kernel.invokeFunction('convertToInteractive',\n",
              "                                                     [key], {});\n",
              "          if (!dataTable) return;\n",
              "\n",
              "          const docLinkHtml = 'Like what you see? Visit the ' +\n",
              "            '<a target=\"_blank\" href=https://colab.research.google.com/notebooks/data_table.ipynb>data table notebook</a>'\n",
              "            + ' to learn more about interactive tables.';\n",
              "          element.innerHTML = '';\n",
              "          dataTable['output_type'] = 'display_data';\n",
              "          await google.colab.output.renderOutput(dataTable, element);\n",
              "          const docLink = document.createElement('div');\n",
              "          docLink.innerHTML = docLinkHtml;\n",
              "          element.appendChild(docLink);\n",
              "        }\n",
              "      </script>\n",
              "    </div>\n",
              "  </div>\n",
              "  "
            ]
          },
          "metadata": {},
          "execution_count": 44
        }
      ]
    },
    {
      "cell_type": "code",
      "source": [
        "plt.figure(figsize=(10, 10))\n",
        " \n",
        "# As our concern is with the highly\n",
        "# correlated features only so, we will visualize\n",
        "# our heatmap as per that criteria only.\n",
        "sb.heatmap(total_df.corr() > 0.7, annot=True, cbar=False)\n",
        "plt.show()"
      ],
      "metadata": {
        "colab": {
          "base_uri": "https://localhost:8080/",
          "height": 649
        },
        "id": "BPXSv2Wix2bF",
        "outputId": "0229f7a4-e773-42cb-eb45-6c70c23a8eef"
      },
      "execution_count": null,
      "outputs": [
        {
          "output_type": "display_data",
          "data": {
            "text/plain": [
              "<Figure size 720x720 with 1 Axes>"
            ],
            "image/png": "[encoded data removed]"
          },
          "metadata": {}
        }
      ]
    },
    {
      "cell_type": "code",
      "source": [
        "gc.collect()"
      ],
      "metadata": {
        "colab": {
          "base_uri": "https://localhost:8080/"
        },
        "id": "NCGGSEoDmYrv",
        "outputId": "6d9ce71c-0474-4a9b-b059-ecbcd0c8c8be"
      },
      "execution_count": null,
      "outputs": [
        {
          "output_type": "execute_result",
          "data": {
            "text/plain": [
              "158394"
            ]
          },
          "metadata": {},
          "execution_count": 46
        }
      ]
    },
    {
      "cell_type": "markdown",
      "metadata": {
        "id": "DmcOGehGfQnI"
      },
      "source": [
        "# ML MODELING, BACKTESTING"
      ]
    },
    {
      "cell_type": "markdown",
      "metadata": {
        "id": "8Rs7_lSvguAo"
      },
      "source": [
        "## 1.CLASSIC ML use classification"
      ]
    },
    {
      "cell_type": "code",
      "source": [
        "total_df.shape"
      ],
      "metadata": {
        "colab": {
          "base_uri": "https://localhost:8080/"
        },
        "id": "zoaNPHBIwiFl",
        "outputId": "352dfc65-1564-4a7d-ad6f-2996ffb92285"
      },
      "execution_count": null,
      "outputs": [
        {
          "output_type": "execute_result",
          "data": {
            "text/plain": [
              "(67121, 56)"
            ]
          },
          "metadata": {},
          "execution_count": 47
        }
      ]
    },
    {
      "cell_type": "code",
      "source": [
        "valid_horizon = 67121\n",
        "67121 // 5"
      ],
      "metadata": {
        "colab": {
          "base_uri": "https://localhost:8080/"
        },
        "id": "8TzYD2GpyaBk",
        "outputId": "237dce5c-3892-4ee3-d3b4-8bc77447dd2b"
      },
      "execution_count": null,
      "outputs": [
        {
          "output_type": "execute_result",
          "data": {
            "text/plain": [
              "13424"
            ]
          },
          "metadata": {},
          "execution_count": 48
        }
      ]
    },
    {
      "cell_type": "code",
      "source": [
        "valid_horizon = 13424\n",
        "train = total_df.head(-valid_horizon).copy()\n",
        "test = total_df.tail(valid_horizon)"
      ],
      "metadata": {
        "id": "r6zJjkXewhUV"
      },
      "execution_count": null,
      "outputs": []
    },
    {
      "cell_type": "code",
      "source": [
        "total_df.columns"
      ],
      "metadata": {
        "colab": {
          "base_uri": "https://localhost:8080/"
        },
        "id": "Yg1A-QeUndiL",
        "outputId": "9b515491-4ad9-435e-8d76-ff511be6aab3"
      },
      "execution_count": null,
      "outputs": [
        {
          "output_type": "execute_result",
          "data": {
            "text/plain": [
              "Index(['open', 'high', 'low', 'close', 'volume', 'numtrades', 'bidvolume',\n",
              "       'askvolume', 'close_change', 'close_lable', 'bid0', 'bid1', 'bid2',\n",
              "       'bid3', 'bid4', 'bid5', 'bid6', 'bid7', 'bid8', 'bid9', 'bid10',\n",
              "       'bid11', 'bid12', 'bid13', 'bid14', 'bid15', 'bid16', 'bid17', 'bid18',\n",
              "       'bid19', 'ask20', 'ask21', 'ask22', 'ask23', 'ask24', 'ask25', 'ask26',\n",
              "       'ask27', 'ask28', 'ask29', 'ask30', 'ask31', 'ask32', 'ask33', 'ask34',\n",
              "       'ask35', 'ask36', 'ask37', 'ask38', 'ask39', 'p_b', 'p_a', 'p_t', 'm_+',\n",
              "       'l_t', 'l_t_lable'],\n",
              "      dtype='object')"
            ]
          },
          "metadata": {},
          "execution_count": 50
        }
      ]
    },
    {
      "cell_type": "code",
      "source": [
        "# x_train = train[['open', 'high', 'low',\t\"volume\", \"numtrades\", \"p_t\", \"bidvolume\",\t\"askvolume\", \"bid18\", \"ask20\"]]\n",
        "y_train = train['close_lable']\n",
        "x_train = train[['bid0', 'bid1', 'bid2',\n",
        "       'bid3', 'bid4', 'bid5', 'bid6', 'bid7', 'bid8', 'bid9', 'bid10',\n",
        "       'bid11', 'bid12', 'bid13', 'bid14', 'bid15', 'bid16', 'bid17', 'bid18',\n",
        "       'bid19', 'ask20', 'ask21', 'ask22', 'ask23', 'ask24', 'ask25', 'ask26',\n",
        "       'ask27', 'ask28', 'ask29', 'ask30', 'ask31', 'ask32', 'ask33', 'ask34',\n",
        "       'ask35', 'ask36', 'ask37', 'ask38', 'ask39']]\n",
        "# x_test = test[['open', 'high', 'low',\t\"volume\", \"numtrades\", \"p_t\", \"bidvolume\",\t\"askvolume\", \"bid18\", \"ask20\"]]\n",
        "x_test = test[['bid0', 'bid1', 'bid2',\n",
        "       'bid3', 'bid4', 'bid5', 'bid6', 'bid7', 'bid8', 'bid9', 'bid10',\n",
        "       'bid11', 'bid12', 'bid13', 'bid14', 'bid15', 'bid16', 'bid17', 'bid18',\n",
        "       'bid19', 'ask20', 'ask21', 'ask22', 'ask23', 'ask24', 'ask25', 'ask26',\n",
        "       'ask27', 'ask28', 'ask29', 'ask30', 'ask31', 'ask32', 'ask33', 'ask34',\n",
        "       'ask35', 'ask36', 'ask37', 'ask38', 'ask39']]\n",
        "y_test = test['close_lable']\n",
        "y_train = y_train.to_frame()\n",
        "y_test = y_test.to_frame()"
      ],
      "metadata": {
        "id": "KxlPNfiuzh4S"
      },
      "execution_count": null,
      "outputs": []
    },
    {
      "cell_type": "code",
      "source": [
        "print(f'x_train shape: {x_train.shape}, x_test shape: {x_test.shape}, y_train shape: {y_train.shape}, y_test shape: {y_test.shape}')"
      ],
      "metadata": {
        "colab": {
          "base_uri": "https://localhost:8080/"
        },
        "id": "h_RVCSACyyFs",
        "outputId": "34f78469-c154-4aa0-9832-d54a5f877e6a"
      },
      "execution_count": null,
      "outputs": [
        {
          "output_type": "stream",
          "name": "stdout",
          "text": [
            "x_train shape: (53697, 40), x_test shape: (13424, 40), y_train shape: (53697, 1), y_test shape: (13424, 1)\n"
          ]
        }
      ]
    },
    {
      "cell_type": "code",
      "source": [
        "scaler = StandardScaler()"
      ],
      "metadata": {
        "id": "aiEaKWpWzSTk"
      },
      "execution_count": null,
      "outputs": []
    },
    {
      "cell_type": "code",
      "source": [
        "scaler = scaler.fit(x_train)\n",
        "x_train = scaler.transform(x_train)\n",
        "x_test = scaler.transform(x_test)"
      ],
      "metadata": {
        "id": "2ebih1kD07ds"
      },
      "execution_count": null,
      "outputs": []
    },
    {
      "cell_type": "code",
      "source": [
        "y_train = y_train.to_numpy()\n",
        "y_test = y_test.to_numpy()"
      ],
      "metadata": {
        "id": "q-G9B9q8-q_o"
      },
      "execution_count": null,
      "outputs": []
    },
    {
      "cell_type": "code",
      "source": [
        "models = [LogisticRegression(), XGBClassifier()]\n",
        "# SVC(kernel='poly', probability=True)\n",
        "\n",
        "for i in range(2):\n",
        "  models[i].fit(x_train, y_train )\n",
        " \n",
        "  print(f'{models[i]} : ')\n",
        "  y_train_predict = models[i].predict(x_train)\n",
        "  y_train_predict = y_train_predict.reshape(-1,1)\n",
        "  y_test_predict = models[i].predict(x_test)\n",
        "  y_test_predict = y_test_predict.reshape(-1,1)\n",
        "  \n",
        "  print('Training f1 Score : ', metrics.f1_score(y_train , y_train_predict, average=None))\n",
        "  print('Test f1 Score : ', metrics.f1_score(y_test , y_test_predict, average=None))\n",
        "  print()"
      ],
      "metadata": {
        "colab": {
          "base_uri": "https://localhost:8080/"
        },
        "id": "aIwO20jU1jMI",
        "outputId": "2209ec46-8948-4e71-8ea2-ab9c70d741a7"
      },
      "execution_count": null,
      "outputs": [
        {
          "output_type": "stream",
          "name": "stdout",
          "text": [
            "LogisticRegression() : \n",
            "Training f1 Score :  [0.63438039 0.         0.58921991]\n",
            "Test f1 Score :  [0.62870006 0.         0.28999168]\n",
            "\n",
            "XGBClassifier(objective='multi:softprob') : \n",
            "Training f1 Score :  [0.62893646 0.01099164 0.55568746]\n",
            "Test f1 Score :  [0.61006146 0.00107009 0.56440678]\n",
            "\n"
          ]
        }
      ]
    },
    {
      "cell_type": "markdown",
      "source": [
        "## Backtest XGBClassifier"
      ],
      "metadata": {
        "id": "yVpoYzny5DuB"
      }
    },
    {
      "cell_type": "code",
      "source": [
        "backtest_data = total_df[['bid0', 'bid1', 'bid2',\n",
        "       'bid3', 'bid4', 'bid5', 'bid6', 'bid7', 'bid8', 'bid9', 'bid10',\n",
        "       'bid11', 'bid12', 'bid13', 'bid14', 'bid15', 'bid16', 'bid17', 'bid18',\n",
        "       'bid19', 'ask20', 'ask21', 'ask22', 'ask23', 'ask24', 'ask25', 'ask26',\n",
        "       'ask27', 'ask28', 'ask29', 'ask30', 'ask31', 'ask32', 'ask33', 'ask34',\n",
        "       'ask35', 'ask36', 'ask37', 'ask38', 'ask39', \"close\"]]\n",
        "featuers = backtest_data[['bid0', 'bid1', 'bid2',\n",
        "       'bid3', 'bid4', 'bid5', 'bid6', 'bid7', 'bid8', 'bid9', 'bid10',\n",
        "       'bid11', 'bid12', 'bid13', 'bid14', 'bid15', 'bid16', 'bid17', 'bid18',\n",
        "       'bid19', 'ask20', 'ask21', 'ask22', 'ask23', 'ask24', 'ask25', 'ask26',\n",
        "       'ask27', 'ask28', 'ask29', 'ask30', 'ask31', 'ask32', 'ask33', 'ask34',\n",
        "       'ask35', 'ask36', 'ask37', 'ask38', 'ask39']]\n",
        "featuers = StandardScaler().fit_transform(featuers)\n",
        "featuers = pd.DataFrame(featuers, columns = ['bid0', 'bid1', 'bid2',\n",
        "       'bid3', 'bid4', 'bid5', 'bid6', 'bid7', 'bid8', 'bid9', 'bid10',\n",
        "       'bid11', 'bid12', 'bid13', 'bid14', 'bid15', 'bid16', 'bid17', 'bid18',\n",
        "       'bid19', 'ask20', 'ask21', 'ask22', 'ask23', 'ask24', 'ask25', 'ask26',\n",
        "       'ask27', 'ask28', 'ask29', 'ask30', 'ask31', 'ask32', 'ask33', 'ask34',\n",
        "       'ask35', 'ask36', 'ask37', 'ask38', 'ask39'])"
      ],
      "metadata": {
        "id": "6mfxbaO962sR"
      },
      "execution_count": null,
      "outputs": []
    },
    {
      "cell_type": "code",
      "source": [
        "buy_signals = []\n",
        "sell_signals =[]\n",
        "trigger = 0\n",
        "for x in range(len(backtest_data)):\n",
        "  featuer = featuers.iloc[x].to_numpy()\n",
        "  predict = models[0].predict(featuer.reshape(1, -1))\n",
        "  if int(predict[0]) == 1 and trigger != 1:\n",
        "    buy_signals.append(backtest_data[\"close\"].iloc[x])\n",
        "    sell_signals.append(float('nan'))\n",
        "    trigger = 1\n",
        "  elif predict[0] == -1 and trigger != -1:\n",
        "    sell_signals.append(backtest_data[\"close\"].iloc[x])\n",
        "    buy_signals.append(float('nan'))\n",
        "    trigger = -1\n",
        "  else:\n",
        "    buy_signals.append(float('nan'))\n",
        "    sell_signals.append(float('nan'))\n"
      ],
      "metadata": {
        "id": "nB1tDhj-6h_u"
      },
      "execution_count": null,
      "outputs": []
    },
    {
      "cell_type": "code",
      "source": [
        "backtest_data['Buy Signals'] = buy_signals\n",
        "backtest_data['Sell Signals'] = sell_signals"
      ],
      "metadata": {
        "id": "Qjan-pokA0Bq"
      },
      "execution_count": null,
      "outputs": []
    },
    {
      "cell_type": "code",
      "source": [
        "# plt.plot(backtest_data['close'], label='Share Price', color='lightgray', alpha=0.5)\n",
        "# plt.scatter(backtest_data.index, backtest_data['Buy Signals'], label='Buy Signal', marker=\"^\", color=\"#00ff00\", lw=1)\n",
        "# plt.scatter(backtest_data.index, backtest_data['Sell Signals'], label='Sell Signal', marker=\"v\", color=\"#ff0000\", lw=1)\n",
        "# plt.legend(loc=\"upper left\")\n",
        "# plt.show()"
      ],
      "metadata": {
        "id": "jDz6hf0f9tYb"
      },
      "execution_count": null,
      "outputs": []
    },
    {
      "cell_type": "code",
      "source": [
        "# Compute the percentage of variation of the asset\n",
        "backtest_data[\"pct\"] = backtest_data[\"close\"].pct_change(1)\n",
        "backtest_data.fillna(0, inplace=True)"
      ],
      "metadata": {
        "id": "O6HGhvkiCen2"
      },
      "execution_count": null,
      "outputs": []
    },
    {
      "cell_type": "code",
      "source": [
        "def filter_up(x):\n",
        "    if x > 0:\n",
        "      return 1\n",
        "    else:\n",
        "      return 0\n",
        "def filter_down(x):\n",
        "    if x > 0:\n",
        "      return -1\n",
        "    else:\n",
        "      return 0"
      ],
      "metadata": {
        "id": "BVSKca_8NnJh"
      },
      "execution_count": null,
      "outputs": []
    },
    {
      "cell_type": "code",
      "source": [
        "backtest_data[\"signal_long\"] = backtest_data[\"Buy Signals\"].apply(filter_up)\n",
        "backtest_data[\"signal_short\"] = backtest_data[\"Sell Signals\"].apply(filter_down)"
      ],
      "metadata": {
        "id": "QbMmE3O5N2_V"
      },
      "execution_count": null,
      "outputs": []
    },
    {
      "cell_type": "code",
      "source": [
        "# Compute the positions\n",
        "backtest_data[\"Position\"] = (backtest_data[\"signal_short\"].fillna(method=\"ffill\")+ backtest_data[\"signal_long\"].fillna(method=\"ffill\"))\n",
        "\n",
        "# Compute the return of the strategy\n",
        "backtest_data[\"return\"] = backtest_data[\"pct\"]*(backtest_data[\"Position\"].shift(1))"
      ],
      "metadata": {
        "id": "bF93DeXVFv1F"
      },
      "execution_count": null,
      "outputs": []
    },
    {
      "cell_type": "code",
      "source": [
        "backtest_data[\"return\"].cumsum().plot(figsize=(15,6))"
      ],
      "metadata": {
        "colab": {
          "base_uri": "https://localhost:8080/",
          "height": 408
        },
        "id": "TwMugpmEOiJ5",
        "outputId": "5f466792-5608-4c6f-d0a1-bcac2cf405c4"
      },
      "execution_count": null,
      "outputs": [
        {
          "output_type": "execute_result",
          "data": {
            "text/plain": [
              "<matplotlib.axes._subplots.AxesSubplot at 0x7f25e0341110>"
            ]
          },
          "metadata": {},
          "execution_count": 65
        },
        {
          "output_type": "display_data",
          "data": {
            "text/plain": [
              "<Figure size 1080x432 with 1 Axes>"
            ],
            "image/png": "[encoded data removed]"
          },
          "metadata": {}
        }
      ]
    },
    {
      "cell_type": "code",
      "source": [
        "def drawdown_function(serie):\n",
        "# We compute Cumsum of the returns\n",
        "  cum = serie.dropna().cumsum()+1\n",
        "# We compute max of the cumsum on the period (accumulate max)\n",
        "  running_max = np.maximum.accumulate(cum)\n",
        "# We compute drawdown\n",
        "  drawdown  = cum/running_max - 1 \n",
        "  return drawdown"
      ],
      "metadata": {
        "id": "cc6RMnX_GFbH"
      },
      "execution_count": null,
      "outputs": []
    },
    {
      "cell_type": "code",
      "source": [
        "# We compute drawdown\n",
        "drawdown = drawdown_function(backtest_data[\"return\"])\n",
        "backtest_data[\"drawdown\"] = drawdown \n",
        "# Computation Max drawdown\n",
        "max_drawdown =  -np.min(drawdown)*100\n",
        "print(f\"Max drawdown: {np.round(max_drawdown,1)} %\")"
      ],
      "metadata": {
        "colab": {
          "base_uri": "https://localhost:8080/"
        },
        "id": "9DMXApLGGIRx",
        "outputId": "5c88a3a9-4739-4704-e73b-34a74a7614fa"
      },
      "execution_count": null,
      "outputs": [
        {
          "output_type": "stream",
          "name": "stdout",
          "text": [
            "Max drawdown: 7.5 %\n"
          ]
        }
      ]
    },
    {
      "cell_type": "code",
      "source": [
        "plt.figure(figsize=(15,6))\n",
        "backtest_data[\"drawdown\"].plot()\n",
        "\n",
        "plt.show()"
      ],
      "metadata": {
        "colab": {
          "base_uri": "https://localhost:8080/",
          "height": 391
        },
        "id": "rHgUUOZMPSL9",
        "outputId": "20892ef0-117e-4669-ece4-933c6dfa7f9d"
      },
      "execution_count": null,
      "outputs": [
        {
          "output_type": "display_data",
          "data": {
            "text/plain": [
              "<Figure size 1080x432 with 1 Axes>"
            ],
            "image/png": "[encoded data removed]"
          },
          "metadata": {}
        }
      ]
    },
    {
      "cell_type": "markdown",
      "metadata": {
        "id": "8NoT3C_fgtxC"
      },
      "source": [
        "## 2.DNN"
      ]
    },
    {
      "cell_type": "markdown",
      "source": [
        "## Backtest DNN Backtrader"
      ],
      "metadata": {
        "id": "UFVtLZUu43qb"
      }
    },
    {
      "cell_type": "code",
      "source": [
        "# !pip install backtrader\n",
        "# import backtrader as bt\n",
        "# import datetime"
      ],
      "metadata": {
        "id": "D9Er7PVByVIB"
      },
      "execution_count": null,
      "outputs": []
    },
    {
      "cell_type": "code",
      "source": [
        "# Create a Stratey\n",
        "class LogisticRegression(bt.Strategy):\n",
        "\n",
        "    def log(self, txt, dt=None):\n",
        "        ''' Logging function fot this strategy'''\n",
        "        dt = dt or self.datas[0].datetime.date(0)\n",
        "        print('%s, %s' % (dt.isoformat(), txt))\n",
        "\n",
        "    def __init__(self):\n",
        "        # Keep references\n",
        "        # ['open', 'high', 'low',\t\"volume\", \"numtrades\", \"p_t\", \"bidvolume\",\t\"askvolume\"]\n",
        "        self.dataopen = self.datas[0].open\n",
        "        self.datahigh = self.datas[0].high\n",
        "        self.datalow = self.datas[0].low\n",
        "        self.datavolume = self.datas[0].volume\n",
        "        # self.datanumtrades = self.datas[0].numtrades\n",
        "        # self.datap_t = self.datas[0].p_t\n",
        "        # self.databidvolume = self.datas[0].bidvolume\n",
        "        # self.dataaskvolume = self.datas[0].askvolume\n",
        "        # self.dataclose_lable = self.datas[0].close_lable\n",
        "        self.dataclose = self.datas[0].close\n",
        "\n",
        "\n",
        "    def next(self):\n",
        "        # Simply log the closing price of the series from the reference\n",
        "        self.log('Close, %.2f' % self.dataclose[0])\n",
        "        # x_train=[\n",
        "        #     self.dataopen, self.datahigh, self.datalow,\n",
        "        #     self.datavolume, self.datanumtrades, self.datap_t,\n",
        "        #     self.databidvolume, self.dataaskvolume, self.dataclose_lable,\n",
        "        # ]\n",
        "        # x_train = scaler.transform(x_train)\n",
        "        # predict = models[0].predict(x_train)\n",
        "        # self.log('Predic, %.2f' % predict)\n",
        "        # if predict == 1:\n",
        "        #       self.log('BUY CREATE, %.2f' % self.dataclose[0])\n",
        "        #       self.buy()\n",
        "        # elif predict == -1:\n",
        "        #       self.log('SELL CREATE, %.2f' % self.dataclose[0])\n",
        "        #       self.sell()\n",
        "        # else:\n",
        "        #   self.log('Remain, %.2f' % self.dataclose[0])\n",
        "        #   pass"
      ],
      "metadata": {
        "id": "oqfOELSYygaZ",
        "colab": {
          "base_uri": "https://localhost:8080/",
          "height": 236
        },
        "outputId": "8986ca6d-8a24-4918-dd1b-d4da129934e5"
      },
      "execution_count": null,
      "outputs": [
        {
          "output_type": "error",
          "ename": "NameError",
          "evalue": "ignored",
          "traceback": [
            "\u001b[0;31m---------------------------------------------------------------------------\u001b[0m",
            "\u001b[0;31mNameError\u001b[0m                                 Traceback (most recent call last)",
            "\u001b[0;32m<ipython-input-70-3522f8570826>\u001b[0m in \u001b[0;36m<module>\u001b[0;34m\u001b[0m\n\u001b[1;32m      1\u001b[0m \u001b[0;31m# Create a Stratey\u001b[0m\u001b[0;34m\u001b[0m\u001b[0;34m\u001b[0m\u001b[0;34m\u001b[0m\u001b[0m\n\u001b[0;32m----> 2\u001b[0;31m \u001b[0;32mclass\u001b[0m \u001b[0mLogisticRegression\u001b[0m\u001b[0;34m(\u001b[0m\u001b[0mbt\u001b[0m\u001b[0;34m.\u001b[0m\u001b[0mStrategy\u001b[0m\u001b[0;34m)\u001b[0m\u001b[0;34m:\u001b[0m\u001b[0;34m\u001b[0m\u001b[0;34m\u001b[0m\u001b[0m\n\u001b[0m\u001b[1;32m      3\u001b[0m \u001b[0;34m\u001b[0m\u001b[0m\n\u001b[1;32m      4\u001b[0m     \u001b[0;32mdef\u001b[0m \u001b[0mlog\u001b[0m\u001b[0;34m(\u001b[0m\u001b[0mself\u001b[0m\u001b[0;34m,\u001b[0m \u001b[0mtxt\u001b[0m\u001b[0;34m,\u001b[0m \u001b[0mdt\u001b[0m\u001b[0;34m=\u001b[0m\u001b[0;32mNone\u001b[0m\u001b[0;34m)\u001b[0m\u001b[0;34m:\u001b[0m\u001b[0;34m\u001b[0m\u001b[0;34m\u001b[0m\u001b[0m\n\u001b[1;32m      5\u001b[0m         \u001b[0;34m''' Logging function fot this strategy'''\u001b[0m\u001b[0;34m\u001b[0m\u001b[0;34m\u001b[0m\u001b[0m\n",
            "\u001b[0;31mNameError\u001b[0m: name 'bt' is not defined"
          ]
        }
      ]
    },
    {
      "cell_type": "code",
      "source": [
        "import backtrader.feeds as btfeed\n",
        "\n",
        "datas = btfeed.GenericCSVData(\n",
        "    dataname = \"/content/DataWithBidAskData.csv\" ,\n",
        "    open = 1,\n",
        "    high = 2,\n",
        "    low\t= 3,\n",
        "    close\t=4 ,\n",
        "    volume= 5,\n",
        "    numtrades = 6,\n",
        ")\n",
        "\n",
        "cerebro = bt.Cerebro()\n",
        "cerebro.broker.setcash(1000.0)\n",
        "feed = bt.feeds.PandasData(dataname=data)\n",
        "cerebro.adddata(feed)\n",
        "cerebro.addstrategy(LogisticRegression)"
      ],
      "metadata": {
        "id": "VprW7kmkGXlH"
      },
      "execution_count": null,
      "outputs": []
    },
    {
      "cell_type": "code",
      "source": [
        "# Add a FixedSize sizer according to the stake\n",
        "# cerebro.addsizer(bt.sizers.FixedSize, stake=100)"
      ],
      "metadata": {
        "id": "c__FAIKfzLnC"
      },
      "execution_count": null,
      "outputs": []
    },
    {
      "cell_type": "code",
      "source": [
        "print('Starting Portfolio Value: %.2f' % cerebro.broker.getvalue())\n",
        "cerebro.run()\n",
        "print('Final Portfolio Value: %.2f' % cerebro.broker.getvalue())"
      ],
      "metadata": {
        "id": "-DL9ga2vzPSR"
      },
      "execution_count": null,
      "outputs": []
    },
    {
      "cell_type": "code",
      "source": [],
      "metadata": {
        "id": "glEdldpcEkgE"
      },
      "execution_count": null,
      "outputs": []
    }
  ],
  "metadata": {
    "colab": {
      "provenance": [],
      "collapsed_sections": [
        "ykMB8lUfgS8Y",
        "uhOljGL_vClR",
        "mikaunIlu8Ap",
        "XFW8FmDagf7X",
        "wewDLBTplZMa",
        "XrwdxNtSd9jZ",
        "CQLPrQCweAJ2",
        "R7_OO5oDhzVM",
        "8NoT3C_fgtxC",
        "UFVtLZUu43qb"
      ],
      "toc_visible": true,
      "history_visible": true,
      "include_colab_link": true
    },
    "kernelspec": {
      "display_name": "Python 3",
      "name": "python3"
    },
    "language_info": {
      "name": "python"
    }
  },
  "nbformat": 4,
  "nbformat_minor": 0
}