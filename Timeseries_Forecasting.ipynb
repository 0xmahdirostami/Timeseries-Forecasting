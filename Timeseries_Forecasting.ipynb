{
  "cells": [
    {
      "cell_type": "markdown",
      "metadata": {
        "id": "view-in-github",
        "colab_type": "text"
      },
      "source": [
        "<a href=\"https://colab.research.google.com/github/mahdi-rostami/Timeseries-Forecasting/blob/main/Timeseries_Forecasting.ipynb\" target=\"_parent\"><img src=\"https://colab.research.google.com/assets/colab-badge.svg\" alt=\"Open In Colab\"/></a>"
      ]
    },
    {
      "cell_type": "code",
      "execution_count": null,
      "metadata": {
        "id": "vNtv_VRTkE6T"
      },
      "outputs": [],
      "source": [
        "#import libraries\n",
        "from __future__ import (absolute_import, division, print_function,\n",
        "                        unicode_literals)\n",
        "import pandas as pd\n",
        "import matplotlib.pyplot as plt\n",
        "from matplotlib import cycler\n",
        "import seaborn as sb\n",
        "import numpy as np\n",
        "import gc\n",
        "from operator import itemgetter\n",
        "import warnings\n",
        "from sklearn.preprocessing import StandardScaler\n",
        "from sklearn.linear_model import LogisticRegression\n",
        "from sklearn.svm import SVC\n",
        "from xgboost import XGBClassifier\n",
        "from sklearn import metrics\n",
        "from sklearn.utils import shuffle\n",
        "from operator import itemgetter\n",
        "import seaborn as sns\n",
        "import tensorflow as tf\n",
        "import keras\n",
        "from keras import backend as K\n",
        "from keras.models import load_model, Model, Sequential\n",
        "from keras.layers import Flatten, Dense, Dropout, Activation, Input, LSTM, Reshape, Conv2D, MaxPooling2D, GRU, LeakyReLU\n",
        "from keras.optimizers import Adam\n",
        "from keras.utils import np_utils\n",
        "\n",
        "\n",
        "warnings.filterwarnings('ignore')\n",
        "%matplotlib inline"
      ]
    },
    {
      "cell_type": "code",
      "source": [
        "# set random seeds\n",
        "np.random.seed(1)\n",
        "tf.random.set_seed(2)"
      ],
      "metadata": {
        "id": "GIWwvcFBb6ON"
      },
      "execution_count": null,
      "outputs": []
    },
    {
      "cell_type": "code",
      "source": [
        "gpus = tf.config.experimental.list_physical_devices('GPU')\n",
        "if gpus:\n",
        "    try:\n",
        "    # Currently, memory growth needs to be the same across GPUs\n",
        "        for gpu in gpus:\n",
        "            tf.config.experimental.set_memory_growth(gpu, True)\n",
        "            logical_gpus = tf.config.experimental.list_logical_devices('GPU')\n",
        "        print(len(gpus), \"Physical GPUs,\", len(logical_gpus), \"Logical GPUs\")\n",
        "    except RuntimeError as e:\n",
        "    # Memory growth must be set before GPUs have been initialized\n",
        "        print(e)"
      ],
      "metadata": {
        "colab": {
          "base_uri": "https://localhost:8080/"
        },
        "id": "t_16W9UObZl_",
        "outputId": "a0436246-45d4-406c-c68e-4b8a5b728da8"
      },
      "execution_count": null,
      "outputs": [
        {
          "output_type": "stream",
          "name": "stdout",
          "text": [
            "1 Physical GPUs, 1 Logical GPUs\n"
          ]
        }
      ]
    },
    {
      "cell_type": "code",
      "execution_count": null,
      "metadata": {
        "colab": {
          "base_uri": "https://localhost:8080/"
        },
        "id": "tnLlvDiripMt",
        "outputId": "cd07d5a8-0aa5-489e-ad59-c9afd923b468"
      },
      "outputs": [
        {
          "output_type": "stream",
          "name": "stdout",
          "text": [
            "csv file already existed.\n"
          ]
        }
      ],
      "source": [
        "#download data\n",
        "import os \n",
        "if not os.path.isfile('LOB_NQU22-CME.csv'):\n",
        "    !wget https://raw.githubusercontent.com/0xtweeter/Timeseries-Forecasting/main/data/LOB_NQU22-CME.rar\n",
        "    !pip install unrar\n",
        "    !unrar x \"/content/LOB_NQU22-CME.rar\"\n",
        "    print('data downloaded and exteracted')\n",
        "else :\n",
        "    print('csv file already existed.')"
      ]
    },
    {
      "cell_type": "code",
      "execution_count": null,
      "metadata": {
        "id": "ZQwBcsBwcQPV"
      },
      "outputs": [],
      "source": [
        "#plt style\n",
        "# colors = cycler('color',\n",
        "#                 ['#669FEE', '#66EE91', '#9988DD',\n",
        "#                  '#EECC55', '#88BB44', '#FFBBBB'])\n",
        "# plt.rc('figure', facecolor='#313233')\n",
        "# plt.rc('axes', facecolor=\"#313233\", edgecolor='none',\n",
        "#        axisbelow=True, grid=True, prop_cycle=colors,\n",
        "#        labelcolor='gray')\n",
        "# plt.rc('grid', color='474A4A', linestyle='solid')\n",
        "# plt.rc('xtick', color='gray')\n",
        "# plt.rc('ytick', direction='out', color='gray')\n",
        "# plt.rc('legend', facecolor=\"#313233\", edgecolor=\"#313233\")\n",
        "# plt.rc(\"text\", color=\"#C9C9C9\")\n",
        "plt.style.use('ggplot')"
      ]
    },
    {
      "cell_type": "markdown",
      "metadata": {
        "id": "ykMB8lUfgS8Y"
      },
      "source": [
        "# EDA\n"
      ]
    },
    {
      "cell_type": "code",
      "execution_count": null,
      "metadata": {
        "id": "2COgAfavkJUc"
      },
      "outputs": [],
      "source": [
        "#reading dataset\n",
        "pd.set_option('display.max_columns',None)  #to show all columns\n",
        "colnames=[\n",
        "    'time', 'open', 'high', 'low', 'close', 'volume',\n",
        "     'numtrades', 'bidvolume', 'askvolume', 'lob_bid', 'lob_ask'\n",
        "     ] #columns name\n",
        "Data = pd.read_csv(\"/content/LOB_NQU22-CME.csv\", names=colnames, header=None, index_col='time' )"
      ]
    },
    {
      "cell_type": "code",
      "source": [
        "df = Data.copy()"
      ],
      "metadata": {
        "id": "nJbhktJTVd1z"
      },
      "execution_count": null,
      "outputs": []
    },
    {
      "cell_type": "code",
      "execution_count": null,
      "metadata": {
        "colab": {
          "base_uri": "https://localhost:8080/"
        },
        "id": "v86sh4nxk7wV",
        "outputId": "c5db3682-34dd-4863-b51d-139b6fa7162b"
      },
      "outputs": [
        {
          "output_type": "execute_result",
          "data": {
            "text/plain": [
              "(72907, 10)"
            ]
          },
          "metadata": {},
          "execution_count": 9
        }
      ],
      "source": [
        "df.shape"
      ]
    },
    {
      "cell_type": "code",
      "execution_count": null,
      "metadata": {
        "colab": {
          "base_uri": "https://localhost:8080/",
          "height": 343
        },
        "id": "ljpAu0ph4oDZ",
        "outputId": "57a07d9e-8d71-49d6-ecce-8c7110b70508"
      },
      "outputs": [
        {
          "output_type": "execute_result",
          "data": {
            "text/plain": [
              "                         open      high       low     close  volume  \\\n",
              "time                                                                  \n",
              "2022-03-18  00:00:00  14066.5  14069.75  14061.75  14066.00   145.0   \n",
              "2022-03-18  00:01:00  14064.5  14067.75  14063.00  14066.25    66.0   \n",
              "2022-03-18  00:02:00  14067.0  14068.00  14064.75  14066.25    68.0   \n",
              "\n",
              "                      numtrades  bidvolume  askvolume  \\\n",
              "time                                                    \n",
              "2022-03-18  00:00:00      144.0       60.0       85.0   \n",
              "2022-03-18  00:01:00       64.0       36.0       30.0   \n",
              "2022-03-18  00:02:00       64.0       36.0       32.0   \n",
              "\n",
              "                                                                lob_bid  \\\n",
              "time                                                                      \n",
              "2022-03-18  00:00:00  200.000000|1|578.750000|1|586.500000|1|6490.00...   \n",
              "2022-03-18  00:01:00  200.000000|1|578.750000|1|586.500000|1|6490.00...   \n",
              "2022-03-18  00:02:00  200.000000|1|578.750000|1|586.500000|1|6490.00...   \n",
              "\n",
              "                                                                lob_ask  \n",
              "time                                                                     \n",
              "2022-03-18  00:00:00  14019.500000|1|14019.750000|2|14020.000000|1|1...  \n",
              "2022-03-18  00:01:00  14020.750000|1|14021.000000|1|14021.250000|1|1...  \n",
              "2022-03-18  00:02:00  14022.500000|3|14022.750000|1|14023.000000|1|1...  "
            ],
            "text/html": [
              "\n",
              "  <div id=\"df-51daab4e-8915-489f-b4d2-7c1b8d409cd6\">\n",
              "    <div class=\"colab-df-container\">\n",
              "      <div>\n",
              "<style scoped>\n",
              "    .dataframe tbody tr th:only-of-type {\n",
              "        vertical-align: middle;\n",
              "    }\n",
              "\n",
              "    .dataframe tbody tr th {\n",
              "        vertical-align: top;\n",
              "    }\n",
              "\n",
              "    .dataframe thead th {\n",
              "        text-align: right;\n",
              "    }\n",
              "</style>\n",
              "<table border=\"1\" class=\"dataframe\">\n",
              "  <thead>\n",
              "    <tr style=\"text-align: right;\">\n",
              "      <th></th>\n",
              "      <th>open</th>\n",
              "      <th>high</th>\n",
              "      <th>low</th>\n",
              "      <th>close</th>\n",
              "      <th>volume</th>\n",
              "      <th>numtrades</th>\n",
              "      <th>bidvolume</th>\n",
              "      <th>askvolume</th>\n",
              "      <th>lob_bid</th>\n",
              "      <th>lob_ask</th>\n",
              "    </tr>\n",
              "    <tr>\n",
              "      <th>time</th>\n",
              "      <th></th>\n",
              "      <th></th>\n",
              "      <th></th>\n",
              "      <th></th>\n",
              "      <th></th>\n",
              "      <th></th>\n",
              "      <th></th>\n",
              "      <th></th>\n",
              "      <th></th>\n",
              "      <th></th>\n",
              "    </tr>\n",
              "  </thead>\n",
              "  <tbody>\n",
              "    <tr>\n",
              "      <th>2022-03-18  00:00:00</th>\n",
              "      <td>14066.5</td>\n",
              "      <td>14069.75</td>\n",
              "      <td>14061.75</td>\n",
              "      <td>14066.00</td>\n",
              "      <td>145.0</td>\n",
              "      <td>144.0</td>\n",
              "      <td>60.0</td>\n",
              "      <td>85.0</td>\n",
              "      <td>200.000000|1|578.750000|1|586.500000|1|6490.00...</td>\n",
              "      <td>14019.500000|1|14019.750000|2|14020.000000|1|1...</td>\n",
              "    </tr>\n",
              "    <tr>\n",
              "      <th>2022-03-18  00:01:00</th>\n",
              "      <td>14064.5</td>\n",
              "      <td>14067.75</td>\n",
              "      <td>14063.00</td>\n",
              "      <td>14066.25</td>\n",
              "      <td>66.0</td>\n",
              "      <td>64.0</td>\n",
              "      <td>36.0</td>\n",
              "      <td>30.0</td>\n",
              "      <td>200.000000|1|578.750000|1|586.500000|1|6490.00...</td>\n",
              "      <td>14020.750000|1|14021.000000|1|14021.250000|1|1...</td>\n",
              "    </tr>\n",
              "    <tr>\n",
              "      <th>2022-03-18  00:02:00</th>\n",
              "      <td>14067.0</td>\n",
              "      <td>14068.00</td>\n",
              "      <td>14064.75</td>\n",
              "      <td>14066.25</td>\n",
              "      <td>68.0</td>\n",
              "      <td>64.0</td>\n",
              "      <td>36.0</td>\n",
              "      <td>32.0</td>\n",
              "      <td>200.000000|1|578.750000|1|586.500000|1|6490.00...</td>\n",
              "      <td>14022.500000|3|14022.750000|1|14023.000000|1|1...</td>\n",
              "    </tr>\n",
              "  </tbody>\n",
              "</table>\n",
              "</div>\n",
              "      <button class=\"colab-df-convert\" onclick=\"convertToInteractive('df-51daab4e-8915-489f-b4d2-7c1b8d409cd6')\"\n",
              "              title=\"Convert this dataframe to an interactive table.\"\n",
              "              style=\"display:none;\">\n",
              "        \n",
              "  <svg xmlns=\"http://www.w3.org/2000/svg\" height=\"24px\"viewBox=\"0 0 24 24\"\n",
              "       width=\"24px\">\n",
              "    <path d=\"M0 0h24v24H0V0z\" fill=\"none\"/>\n",
              "    <path d=\"M18.56 5.44l.94 2.06.94-2.06 2.06-.94-2.06-.94-.94-2.06-.94 2.06-2.06.94zm-11 1L8.5 8.5l.94-2.06 2.06-.94-2.06-.94L8.5 2.5l-.94 2.06-2.06.94zm10 10l.94 2.06.94-2.06 2.06-.94-2.06-.94-.94-2.06-.94 2.06-2.06.94z\"/><path d=\"M17.41 7.96l-1.37-1.37c-.4-.4-.92-.59-1.43-.59-.52 0-1.04.2-1.43.59L10.3 9.45l-7.72 7.72c-.78.78-.78 2.05 0 2.83L4 21.41c.39.39.9.59 1.41.59.51 0 1.02-.2 1.41-.59l7.78-7.78 2.81-2.81c.8-.78.8-2.07 0-2.86zM5.41 20L4 18.59l7.72-7.72 1.47 1.35L5.41 20z\"/>\n",
              "  </svg>\n",
              "      </button>\n",
              "      \n",
              "  <style>\n",
              "    .colab-df-container {\n",
              "      display:flex;\n",
              "      flex-wrap:wrap;\n",
              "      gap: 12px;\n",
              "    }\n",
              "\n",
              "    .colab-df-convert {\n",
              "      background-color: #E8F0FE;\n",
              "      border: none;\n",
              "      border-radius: 50%;\n",
              "      cursor: pointer;\n",
              "      display: none;\n",
              "      fill: #1967D2;\n",
              "      height: 32px;\n",
              "      padding: 0 0 0 0;\n",
              "      width: 32px;\n",
              "    }\n",
              "\n",
              "    .colab-df-convert:hover {\n",
              "      background-color: #E2EBFA;\n",
              "      box-shadow: 0px 1px 2px rgba(60, 64, 67, 0.3), 0px 1px 3px 1px rgba(60, 64, 67, 0.15);\n",
              "      fill: #174EA6;\n",
              "    }\n",
              "\n",
              "    [theme=dark] .colab-df-convert {\n",
              "      background-color: #3B4455;\n",
              "      fill: #D2E3FC;\n",
              "    }\n",
              "\n",
              "    [theme=dark] .colab-df-convert:hover {\n",
              "      background-color: #434B5C;\n",
              "      box-shadow: 0px 1px 3px 1px rgba(0, 0, 0, 0.15);\n",
              "      filter: drop-shadow(0px 1px 2px rgba(0, 0, 0, 0.3));\n",
              "      fill: #FFFFFF;\n",
              "    }\n",
              "  </style>\n",
              "\n",
              "      <script>\n",
              "        const buttonEl =\n",
              "          document.querySelector('#df-51daab4e-8915-489f-b4d2-7c1b8d409cd6 button.colab-df-convert');\n",
              "        buttonEl.style.display =\n",
              "          google.colab.kernel.accessAllowed ? 'block' : 'none';\n",
              "\n",
              "        async function convertToInteractive(key) {\n",
              "          const element = document.querySelector('#df-51daab4e-8915-489f-b4d2-7c1b8d409cd6');\n",
              "          const dataTable =\n",
              "            await google.colab.kernel.invokeFunction('convertToInteractive',\n",
              "                                                     [key], {});\n",
              "          if (!dataTable) return;\n",
              "\n",
              "          const docLinkHtml = 'Like what you see? Visit the ' +\n",
              "            '<a target=\"_blank\" href=https://colab.research.google.com/notebooks/data_table.ipynb>data table notebook</a>'\n",
              "            + ' to learn more about interactive tables.';\n",
              "          element.innerHTML = '';\n",
              "          dataTable['output_type'] = 'display_data';\n",
              "          await google.colab.output.renderOutput(dataTable, element);\n",
              "          const docLink = document.createElement('div');\n",
              "          docLink.innerHTML = docLinkHtml;\n",
              "          element.appendChild(docLink);\n",
              "        }\n",
              "      </script>\n",
              "    </div>\n",
              "  </div>\n",
              "  "
            ]
          },
          "metadata": {},
          "execution_count": 10
        }
      ],
      "source": [
        "df.head(3)"
      ]
    },
    {
      "cell_type": "code",
      "execution_count": null,
      "metadata": {
        "colab": {
          "base_uri": "https://localhost:8080/"
        },
        "id": "2ktWV1m167Pf",
        "outputId": "f4b24f20-b2fc-4438-a975-93ffeb08d4b1"
      },
      "outputs": [
        {
          "output_type": "stream",
          "name": "stdout",
          "text": [
            "<class 'pandas.core.frame.DataFrame'>\n",
            "Index: 72907 entries, 2022-03-18  00:00:00 to 2022-06-29  16:15:00\n",
            "Data columns (total 10 columns):\n",
            " #   Column     Non-Null Count  Dtype  \n",
            "---  ------     --------------  -----  \n",
            " 0   open       72907 non-null  float64\n",
            " 1   high       72907 non-null  float64\n",
            " 2   low        72907 non-null  float64\n",
            " 3   close      72907 non-null  float64\n",
            " 4   volume     72907 non-null  float64\n",
            " 5   numtrades  72907 non-null  float64\n",
            " 6   bidvolume  72907 non-null  float64\n",
            " 7   askvolume  72907 non-null  float64\n",
            " 8   lob_bid    72907 non-null  object \n",
            " 9   lob_ask    72907 non-null  object \n",
            "dtypes: float64(8), object(2)\n",
            "memory usage: 6.1+ MB\n"
          ]
        }
      ],
      "source": [
        "df.info()"
      ]
    },
    {
      "cell_type": "code",
      "execution_count": null,
      "metadata": {
        "colab": {
          "base_uri": "https://localhost:8080/",
          "height": 300
        },
        "id": "8zK3kJq87aub",
        "outputId": "24a4439b-1a98-4a3d-9322-cb1401ac29c9"
      },
      "outputs": [
        {
          "output_type": "execute_result",
          "data": {
            "text/plain": [
              "               open          high           low         close        volume  \\\n",
              "count  72907.000000  72907.000000  72907.000000  72907.000000  72907.000000   \n",
              "mean   13339.652328  13343.960775  13335.343534  13339.642065    453.720521   \n",
              "std     1264.345092   1263.763152   1264.884332   1264.338144    702.840828   \n",
              "min    11071.000000  11076.750000  11068.500000  11071.250000      1.000000   \n",
              "25%    12123.000000  12127.250000  12118.000000  12122.875000     60.000000   \n",
              "50%    13458.250000  13464.250000  13453.500000  13458.500000    140.000000   \n",
              "75%    14458.250000  14462.500000  14453.750000  14458.250000    600.000000   \n",
              "max    15310.750000  15311.500000  15307.000000  15310.750000  14469.000000   \n",
              "\n",
              "          numtrades     bidvolume     askvolume  \n",
              "count  72907.000000  72907.000000  72907.000000  \n",
              "mean     413.374491    227.202546    226.517975  \n",
              "std      633.438076    354.099034    354.567693  \n",
              "min        1.000000      0.000000      0.000000  \n",
              "25%       55.000000     29.000000     29.000000  \n",
              "50%      128.000000     70.000000     70.000000  \n",
              "75%      549.000000    299.000000    298.000000  \n",
              "max    11819.000000   7066.000000   7403.000000  "
            ],
            "text/html": [
              "\n",
              "  <div id=\"df-32d7b5c4-b088-4208-86d8-733441d3cf1c\">\n",
              "    <div class=\"colab-df-container\">\n",
              "      <div>\n",
              "<style scoped>\n",
              "    .dataframe tbody tr th:only-of-type {\n",
              "        vertical-align: middle;\n",
              "    }\n",
              "\n",
              "    .dataframe tbody tr th {\n",
              "        vertical-align: top;\n",
              "    }\n",
              "\n",
              "    .dataframe thead th {\n",
              "        text-align: right;\n",
              "    }\n",
              "</style>\n",
              "<table border=\"1\" class=\"dataframe\">\n",
              "  <thead>\n",
              "    <tr style=\"text-align: right;\">\n",
              "      <th></th>\n",
              "      <th>open</th>\n",
              "      <th>high</th>\n",
              "      <th>low</th>\n",
              "      <th>close</th>\n",
              "      <th>volume</th>\n",
              "      <th>numtrades</th>\n",
              "      <th>bidvolume</th>\n",
              "      <th>askvolume</th>\n",
              "    </tr>\n",
              "  </thead>\n",
              "  <tbody>\n",
              "    <tr>\n",
              "      <th>count</th>\n",
              "      <td>72907.000000</td>\n",
              "      <td>72907.000000</td>\n",
              "      <td>72907.000000</td>\n",
              "      <td>72907.000000</td>\n",
              "      <td>72907.000000</td>\n",
              "      <td>72907.000000</td>\n",
              "      <td>72907.000000</td>\n",
              "      <td>72907.000000</td>\n",
              "    </tr>\n",
              "    <tr>\n",
              "      <th>mean</th>\n",
              "      <td>13339.652328</td>\n",
              "      <td>13343.960775</td>\n",
              "      <td>13335.343534</td>\n",
              "      <td>13339.642065</td>\n",
              "      <td>453.720521</td>\n",
              "      <td>413.374491</td>\n",
              "      <td>227.202546</td>\n",
              "      <td>226.517975</td>\n",
              "    </tr>\n",
              "    <tr>\n",
              "      <th>std</th>\n",
              "      <td>1264.345092</td>\n",
              "      <td>1263.763152</td>\n",
              "      <td>1264.884332</td>\n",
              "      <td>1264.338144</td>\n",
              "      <td>702.840828</td>\n",
              "      <td>633.438076</td>\n",
              "      <td>354.099034</td>\n",
              "      <td>354.567693</td>\n",
              "    </tr>\n",
              "    <tr>\n",
              "      <th>min</th>\n",
              "      <td>11071.000000</td>\n",
              "      <td>11076.750000</td>\n",
              "      <td>11068.500000</td>\n",
              "      <td>11071.250000</td>\n",
              "      <td>1.000000</td>\n",
              "      <td>1.000000</td>\n",
              "      <td>0.000000</td>\n",
              "      <td>0.000000</td>\n",
              "    </tr>\n",
              "    <tr>\n",
              "      <th>25%</th>\n",
              "      <td>12123.000000</td>\n",
              "      <td>12127.250000</td>\n",
              "      <td>12118.000000</td>\n",
              "      <td>12122.875000</td>\n",
              "      <td>60.000000</td>\n",
              "      <td>55.000000</td>\n",
              "      <td>29.000000</td>\n",
              "      <td>29.000000</td>\n",
              "    </tr>\n",
              "    <tr>\n",
              "      <th>50%</th>\n",
              "      <td>13458.250000</td>\n",
              "      <td>13464.250000</td>\n",
              "      <td>13453.500000</td>\n",
              "      <td>13458.500000</td>\n",
              "      <td>140.000000</td>\n",
              "      <td>128.000000</td>\n",
              "      <td>70.000000</td>\n",
              "      <td>70.000000</td>\n",
              "    </tr>\n",
              "    <tr>\n",
              "      <th>75%</th>\n",
              "      <td>14458.250000</td>\n",
              "      <td>14462.500000</td>\n",
              "      <td>14453.750000</td>\n",
              "      <td>14458.250000</td>\n",
              "      <td>600.000000</td>\n",
              "      <td>549.000000</td>\n",
              "      <td>299.000000</td>\n",
              "      <td>298.000000</td>\n",
              "    </tr>\n",
              "    <tr>\n",
              "      <th>max</th>\n",
              "      <td>15310.750000</td>\n",
              "      <td>15311.500000</td>\n",
              "      <td>15307.000000</td>\n",
              "      <td>15310.750000</td>\n",
              "      <td>14469.000000</td>\n",
              "      <td>11819.000000</td>\n",
              "      <td>7066.000000</td>\n",
              "      <td>7403.000000</td>\n",
              "    </tr>\n",
              "  </tbody>\n",
              "</table>\n",
              "</div>\n",
              "      <button class=\"colab-df-convert\" onclick=\"convertToInteractive('df-32d7b5c4-b088-4208-86d8-733441d3cf1c')\"\n",
              "              title=\"Convert this dataframe to an interactive table.\"\n",
              "              style=\"display:none;\">\n",
              "        \n",
              "  <svg xmlns=\"http://www.w3.org/2000/svg\" height=\"24px\"viewBox=\"0 0 24 24\"\n",
              "       width=\"24px\">\n",
              "    <path d=\"M0 0h24v24H0V0z\" fill=\"none\"/>\n",
              "    <path d=\"M18.56 5.44l.94 2.06.94-2.06 2.06-.94-2.06-.94-.94-2.06-.94 2.06-2.06.94zm-11 1L8.5 8.5l.94-2.06 2.06-.94-2.06-.94L8.5 2.5l-.94 2.06-2.06.94zm10 10l.94 2.06.94-2.06 2.06-.94-2.06-.94-.94-2.06-.94 2.06-2.06.94z\"/><path d=\"M17.41 7.96l-1.37-1.37c-.4-.4-.92-.59-1.43-.59-.52 0-1.04.2-1.43.59L10.3 9.45l-7.72 7.72c-.78.78-.78 2.05 0 2.83L4 21.41c.39.39.9.59 1.41.59.51 0 1.02-.2 1.41-.59l7.78-7.78 2.81-2.81c.8-.78.8-2.07 0-2.86zM5.41 20L4 18.59l7.72-7.72 1.47 1.35L5.41 20z\"/>\n",
              "  </svg>\n",
              "      </button>\n",
              "      \n",
              "  <style>\n",
              "    .colab-df-container {\n",
              "      display:flex;\n",
              "      flex-wrap:wrap;\n",
              "      gap: 12px;\n",
              "    }\n",
              "\n",
              "    .colab-df-convert {\n",
              "      background-color: #E8F0FE;\n",
              "      border: none;\n",
              "      border-radius: 50%;\n",
              "      cursor: pointer;\n",
              "      display: none;\n",
              "      fill: #1967D2;\n",
              "      height: 32px;\n",
              "      padding: 0 0 0 0;\n",
              "      width: 32px;\n",
              "    }\n",
              "\n",
              "    .colab-df-convert:hover {\n",
              "      background-color: #E2EBFA;\n",
              "      box-shadow: 0px 1px 2px rgba(60, 64, 67, 0.3), 0px 1px 3px 1px rgba(60, 64, 67, 0.15);\n",
              "      fill: #174EA6;\n",
              "    }\n",
              "\n",
              "    [theme=dark] .colab-df-convert {\n",
              "      background-color: #3B4455;\n",
              "      fill: #D2E3FC;\n",
              "    }\n",
              "\n",
              "    [theme=dark] .colab-df-convert:hover {\n",
              "      background-color: #434B5C;\n",
              "      box-shadow: 0px 1px 3px 1px rgba(0, 0, 0, 0.15);\n",
              "      filter: drop-shadow(0px 1px 2px rgba(0, 0, 0, 0.3));\n",
              "      fill: #FFFFFF;\n",
              "    }\n",
              "  </style>\n",
              "\n",
              "      <script>\n",
              "        const buttonEl =\n",
              "          document.querySelector('#df-32d7b5c4-b088-4208-86d8-733441d3cf1c button.colab-df-convert');\n",
              "        buttonEl.style.display =\n",
              "          google.colab.kernel.accessAllowed ? 'block' : 'none';\n",
              "\n",
              "        async function convertToInteractive(key) {\n",
              "          const element = document.querySelector('#df-32d7b5c4-b088-4208-86d8-733441d3cf1c');\n",
              "          const dataTable =\n",
              "            await google.colab.kernel.invokeFunction('convertToInteractive',\n",
              "                                                     [key], {});\n",
              "          if (!dataTable) return;\n",
              "\n",
              "          const docLinkHtml = 'Like what you see? Visit the ' +\n",
              "            '<a target=\"_blank\" href=https://colab.research.google.com/notebooks/data_table.ipynb>data table notebook</a>'\n",
              "            + ' to learn more about interactive tables.';\n",
              "          element.innerHTML = '';\n",
              "          dataTable['output_type'] = 'display_data';\n",
              "          await google.colab.output.renderOutput(dataTable, element);\n",
              "          const docLink = document.createElement('div');\n",
              "          docLink.innerHTML = docLinkHtml;\n",
              "          element.appendChild(docLink);\n",
              "        }\n",
              "      </script>\n",
              "    </div>\n",
              "  </div>\n",
              "  "
            ]
          },
          "metadata": {},
          "execution_count": 12
        }
      ],
      "source": [
        "df.describe()"
      ]
    },
    {
      "cell_type": "markdown",
      "metadata": {
        "id": "uhOljGL_vClR"
      },
      "source": [
        "## null items\n"
      ]
    },
    {
      "cell_type": "code",
      "execution_count": null,
      "metadata": {
        "colab": {
          "base_uri": "https://localhost:8080/"
        },
        "id": "22lzGASeeMT2",
        "outputId": "8b431ac0-b186-46e8-dd75-c8e89edb9b15"
      },
      "outputs": [
        {
          "output_type": "execute_result",
          "data": {
            "text/plain": [
              "open         0\n",
              "high         0\n",
              "low          0\n",
              "close        0\n",
              "volume       0\n",
              "numtrades    0\n",
              "bidvolume    0\n",
              "askvolume    0\n",
              "lob_bid      0\n",
              "lob_ask      0\n",
              "dtype: int64"
            ]
          },
          "metadata": {},
          "execution_count": 13
        }
      ],
      "source": [
        "df.isnull().sum()"
      ]
    },
    {
      "cell_type": "markdown",
      "metadata": {
        "id": "mikaunIlu8Ap"
      },
      "source": [
        "## Outliers"
      ]
    },
    {
      "cell_type": "code",
      "execution_count": null,
      "metadata": {
        "colab": {
          "base_uri": "https://localhost:8080/"
        },
        "id": "BfxnVkvotPsM",
        "outputId": "37a3c626-7e86-4c32-abb9-aece4772bcd7"
      },
      "outputs": [
        {
          "output_type": "execute_result",
          "data": {
            "text/plain": [
              "open         -1.327697\n",
              "high         -1.327039\n",
              "low          -1.328361\n",
              "close        -1.327696\n",
              "volume       24.174307\n",
              "numtrades    18.861598\n",
              "bidvolume    23.645504\n",
              "askvolume    25.204776\n",
              "dtype: float64"
            ]
          },
          "metadata": {},
          "execution_count": 14
        }
      ],
      "source": [
        "# Return unbiased kurtosis over requested axis using Fisher's definition of kurtosis (kurtosis of normal == 0.0).\n",
        "# The result is normalized by N-1\n",
        "kurt = df.kurt(numeric_only=True)[:]\n",
        "kurt"
      ]
    },
    {
      "cell_type": "code",
      "execution_count": null,
      "metadata": {
        "colab": {
          "base_uri": "https://localhost:8080/",
          "height": 1000
        },
        "id": "kypeqr1xtsbw",
        "outputId": "8e554d17-f49a-456b-a1e9-6606faf1cf34"
      },
      "outputs": [
        {
          "output_type": "display_data",
          "data": {
            "text/plain": [
              "<Figure size 288x288 with 1 Axes>"
            ],
            "image/png": "[encoded data removed]"
          },
          "metadata": {}
        },
        {
          "output_type": "display_data",
          "data": {
            "text/plain": [
              "<Figure size 288x288 with 1 Axes>"
            ],
            "image/png": "[encoded data removed]"
          },
          "metadata": {}
        },
        {
          "output_type": "display_data",
          "data": {
            "text/plain": [
              "<Figure size 288x288 with 1 Axes>"
            ],
            "image/png": "[encoded data removed]"
          },
          "metadata": {}
        },
        {
          "output_type": "display_data",
          "data": {
            "text/plain": [
              "<Figure size 288x288 with 1 Axes>"
            ],
            "image/png": "[encoded data removed]"
          },
          "metadata": {}
        }
      ],
      "source": [
        "outliers = [\"volume\", \"numtrades\", \"bidvolume\", \"askvolume\"]\n",
        "for col in outliers:\n",
        "    plt.figure(figsize=(4, 4))\n",
        "    df.boxplot(column=[col])"
      ]
    },
    {
      "cell_type": "code",
      "execution_count": null,
      "metadata": {
        "id": "3AYCnLuTuAZR"
      },
      "outputs": [],
      "source": [
        "def outliers_iqr(ys):\n",
        "    quartile_1, quartile_3 = np.percentile(ys, [25, 75])\n",
        "    iqr = quartile_3 - quartile_1\n",
        "    lower_bound = quartile_1 - (iqr * 1.5)\n",
        "    upper_bound = quartile_3 + (iqr * 1.5)\n",
        "    return np.where((ys > upper_bound) | (ys < lower_bound))\n",
        "\n",
        "def outliers_z_score(ys):\n",
        "    threshold = 3\n",
        "    mean_y = np.mean(ys)\n",
        "    stdev_y = np.std(ys)\n",
        "    z_scores = [(y - mean_y) / stdev_y for y in ys]\n",
        "    return np.where(np.abs(z_scores) > threshold)"
      ]
    },
    {
      "cell_type": "code",
      "execution_count": null,
      "metadata": {
        "colab": {
          "base_uri": "https://localhost:8080/"
        },
        "id": "88dTR0gNuFXa",
        "outputId": "e42744fe-25e2-4ec3-8661-39fdf3e8bc88"
      },
      "outputs": [
        {
          "output_type": "stream",
          "name": "stdout",
          "text": [
            "volume: 6380\n",
            "numtrades: 6335\n",
            "bidvolume: 6380\n",
            "askvolume: 6403\n"
          ]
        }
      ],
      "source": [
        "for col in outliers:\n",
        "    print(f'{col}: {len(outliers_iqr(df[col])[0])}')"
      ]
    },
    {
      "cell_type": "code",
      "execution_count": null,
      "metadata": {
        "colab": {
          "base_uri": "https://localhost:8080/"
        },
        "id": "KiC9mhyluGtn",
        "outputId": "a1d8dd1e-4cb1-4b93-9b9d-56dc9f563d17"
      },
      "outputs": [
        {
          "output_type": "stream",
          "name": "stdout",
          "text": [
            "volume: 1487\n",
            "numtrades: 1530\n",
            "bidvolume: 1495\n",
            "askvolume: 1493\n"
          ]
        }
      ],
      "source": [
        "for col in outliers:\n",
        "    print(f'{col}: {len(outliers_z_score(df[col])[0])}')"
      ]
    },
    {
      "cell_type": "code",
      "execution_count": null,
      "metadata": {
        "id": "gJ8V5BIMuXHa"
      },
      "outputs": [],
      "source": [
        "for i in outliers:\n",
        "    mean_y = np.mean(df[i])\n",
        "    stdev_y = np.std(df[i])\n",
        "    lower_bound = mean_y - (3 * stdev_y)\n",
        "    upper_bound = mean_y + (3 * stdev_y)\n",
        "    df = df[df[i]<upper_bound]\n",
        "    df = df[df[i]>lower_bound]"
      ]
    },
    {
      "cell_type": "code",
      "execution_count": null,
      "metadata": {
        "colab": {
          "base_uri": "https://localhost:8080/"
        },
        "id": "Vw-hajRCuhlJ",
        "outputId": "04c2e080-7e27-45a5-9a64-02d4b102c3b1"
      },
      "outputs": [
        {
          "output_type": "execute_result",
          "data": {
            "text/plain": [
              "(67121, 10)"
            ]
          },
          "metadata": {},
          "execution_count": 20
        }
      ],
      "source": [
        "df.shape"
      ]
    },
    {
      "cell_type": "markdown",
      "metadata": {
        "id": "QcjTEERPgCcI"
      },
      "source": [
        "## visualizing stock prices history"
      ]
    },
    {
      "cell_type": "code",
      "execution_count": null,
      "metadata": {
        "colab": {
          "base_uri": "https://localhost:8080/",
          "height": 354
        },
        "id": "SY_2xn1kafuM",
        "outputId": "f6321d54-37b5-4f43-fd0a-7832d139a952"
      },
      "outputs": [
        {
          "output_type": "execute_result",
          "data": {
            "text/plain": [
              "Text(0.5, 1.0, 'the total volume of stock being traded for E-mini Nasdaq-100')"
            ]
          },
          "metadata": {},
          "execution_count": 21
        },
        {
          "output_type": "display_data",
          "data": {
            "text/plain": [
              "<Figure size 1296x360 with 1 Axes>"
            ],
            "image/png": "[encoded data removed]"
          },
          "metadata": {}
        }
      ],
      "source": [
        "plt.figure(figsize=(18,5))\n",
        "df['close'].plot()\n",
        "plt.ylabel('Volume')\n",
        "plt.xlabel(None)\n",
        "plt.title(f\"the total volume of stock being traded for E-mini Nasdaq-100\")"
      ]
    },
    {
      "cell_type": "code",
      "source": [
        "features = [\"open\", \"high\",\t\"low\", \"close\",\t\"volume\",\t\"numtrades\",\t\"bidvolume\",\t\"askvolume\"]\n",
        " \n",
        "plt.subplots(figsize=(20,10))\n",
        " \n",
        "for i, col in enumerate(features):\n",
        "  plt.subplot(2,4,i+1)\n",
        "  sb.distplot(df[col])\n",
        "plt.show()"
      ],
      "metadata": {
        "colab": {
          "base_uri": "https://localhost:8080/",
          "height": 592
        },
        "id": "9n2cG-LVuj0G",
        "outputId": "087b3fa8-90e7-4f1c-a45c-2237748ba4fb"
      },
      "execution_count": null,
      "outputs": [
        {
          "output_type": "display_data",
          "data": {
            "text/plain": [
              "<Figure size 1440x720 with 8 Axes>"
            ],
            "image/png": "[encoded data removed]"
          },
          "metadata": {}
        }
      ]
    },
    {
      "cell_type": "markdown",
      "metadata": {
        "id": "0sMXmaHtgdmt"
      },
      "source": [
        "### The total volume of stock"
      ]
    },
    {
      "cell_type": "code",
      "execution_count": null,
      "metadata": {
        "colab": {
          "base_uri": "https://localhost:8080/",
          "height": 354
        },
        "id": "FtskSXs1ghFe",
        "outputId": "f809c65d-b8dd-47c9-89a4-3d6ebfd3e555"
      },
      "outputs": [
        {
          "output_type": "execute_result",
          "data": {
            "text/plain": [
              "Text(0.5, 1.0, 'the total volume of stock being traded each day for E-mini Nasdaq-100')"
            ]
          },
          "metadata": {},
          "execution_count": 23
        },
        {
          "output_type": "display_data",
          "data": {
            "text/plain": [
              "<Figure size 1296x360 with 1 Axes>"
            ],
            "image/png": "[encoded data removed]"
          },
          "metadata": {}
        }
      ],
      "source": [
        "plt.figure(figsize=(18,5))\n",
        "df['volume'].plot()\n",
        "plt.ylabel('Volume')\n",
        "plt.xlabel(None)\n",
        "plt.title(f\"the total volume of stock being traded each day for E-mini Nasdaq-100\")"
      ]
    },
    {
      "cell_type": "markdown",
      "metadata": {
        "id": "AdUHw77pgyed"
      },
      "source": [
        "### Moving averages"
      ]
    },
    {
      "cell_type": "code",
      "execution_count": null,
      "metadata": {
        "colab": {
          "base_uri": "https://localhost:8080/",
          "height": 175
        },
        "id": "WR6yJwgGmlaJ",
        "outputId": "72a87107-f94f-486b-c151-9f384ea64dfd"
      },
      "outputs": [
        {
          "output_type": "execute_result",
          "data": {
            "text/plain": [
              "                    open          high           low         close  \\\n",
              "time                                                                 \n",
              "2022-03-18  14141.586726  14144.865140  14138.221374  14141.714801   \n",
              "2022-03-20  14453.708333  14456.345833  14451.579167  14453.681250   \n",
              "2022-03-21  14396.346698  14399.521030  14392.863404  14396.116352   \n",
              "\n",
              "                volume   numtrades   bidvolume   askvolume  \n",
              "time                                                        \n",
              "2022-03-18  304.256997  275.206107  151.964377  152.292621  \n",
              "2022-03-20   72.683333   65.491667   35.941667   36.741667  \n",
              "2022-03-21  282.197327  259.839623  142.043239  140.154088  "
            ],
            "text/html": [
              "\n",
              "  <div id=\"df-836951a2-c7d1-49d9-8683-8ad129d604a4\">\n",
              "    <div class=\"colab-df-container\">\n",
              "      <div>\n",
              "<style scoped>\n",
              "    .dataframe tbody tr th:only-of-type {\n",
              "        vertical-align: middle;\n",
              "    }\n",
              "\n",
              "    .dataframe tbody tr th {\n",
              "        vertical-align: top;\n",
              "    }\n",
              "\n",
              "    .dataframe thead th {\n",
              "        text-align: right;\n",
              "    }\n",
              "</style>\n",
              "<table border=\"1\" class=\"dataframe\">\n",
              "  <thead>\n",
              "    <tr style=\"text-align: right;\">\n",
              "      <th></th>\n",
              "      <th>open</th>\n",
              "      <th>high</th>\n",
              "      <th>low</th>\n",
              "      <th>close</th>\n",
              "      <th>volume</th>\n",
              "      <th>numtrades</th>\n",
              "      <th>bidvolume</th>\n",
              "      <th>askvolume</th>\n",
              "    </tr>\n",
              "    <tr>\n",
              "      <th>time</th>\n",
              "      <th></th>\n",
              "      <th></th>\n",
              "      <th></th>\n",
              "      <th></th>\n",
              "      <th></th>\n",
              "      <th></th>\n",
              "      <th></th>\n",
              "      <th></th>\n",
              "    </tr>\n",
              "  </thead>\n",
              "  <tbody>\n",
              "    <tr>\n",
              "      <th>2022-03-18</th>\n",
              "      <td>14141.586726</td>\n",
              "      <td>14144.865140</td>\n",
              "      <td>14138.221374</td>\n",
              "      <td>14141.714801</td>\n",
              "      <td>304.256997</td>\n",
              "      <td>275.206107</td>\n",
              "      <td>151.964377</td>\n",
              "      <td>152.292621</td>\n",
              "    </tr>\n",
              "    <tr>\n",
              "      <th>2022-03-20</th>\n",
              "      <td>14453.708333</td>\n",
              "      <td>14456.345833</td>\n",
              "      <td>14451.579167</td>\n",
              "      <td>14453.681250</td>\n",
              "      <td>72.683333</td>\n",
              "      <td>65.491667</td>\n",
              "      <td>35.941667</td>\n",
              "      <td>36.741667</td>\n",
              "    </tr>\n",
              "    <tr>\n",
              "      <th>2022-03-21</th>\n",
              "      <td>14396.346698</td>\n",
              "      <td>14399.521030</td>\n",
              "      <td>14392.863404</td>\n",
              "      <td>14396.116352</td>\n",
              "      <td>282.197327</td>\n",
              "      <td>259.839623</td>\n",
              "      <td>142.043239</td>\n",
              "      <td>140.154088</td>\n",
              "    </tr>\n",
              "  </tbody>\n",
              "</table>\n",
              "</div>\n",
              "      <button class=\"colab-df-convert\" onclick=\"convertToInteractive('df-836951a2-c7d1-49d9-8683-8ad129d604a4')\"\n",
              "              title=\"Convert this dataframe to an interactive table.\"\n",
              "              style=\"display:none;\">\n",
              "        \n",
              "  <svg xmlns=\"http://www.w3.org/2000/svg\" height=\"24px\"viewBox=\"0 0 24 24\"\n",
              "       width=\"24px\">\n",
              "    <path d=\"M0 0h24v24H0V0z\" fill=\"none\"/>\n",
              "    <path d=\"M18.56 5.44l.94 2.06.94-2.06 2.06-.94-2.06-.94-.94-2.06-.94 2.06-2.06.94zm-11 1L8.5 8.5l.94-2.06 2.06-.94-2.06-.94L8.5 2.5l-.94 2.06-2.06.94zm10 10l.94 2.06.94-2.06 2.06-.94-2.06-.94-.94-2.06-.94 2.06-2.06.94z\"/><path d=\"M17.41 7.96l-1.37-1.37c-.4-.4-.92-.59-1.43-.59-.52 0-1.04.2-1.43.59L10.3 9.45l-7.72 7.72c-.78.78-.78 2.05 0 2.83L4 21.41c.39.39.9.59 1.41.59.51 0 1.02-.2 1.41-.59l7.78-7.78 2.81-2.81c.8-.78.8-2.07 0-2.86zM5.41 20L4 18.59l7.72-7.72 1.47 1.35L5.41 20z\"/>\n",
              "  </svg>\n",
              "      </button>\n",
              "      \n",
              "  <style>\n",
              "    .colab-df-container {\n",
              "      display:flex;\n",
              "      flex-wrap:wrap;\n",
              "      gap: 12px;\n",
              "    }\n",
              "\n",
              "    .colab-df-convert {\n",
              "      background-color: #E8F0FE;\n",
              "      border: none;\n",
              "      border-radius: 50%;\n",
              "      cursor: pointer;\n",
              "      display: none;\n",
              "      fill: #1967D2;\n",
              "      height: 32px;\n",
              "      padding: 0 0 0 0;\n",
              "      width: 32px;\n",
              "    }\n",
              "\n",
              "    .colab-df-convert:hover {\n",
              "      background-color: #E2EBFA;\n",
              "      box-shadow: 0px 1px 2px rgba(60, 64, 67, 0.3), 0px 1px 3px 1px rgba(60, 64, 67, 0.15);\n",
              "      fill: #174EA6;\n",
              "    }\n",
              "\n",
              "    [theme=dark] .colab-df-convert {\n",
              "      background-color: #3B4455;\n",
              "      fill: #D2E3FC;\n",
              "    }\n",
              "\n",
              "    [theme=dark] .colab-df-convert:hover {\n",
              "      background-color: #434B5C;\n",
              "      box-shadow: 0px 1px 3px 1px rgba(0, 0, 0, 0.15);\n",
              "      filter: drop-shadow(0px 1px 2px rgba(0, 0, 0, 0.3));\n",
              "      fill: #FFFFFF;\n",
              "    }\n",
              "  </style>\n",
              "\n",
              "      <script>\n",
              "        const buttonEl =\n",
              "          document.querySelector('#df-836951a2-c7d1-49d9-8683-8ad129d604a4 button.colab-df-convert');\n",
              "        buttonEl.style.display =\n",
              "          google.colab.kernel.accessAllowed ? 'block' : 'none';\n",
              "\n",
              "        async function convertToInteractive(key) {\n",
              "          const element = document.querySelector('#df-836951a2-c7d1-49d9-8683-8ad129d604a4');\n",
              "          const dataTable =\n",
              "            await google.colab.kernel.invokeFunction('convertToInteractive',\n",
              "                                                     [key], {});\n",
              "          if (!dataTable) return;\n",
              "\n",
              "          const docLinkHtml = 'Like what you see? Visit the ' +\n",
              "            '<a target=\"_blank\" href=https://colab.research.google.com/notebooks/data_table.ipynb>data table notebook</a>'\n",
              "            + ' to learn more about interactive tables.';\n",
              "          element.innerHTML = '';\n",
              "          dataTable['output_type'] = 'display_data';\n",
              "          await google.colab.output.renderOutput(dataTable, element);\n",
              "          const docLink = document.createElement('div');\n",
              "          docLink.innerHTML = docLinkHtml;\n",
              "          element.appendChild(docLink);\n",
              "        }\n",
              "      </script>\n",
              "    </div>\n",
              "  </div>\n",
              "  "
            ]
          },
          "metadata": {},
          "execution_count": 24
        }
      ],
      "source": [
        "#dataframe daily\n",
        "df_daily = df.copy()\n",
        "df_daily.index = pd.to_datetime(df_daily.index)\n",
        "df_daily = df_daily.resample('D').mean()\n",
        "df_daily.dropna(axis = 0, inplace=True)\n",
        "df_daily.head(3)"
      ]
    },
    {
      "cell_type": "code",
      "execution_count": null,
      "metadata": {
        "id": "fELVyi9Cg1hd"
      },
      "outputs": [],
      "source": [
        "df_daily['ma for 5 days'] = df_daily['close'].rolling(5).mean()"
      ]
    },
    {
      "cell_type": "code",
      "execution_count": null,
      "metadata": {
        "colab": {
          "base_uri": "https://localhost:8080/",
          "height": 323
        },
        "id": "UfNCML9BhTC1",
        "outputId": "a83c2fe8-5b93-4d24-ed9d-24827439efed"
      },
      "outputs": [
        {
          "output_type": "execute_result",
          "data": {
            "text/plain": [
              "<matplotlib.axes._subplots.AxesSubplot at 0x7fa0d67ef650>"
            ]
          },
          "metadata": {},
          "execution_count": 26
        },
        {
          "output_type": "display_data",
          "data": {
            "text/plain": [
              "<Figure size 1296x360 with 0 Axes>"
            ]
          },
          "metadata": {}
        },
        {
          "output_type": "display_data",
          "data": {
            "text/plain": [
              "<Figure size 432x288 with 1 Axes>"
            ],
            "image/png": "[encoded data removed]"
          },
          "metadata": {}
        }
      ],
      "source": [
        "plt.figure(figsize=(18,5))\n",
        "\n",
        "df_daily[['close', 'ma for 5 days']].plot()"
      ]
    },
    {
      "cell_type": "code",
      "source": [
        "del df_daily\n",
        "gc.collect()"
      ],
      "metadata": {
        "colab": {
          "base_uri": "https://localhost:8080/"
        },
        "id": "emIyt9SCN6dR",
        "outputId": "62067e36-0971-4050-8326-e679b246cff4"
      },
      "execution_count": null,
      "outputs": [
        {
          "output_type": "execute_result",
          "data": {
            "text/plain": [
              "41688"
            ]
          },
          "metadata": {},
          "execution_count": 27
        }
      ]
    },
    {
      "cell_type": "markdown",
      "metadata": {
        "id": "XFW8FmDagf7X"
      },
      "source": [
        "# DATA LABELING"
      ]
    },
    {
      "cell_type": "markdown",
      "source": [
        "## close price labeling"
      ],
      "metadata": {
        "id": "wewDLBTplZMa"
      }
    },
    {
      "cell_type": "code",
      "execution_count": null,
      "metadata": {
        "id": "vZK3Yc-f0b1H"
      },
      "outputs": [],
      "source": [
        "alpha_up = 0.5\n",
        "alpha_down = -0.5\n",
        "def filter(x):\n",
        "    if x > alpha_up:\n",
        "      x = +1\n",
        "      return x\n",
        "    elif x < alpha_down:\n",
        "      x=-1\n",
        "      return x\n",
        "    else:\n",
        "        return 0"
      ]
    },
    {
      "cell_type": "code",
      "execution_count": null,
      "metadata": {
        "id": "DGiEFMLWvobn"
      },
      "outputs": [],
      "source": [
        "df['close_change'] = df['close'].diff()\n",
        "df['close_lable'] = df[\"close_change\"].apply(filter)\n",
        "df.fillna(0, inplace=True)"
      ]
    },
    {
      "cell_type": "code",
      "execution_count": null,
      "metadata": {
        "colab": {
          "base_uri": "https://localhost:8080/",
          "height": 343
        },
        "id": "i7nsZx7S0guI",
        "outputId": "790d9972-8338-4b98-a8c4-fd84331415a4"
      },
      "outputs": [
        {
          "output_type": "execute_result",
          "data": {
            "text/plain": [
              "                         open      high       low     close  volume  \\\n",
              "time                                                                  \n",
              "2022-03-18  00:00:00  14066.5  14069.75  14061.75  14066.00   145.0   \n",
              "2022-03-18  00:01:00  14064.5  14067.75  14063.00  14066.25    66.0   \n",
              "2022-03-18  00:02:00  14067.0  14068.00  14064.75  14066.25    68.0   \n",
              "\n",
              "                      numtrades  bidvolume  askvolume  \\\n",
              "time                                                    \n",
              "2022-03-18  00:00:00      144.0       60.0       85.0   \n",
              "2022-03-18  00:01:00       64.0       36.0       30.0   \n",
              "2022-03-18  00:02:00       64.0       36.0       32.0   \n",
              "\n",
              "                                                                lob_bid  \\\n",
              "time                                                                      \n",
              "2022-03-18  00:00:00  200.000000|1|578.750000|1|586.500000|1|6490.00...   \n",
              "2022-03-18  00:01:00  200.000000|1|578.750000|1|586.500000|1|6490.00...   \n",
              "2022-03-18  00:02:00  200.000000|1|578.750000|1|586.500000|1|6490.00...   \n",
              "\n",
              "                                                                lob_ask  \\\n",
              "time                                                                      \n",
              "2022-03-18  00:00:00  14019.500000|1|14019.750000|2|14020.000000|1|1...   \n",
              "2022-03-18  00:01:00  14020.750000|1|14021.000000|1|14021.250000|1|1...   \n",
              "2022-03-18  00:02:00  14022.500000|3|14022.750000|1|14023.000000|1|1...   \n",
              "\n",
              "                      close_change  close_lable  \n",
              "time                                             \n",
              "2022-03-18  00:00:00          0.00            0  \n",
              "2022-03-18  00:01:00          0.25            0  \n",
              "2022-03-18  00:02:00          0.00            0  "
            ],
            "text/html": [
              "\n",
              "  <div id=\"df-3aabd9c3-24a5-4ccc-82da-c98a822ca22b\">\n",
              "    <div class=\"colab-df-container\">\n",
              "      <div>\n",
              "<style scoped>\n",
              "    .dataframe tbody tr th:only-of-type {\n",
              "        vertical-align: middle;\n",
              "    }\n",
              "\n",
              "    .dataframe tbody tr th {\n",
              "        vertical-align: top;\n",
              "    }\n",
              "\n",
              "    .dataframe thead th {\n",
              "        text-align: right;\n",
              "    }\n",
              "</style>\n",
              "<table border=\"1\" class=\"dataframe\">\n",
              "  <thead>\n",
              "    <tr style=\"text-align: right;\">\n",
              "      <th></th>\n",
              "      <th>open</th>\n",
              "      <th>high</th>\n",
              "      <th>low</th>\n",
              "      <th>close</th>\n",
              "      <th>volume</th>\n",
              "      <th>numtrades</th>\n",
              "      <th>bidvolume</th>\n",
              "      <th>askvolume</th>\n",
              "      <th>lob_bid</th>\n",
              "      <th>lob_ask</th>\n",
              "      <th>close_change</th>\n",
              "      <th>close_lable</th>\n",
              "    </tr>\n",
              "    <tr>\n",
              "      <th>time</th>\n",
              "      <th></th>\n",
              "      <th></th>\n",
              "      <th></th>\n",
              "      <th></th>\n",
              "      <th></th>\n",
              "      <th></th>\n",
              "      <th></th>\n",
              "      <th></th>\n",
              "      <th></th>\n",
              "      <th></th>\n",
              "      <th></th>\n",
              "      <th></th>\n",
              "    </tr>\n",
              "  </thead>\n",
              "  <tbody>\n",
              "    <tr>\n",
              "      <th>2022-03-18  00:00:00</th>\n",
              "      <td>14066.5</td>\n",
              "      <td>14069.75</td>\n",
              "      <td>14061.75</td>\n",
              "      <td>14066.00</td>\n",
              "      <td>145.0</td>\n",
              "      <td>144.0</td>\n",
              "      <td>60.0</td>\n",
              "      <td>85.0</td>\n",
              "      <td>200.000000|1|578.750000|1|586.500000|1|6490.00...</td>\n",
              "      <td>14019.500000|1|14019.750000|2|14020.000000|1|1...</td>\n",
              "      <td>0.00</td>\n",
              "      <td>0</td>\n",
              "    </tr>\n",
              "    <tr>\n",
              "      <th>2022-03-18  00:01:00</th>\n",
              "      <td>14064.5</td>\n",
              "      <td>14067.75</td>\n",
              "      <td>14063.00</td>\n",
              "      <td>14066.25</td>\n",
              "      <td>66.0</td>\n",
              "      <td>64.0</td>\n",
              "      <td>36.0</td>\n",
              "      <td>30.0</td>\n",
              "      <td>200.000000|1|578.750000|1|586.500000|1|6490.00...</td>\n",
              "      <td>14020.750000|1|14021.000000|1|14021.250000|1|1...</td>\n",
              "      <td>0.25</td>\n",
              "      <td>0</td>\n",
              "    </tr>\n",
              "    <tr>\n",
              "      <th>2022-03-18  00:02:00</th>\n",
              "      <td>14067.0</td>\n",
              "      <td>14068.00</td>\n",
              "      <td>14064.75</td>\n",
              "      <td>14066.25</td>\n",
              "      <td>68.0</td>\n",
              "      <td>64.0</td>\n",
              "      <td>36.0</td>\n",
              "      <td>32.0</td>\n",
              "      <td>200.000000|1|578.750000|1|586.500000|1|6490.00...</td>\n",
              "      <td>14022.500000|3|14022.750000|1|14023.000000|1|1...</td>\n",
              "      <td>0.00</td>\n",
              "      <td>0</td>\n",
              "    </tr>\n",
              "  </tbody>\n",
              "</table>\n",
              "</div>\n",
              "      <button class=\"colab-df-convert\" onclick=\"convertToInteractive('df-3aabd9c3-24a5-4ccc-82da-c98a822ca22b')\"\n",
              "              title=\"Convert this dataframe to an interactive table.\"\n",
              "              style=\"display:none;\">\n",
              "        \n",
              "  <svg xmlns=\"http://www.w3.org/2000/svg\" height=\"24px\"viewBox=\"0 0 24 24\"\n",
              "       width=\"24px\">\n",
              "    <path d=\"M0 0h24v24H0V0z\" fill=\"none\"/>\n",
              "    <path d=\"M18.56 5.44l.94 2.06.94-2.06 2.06-.94-2.06-.94-.94-2.06-.94 2.06-2.06.94zm-11 1L8.5 8.5l.94-2.06 2.06-.94-2.06-.94L8.5 2.5l-.94 2.06-2.06.94zm10 10l.94 2.06.94-2.06 2.06-.94-2.06-.94-.94-2.06-.94 2.06-2.06.94z\"/><path d=\"M17.41 7.96l-1.37-1.37c-.4-.4-.92-.59-1.43-.59-.52 0-1.04.2-1.43.59L10.3 9.45l-7.72 7.72c-.78.78-.78 2.05 0 2.83L4 21.41c.39.39.9.59 1.41.59.51 0 1.02-.2 1.41-.59l7.78-7.78 2.81-2.81c.8-.78.8-2.07 0-2.86zM5.41 20L4 18.59l7.72-7.72 1.47 1.35L5.41 20z\"/>\n",
              "  </svg>\n",
              "      </button>\n",
              "      \n",
              "  <style>\n",
              "    .colab-df-container {\n",
              "      display:flex;\n",
              "      flex-wrap:wrap;\n",
              "      gap: 12px;\n",
              "    }\n",
              "\n",
              "    .colab-df-convert {\n",
              "      background-color: #E8F0FE;\n",
              "      border: none;\n",
              "      border-radius: 50%;\n",
              "      cursor: pointer;\n",
              "      display: none;\n",
              "      fill: #1967D2;\n",
              "      height: 32px;\n",
              "      padding: 0 0 0 0;\n",
              "      width: 32px;\n",
              "    }\n",
              "\n",
              "    .colab-df-convert:hover {\n",
              "      background-color: #E2EBFA;\n",
              "      box-shadow: 0px 1px 2px rgba(60, 64, 67, 0.3), 0px 1px 3px 1px rgba(60, 64, 67, 0.15);\n",
              "      fill: #174EA6;\n",
              "    }\n",
              "\n",
              "    [theme=dark] .colab-df-convert {\n",
              "      background-color: #3B4455;\n",
              "      fill: #D2E3FC;\n",
              "    }\n",
              "\n",
              "    [theme=dark] .colab-df-convert:hover {\n",
              "      background-color: #434B5C;\n",
              "      box-shadow: 0px 1px 3px 1px rgba(0, 0, 0, 0.15);\n",
              "      filter: drop-shadow(0px 1px 2px rgba(0, 0, 0, 0.3));\n",
              "      fill: #FFFFFF;\n",
              "    }\n",
              "  </style>\n",
              "\n",
              "      <script>\n",
              "        const buttonEl =\n",
              "          document.querySelector('#df-3aabd9c3-24a5-4ccc-82da-c98a822ca22b button.colab-df-convert');\n",
              "        buttonEl.style.display =\n",
              "          google.colab.kernel.accessAllowed ? 'block' : 'none';\n",
              "\n",
              "        async function convertToInteractive(key) {\n",
              "          const element = document.querySelector('#df-3aabd9c3-24a5-4ccc-82da-c98a822ca22b');\n",
              "          const dataTable =\n",
              "            await google.colab.kernel.invokeFunction('convertToInteractive',\n",
              "                                                     [key], {});\n",
              "          if (!dataTable) return;\n",
              "\n",
              "          const docLinkHtml = 'Like what you see? Visit the ' +\n",
              "            '<a target=\"_blank\" href=https://colab.research.google.com/notebooks/data_table.ipynb>data table notebook</a>'\n",
              "            + ' to learn more about interactive tables.';\n",
              "          element.innerHTML = '';\n",
              "          dataTable['output_type'] = 'display_data';\n",
              "          await google.colab.output.renderOutput(dataTable, element);\n",
              "          const docLink = document.createElement('div');\n",
              "          docLink.innerHTML = docLinkHtml;\n",
              "          element.appendChild(docLink);\n",
              "        }\n",
              "      </script>\n",
              "    </div>\n",
              "  </div>\n",
              "  "
            ]
          },
          "metadata": {},
          "execution_count": 30
        }
      ],
      "source": [
        "df.head(3)"
      ]
    },
    {
      "cell_type": "code",
      "source": [
        "plt.pie(df['close_lable'].value_counts().values,\n",
        "        labels=[-1, 0, 1], autopct='%1.1f%%')\n",
        "plt.show()"
      ],
      "metadata": {
        "colab": {
          "base_uri": "https://localhost:8080/",
          "height": 248
        },
        "id": "e1vKuqK3v5Ct",
        "outputId": "dabc3572-3640-4de2-bf41-7a6373fde9a3"
      },
      "execution_count": null,
      "outputs": [
        {
          "output_type": "display_data",
          "data": {
            "text/plain": [
              "<Figure size 432x288 with 1 Axes>"
            ],
            "image/png": "[encoded data removed]"
          },
          "metadata": {}
        }
      ]
    },
    {
      "cell_type": "markdown",
      "source": [
        "## ask-bid orders labeling [DEEPLOB](https://ieeexplore.ieee.org/document/8673598/references#references)"
      ],
      "metadata": {
        "id": "IWEJ6XuGleNm"
      }
    },
    {
      "cell_type": "markdown",
      "source": [
        "### ask column"
      ],
      "metadata": {
        "id": "XrwdxNtSd9jZ"
      }
    },
    {
      "cell_type": "code",
      "source": [
        "df['lob_ask'] = df[\"lob_ask\"].str.split('|')"
      ],
      "metadata": {
        "id": "m9Y4Ocj9RWHy"
      },
      "execution_count": null,
      "outputs": []
    },
    {
      "cell_type": "code",
      "source": [
        "for row in df.index:\n",
        "  close = df.loc[row, \"close\"]\n",
        "  lenght = len(df.loc[row, \"lob_ask\"])\n",
        "  for index in range(lenght):\n",
        "    number = float( df.loc[row, \"lob_ask\"][index])\n",
        "    if number > close:\n",
        "      df.loc[row, \"lob_ask\"] = str(df.loc[row, \"lob_ask\"][index:index+20])\n",
        "      break"
      ],
      "metadata": {
        "id": "QE9YoQQQRqJt"
      },
      "execution_count": null,
      "outputs": []
    },
    {
      "cell_type": "code",
      "source": [
        "df[\"lob_ask\"] = df[\"lob_ask\"].str.replace('[',\"\")\n",
        "df[\"lob_ask\"] = df[\"lob_ask\"].str.replace(']',\"\")\n",
        "\n",
        "df_ask = df[\"lob_ask\"].str.split(',', expand=True)\n",
        "df.drop(columns=[\"lob_ask\"], inplace=True)"
      ],
      "metadata": {
        "id": "Qd6VDUFnXAOk"
      },
      "execution_count": null,
      "outputs": []
    },
    {
      "cell_type": "code",
      "source": [
        "for i in range(20):\n",
        "  df_ask[i] = df_ask[i].str.replace(\"'\",\"\")\n",
        "  df_ask[i] = df_ask[i].astype(float)"
      ],
      "metadata": {
        "id": "jS_MSZYsbG-d"
      },
      "execution_count": null,
      "outputs": []
    },
    {
      "cell_type": "code",
      "source": [
        "ask_cols = [f'ask{i}' for i in range(20, 40)]\n",
        "df_ask.columns = ask_cols"
      ],
      "metadata": {
        "id": "LPR-3KmobV8F"
      },
      "execution_count": null,
      "outputs": []
    },
    {
      "cell_type": "code",
      "source": [
        "df_ask.head(3)"
      ],
      "metadata": {
        "colab": {
          "base_uri": "https://localhost:8080/",
          "height": 343
        },
        "id": "UWv_pKdKaP8x",
        "outputId": "2b01e6e8-e551-4ee3-bd47-0f93c288daec"
      },
      "execution_count": null,
      "outputs": [
        {
          "output_type": "execute_result",
          "data": {
            "text/plain": [
              "                        ask20  ask21    ask22  ask23    ask24  ask25    ask26  \\\n",
              "time                                                                            \n",
              "2022-03-18  00:00:00  14066.5    2.0  14067.0    2.0  14067.5    2.0  14068.0   \n",
              "2022-03-18  00:01:00  14066.5    2.0  14067.0    2.0  14067.5    2.0  14068.0   \n",
              "2022-03-18  00:02:00  14066.5    2.0  14067.0    2.0  14067.5    2.0  14068.0   \n",
              "\n",
              "                      ask27     ask28  ask29    ask30  ask31    ask32  ask33  \\\n",
              "time                                                                           \n",
              "2022-03-18  00:00:00    3.0  14068.25    1.0  14068.5    2.0  14069.0    4.0   \n",
              "2022-03-18  00:01:00    3.0  14068.25    1.0  14068.5    2.0  14069.0    4.0   \n",
              "2022-03-18  00:02:00    3.0  14068.25    1.0  14068.5    2.0  14069.0    4.0   \n",
              "\n",
              "                        ask34  ask35    ask36  ask37     ask38  ask39  \n",
              "time                                                                   \n",
              "2022-03-18  00:00:00  14069.5    2.0  14070.0    8.0  14070.25    2.0  \n",
              "2022-03-18  00:01:00  14069.5    2.0  14070.0    8.0  14070.25    2.0  \n",
              "2022-03-18  00:02:00  14069.5    2.0  14070.0    8.0  14070.25    2.0  "
            ],
            "text/html": [
              "\n",
              "  <div id=\"df-d3ad9597-73ac-44d0-b4f6-496a45277fb3\">\n",
              "    <div class=\"colab-df-container\">\n",
              "      <div>\n",
              "<style scoped>\n",
              "    .dataframe tbody tr th:only-of-type {\n",
              "        vertical-align: middle;\n",
              "    }\n",
              "\n",
              "    .dataframe tbody tr th {\n",
              "        vertical-align: top;\n",
              "    }\n",
              "\n",
              "    .dataframe thead th {\n",
              "        text-align: right;\n",
              "    }\n",
              "</style>\n",
              "<table border=\"1\" class=\"dataframe\">\n",
              "  <thead>\n",
              "    <tr style=\"text-align: right;\">\n",
              "      <th></th>\n",
              "      <th>ask20</th>\n",
              "      <th>ask21</th>\n",
              "      <th>ask22</th>\n",
              "      <th>ask23</th>\n",
              "      <th>ask24</th>\n",
              "      <th>ask25</th>\n",
              "      <th>ask26</th>\n",
              "      <th>ask27</th>\n",
              "      <th>ask28</th>\n",
              "      <th>ask29</th>\n",
              "      <th>ask30</th>\n",
              "      <th>ask31</th>\n",
              "      <th>ask32</th>\n",
              "      <th>ask33</th>\n",
              "      <th>ask34</th>\n",
              "      <th>ask35</th>\n",
              "      <th>ask36</th>\n",
              "      <th>ask37</th>\n",
              "      <th>ask38</th>\n",
              "      <th>ask39</th>\n",
              "    </tr>\n",
              "    <tr>\n",
              "      <th>time</th>\n",
              "      <th></th>\n",
              "      <th></th>\n",
              "      <th></th>\n",
              "      <th></th>\n",
              "      <th></th>\n",
              "      <th></th>\n",
              "      <th></th>\n",
              "      <th></th>\n",
              "      <th></th>\n",
              "      <th></th>\n",
              "      <th></th>\n",
              "      <th></th>\n",
              "      <th></th>\n",
              "      <th></th>\n",
              "      <th></th>\n",
              "      <th></th>\n",
              "      <th></th>\n",
              "      <th></th>\n",
              "      <th></th>\n",
              "      <th></th>\n",
              "    </tr>\n",
              "  </thead>\n",
              "  <tbody>\n",
              "    <tr>\n",
              "      <th>2022-03-18  00:00:00</th>\n",
              "      <td>14066.5</td>\n",
              "      <td>2.0</td>\n",
              "      <td>14067.0</td>\n",
              "      <td>2.0</td>\n",
              "      <td>14067.5</td>\n",
              "      <td>2.0</td>\n",
              "      <td>14068.0</td>\n",
              "      <td>3.0</td>\n",
              "      <td>14068.25</td>\n",
              "      <td>1.0</td>\n",
              "      <td>14068.5</td>\n",
              "      <td>2.0</td>\n",
              "      <td>14069.0</td>\n",
              "      <td>4.0</td>\n",
              "      <td>14069.5</td>\n",
              "      <td>2.0</td>\n",
              "      <td>14070.0</td>\n",
              "      <td>8.0</td>\n",
              "      <td>14070.25</td>\n",
              "      <td>2.0</td>\n",
              "    </tr>\n",
              "    <tr>\n",
              "      <th>2022-03-18  00:01:00</th>\n",
              "      <td>14066.5</td>\n",
              "      <td>2.0</td>\n",
              "      <td>14067.0</td>\n",
              "      <td>2.0</td>\n",
              "      <td>14067.5</td>\n",
              "      <td>2.0</td>\n",
              "      <td>14068.0</td>\n",
              "      <td>3.0</td>\n",
              "      <td>14068.25</td>\n",
              "      <td>1.0</td>\n",
              "      <td>14068.5</td>\n",
              "      <td>2.0</td>\n",
              "      <td>14069.0</td>\n",
              "      <td>4.0</td>\n",
              "      <td>14069.5</td>\n",
              "      <td>2.0</td>\n",
              "      <td>14070.0</td>\n",
              "      <td>8.0</td>\n",
              "      <td>14070.25</td>\n",
              "      <td>2.0</td>\n",
              "    </tr>\n",
              "    <tr>\n",
              "      <th>2022-03-18  00:02:00</th>\n",
              "      <td>14066.5</td>\n",
              "      <td>2.0</td>\n",
              "      <td>14067.0</td>\n",
              "      <td>2.0</td>\n",
              "      <td>14067.5</td>\n",
              "      <td>2.0</td>\n",
              "      <td>14068.0</td>\n",
              "      <td>3.0</td>\n",
              "      <td>14068.25</td>\n",
              "      <td>1.0</td>\n",
              "      <td>14068.5</td>\n",
              "      <td>2.0</td>\n",
              "      <td>14069.0</td>\n",
              "      <td>4.0</td>\n",
              "      <td>14069.5</td>\n",
              "      <td>2.0</td>\n",
              "      <td>14070.0</td>\n",
              "      <td>8.0</td>\n",
              "      <td>14070.25</td>\n",
              "      <td>2.0</td>\n",
              "    </tr>\n",
              "  </tbody>\n",
              "</table>\n",
              "</div>\n",
              "      <button class=\"colab-df-convert\" onclick=\"convertToInteractive('df-d3ad9597-73ac-44d0-b4f6-496a45277fb3')\"\n",
              "              title=\"Convert this dataframe to an interactive table.\"\n",
              "              style=\"display:none;\">\n",
              "        \n",
              "  <svg xmlns=\"http://www.w3.org/2000/svg\" height=\"24px\"viewBox=\"0 0 24 24\"\n",
              "       width=\"24px\">\n",
              "    <path d=\"M0 0h24v24H0V0z\" fill=\"none\"/>\n",
              "    <path d=\"M18.56 5.44l.94 2.06.94-2.06 2.06-.94-2.06-.94-.94-2.06-.94 2.06-2.06.94zm-11 1L8.5 8.5l.94-2.06 2.06-.94-2.06-.94L8.5 2.5l-.94 2.06-2.06.94zm10 10l.94 2.06.94-2.06 2.06-.94-2.06-.94-.94-2.06-.94 2.06-2.06.94z\"/><path d=\"M17.41 7.96l-1.37-1.37c-.4-.4-.92-.59-1.43-.59-.52 0-1.04.2-1.43.59L10.3 9.45l-7.72 7.72c-.78.78-.78 2.05 0 2.83L4 21.41c.39.39.9.59 1.41.59.51 0 1.02-.2 1.41-.59l7.78-7.78 2.81-2.81c.8-.78.8-2.07 0-2.86zM5.41 20L4 18.59l7.72-7.72 1.47 1.35L5.41 20z\"/>\n",
              "  </svg>\n",
              "      </button>\n",
              "      \n",
              "  <style>\n",
              "    .colab-df-container {\n",
              "      display:flex;\n",
              "      flex-wrap:wrap;\n",
              "      gap: 12px;\n",
              "    }\n",
              "\n",
              "    .colab-df-convert {\n",
              "      background-color: #E8F0FE;\n",
              "      border: none;\n",
              "      border-radius: 50%;\n",
              "      cursor: pointer;\n",
              "      display: none;\n",
              "      fill: #1967D2;\n",
              "      height: 32px;\n",
              "      padding: 0 0 0 0;\n",
              "      width: 32px;\n",
              "    }\n",
              "\n",
              "    .colab-df-convert:hover {\n",
              "      background-color: #E2EBFA;\n",
              "      box-shadow: 0px 1px 2px rgba(60, 64, 67, 0.3), 0px 1px 3px 1px rgba(60, 64, 67, 0.15);\n",
              "      fill: #174EA6;\n",
              "    }\n",
              "\n",
              "    [theme=dark] .colab-df-convert {\n",
              "      background-color: #3B4455;\n",
              "      fill: #D2E3FC;\n",
              "    }\n",
              "\n",
              "    [theme=dark] .colab-df-convert:hover {\n",
              "      background-color: #434B5C;\n",
              "      box-shadow: 0px 1px 3px 1px rgba(0, 0, 0, 0.15);\n",
              "      filter: drop-shadow(0px 1px 2px rgba(0, 0, 0, 0.3));\n",
              "      fill: #FFFFFF;\n",
              "    }\n",
              "  </style>\n",
              "\n",
              "      <script>\n",
              "        const buttonEl =\n",
              "          document.querySelector('#df-d3ad9597-73ac-44d0-b4f6-496a45277fb3 button.colab-df-convert');\n",
              "        buttonEl.style.display =\n",
              "          google.colab.kernel.accessAllowed ? 'block' : 'none';\n",
              "\n",
              "        async function convertToInteractive(key) {\n",
              "          const element = document.querySelector('#df-d3ad9597-73ac-44d0-b4f6-496a45277fb3');\n",
              "          const dataTable =\n",
              "            await google.colab.kernel.invokeFunction('convertToInteractive',\n",
              "                                                     [key], {});\n",
              "          if (!dataTable) return;\n",
              "\n",
              "          const docLinkHtml = 'Like what you see? Visit the ' +\n",
              "            '<a target=\"_blank\" href=https://colab.research.google.com/notebooks/data_table.ipynb>data table notebook</a>'\n",
              "            + ' to learn more about interactive tables.';\n",
              "          element.innerHTML = '';\n",
              "          dataTable['output_type'] = 'display_data';\n",
              "          await google.colab.output.renderOutput(dataTable, element);\n",
              "          const docLink = document.createElement('div');\n",
              "          docLink.innerHTML = docLinkHtml;\n",
              "          element.appendChild(docLink);\n",
              "        }\n",
              "      </script>\n",
              "    </div>\n",
              "  </div>\n",
              "  "
            ]
          },
          "metadata": {},
          "execution_count": 37
        }
      ]
    },
    {
      "cell_type": "markdown",
      "source": [
        "### bid cloumn"
      ],
      "metadata": {
        "id": "CQLPrQCweAJ2"
      }
    },
    {
      "cell_type": "code",
      "source": [
        "df['lob_bid'] = df[\"lob_bid\"].str.split('|')"
      ],
      "metadata": {
        "id": "vlLyY0GFbgg_"
      },
      "execution_count": null,
      "outputs": []
    },
    {
      "cell_type": "code",
      "source": [
        "keys = [i for i in range(20)]\n",
        "values = [itemgetter(-i) for i in range(2, 22)] \n",
        " \n",
        "myDict = { k:v for (k,v) in zip(keys, values)} \n",
        "df_bid = df['lob_bid'].transform(myDict)\n",
        "df.drop(columns=[\"lob_bid\"], inplace=True)"
      ],
      "metadata": {
        "id": "OkU6WkTpyV3t"
      },
      "execution_count": null,
      "outputs": []
    },
    {
      "cell_type": "code",
      "source": [
        "for i in range(20):\n",
        "  df_bid[i] = df_bid[i].astype(float)"
      ],
      "metadata": {
        "id": "isTADQ7wTJWE"
      },
      "execution_count": null,
      "outputs": []
    },
    {
      "cell_type": "code",
      "source": [
        "bid_cols = [f'bid{i}' for i in range(19,-1,-1)]\n",
        "df_bid.columns = bid_cols"
      ],
      "metadata": {
        "id": "BdsbwiRTaHRg"
      },
      "execution_count": null,
      "outputs": []
    },
    {
      "cell_type": "code",
      "source": [
        "df_bid = df_bid[[f'bid{i}' for i in range(20)]]"
      ],
      "metadata": {
        "id": "ePPH3bdpfWmQ"
      },
      "execution_count": null,
      "outputs": []
    },
    {
      "cell_type": "code",
      "source": [
        "df_bid.head(3)"
      ],
      "metadata": {
        "id": "17dw543nUVTr",
        "colab": {
          "base_uri": "https://localhost:8080/",
          "height": 343
        },
        "outputId": "2465aa6e-15bf-43aa-e97e-0fc7bd65d2c9"
      },
      "execution_count": null,
      "outputs": [
        {
          "output_type": "execute_result",
          "data": {
            "text/plain": [
              "                          bid0  bid1      bid2  bid3      bid4  bid5  \\\n",
              "time                                                                   \n",
              "2022-03-18  00:00:00  14024.25   2.0  14024.50   1.0  14024.75   1.0   \n",
              "2022-03-18  00:01:00  14022.25   2.0  14022.50   2.0  14022.75   1.0   \n",
              "2022-03-18  00:02:00  14023.00   2.0  14023.25   1.0  14023.50   1.0   \n",
              "\n",
              "                          bid6  bid7      bid8  bid9     bid10  bid11  \\\n",
              "time                                                                    \n",
              "2022-03-18  00:00:00  14025.00   1.0  14025.25   2.0  14025.50    1.0   \n",
              "2022-03-18  00:01:00  14023.00   1.0  14023.25   3.0  14023.50    2.0   \n",
              "2022-03-18  00:02:00  14023.75   2.0  14024.00   1.0  14024.25    1.0   \n",
              "\n",
              "                         bid12  bid13     bid14  bid15     bid16  bid17  \\\n",
              "time                                                                      \n",
              "2022-03-18  00:00:00  14025.75    1.0  14026.00    1.0  14026.25    2.0   \n",
              "2022-03-18  00:01:00  14023.75    1.0  14024.00    1.0  14024.25    1.0   \n",
              "2022-03-18  00:02:00  14024.50    1.0  14024.75    1.0  14025.00    2.0   \n",
              "\n",
              "                         bid18  bid19  \n",
              "time                                   \n",
              "2022-03-18  00:00:00  14026.50    1.0  \n",
              "2022-03-18  00:01:00  14024.50    2.0  \n",
              "2022-03-18  00:02:00  14025.25    1.0  "
            ],
            "text/html": [
              "\n",
              "  <div id=\"df-107a3f51-6d5c-402b-a834-8f661f994d57\">\n",
              "    <div class=\"colab-df-container\">\n",
              "      <div>\n",
              "<style scoped>\n",
              "    .dataframe tbody tr th:only-of-type {\n",
              "        vertical-align: middle;\n",
              "    }\n",
              "\n",
              "    .dataframe tbody tr th {\n",
              "        vertical-align: top;\n",
              "    }\n",
              "\n",
              "    .dataframe thead th {\n",
              "        text-align: right;\n",
              "    }\n",
              "</style>\n",
              "<table border=\"1\" class=\"dataframe\">\n",
              "  <thead>\n",
              "    <tr style=\"text-align: right;\">\n",
              "      <th></th>\n",
              "      <th>bid0</th>\n",
              "      <th>bid1</th>\n",
              "      <th>bid2</th>\n",
              "      <th>bid3</th>\n",
              "      <th>bid4</th>\n",
              "      <th>bid5</th>\n",
              "      <th>bid6</th>\n",
              "      <th>bid7</th>\n",
              "      <th>bid8</th>\n",
              "      <th>bid9</th>\n",
              "      <th>bid10</th>\n",
              "      <th>bid11</th>\n",
              "      <th>bid12</th>\n",
              "      <th>bid13</th>\n",
              "      <th>bid14</th>\n",
              "      <th>bid15</th>\n",
              "      <th>bid16</th>\n",
              "      <th>bid17</th>\n",
              "      <th>bid18</th>\n",
              "      <th>bid19</th>\n",
              "    </tr>\n",
              "    <tr>\n",
              "      <th>time</th>\n",
              "      <th></th>\n",
              "      <th></th>\n",
              "      <th></th>\n",
              "      <th></th>\n",
              "      <th></th>\n",
              "      <th></th>\n",
              "      <th></th>\n",
              "      <th></th>\n",
              "      <th></th>\n",
              "      <th></th>\n",
              "      <th></th>\n",
              "      <th></th>\n",
              "      <th></th>\n",
              "      <th></th>\n",
              "      <th></th>\n",
              "      <th></th>\n",
              "      <th></th>\n",
              "      <th></th>\n",
              "      <th></th>\n",
              "      <th></th>\n",
              "    </tr>\n",
              "  </thead>\n",
              "  <tbody>\n",
              "    <tr>\n",
              "      <th>2022-03-18  00:00:00</th>\n",
              "      <td>14024.25</td>\n",
              "      <td>2.0</td>\n",
              "      <td>14024.50</td>\n",
              "      <td>1.0</td>\n",
              "      <td>14024.75</td>\n",
              "      <td>1.0</td>\n",
              "      <td>14025.00</td>\n",
              "      <td>1.0</td>\n",
              "      <td>14025.25</td>\n",
              "      <td>2.0</td>\n",
              "      <td>14025.50</td>\n",
              "      <td>1.0</td>\n",
              "      <td>14025.75</td>\n",
              "      <td>1.0</td>\n",
              "      <td>14026.00</td>\n",
              "      <td>1.0</td>\n",
              "      <td>14026.25</td>\n",
              "      <td>2.0</td>\n",
              "      <td>14026.50</td>\n",
              "      <td>1.0</td>\n",
              "    </tr>\n",
              "    <tr>\n",
              "      <th>2022-03-18  00:01:00</th>\n",
              "      <td>14022.25</td>\n",
              "      <td>2.0</td>\n",
              "      <td>14022.50</td>\n",
              "      <td>2.0</td>\n",
              "      <td>14022.75</td>\n",
              "      <td>1.0</td>\n",
              "      <td>14023.00</td>\n",
              "      <td>1.0</td>\n",
              "      <td>14023.25</td>\n",
              "      <td>3.0</td>\n",
              "      <td>14023.50</td>\n",
              "      <td>2.0</td>\n",
              "      <td>14023.75</td>\n",
              "      <td>1.0</td>\n",
              "      <td>14024.00</td>\n",
              "      <td>1.0</td>\n",
              "      <td>14024.25</td>\n",
              "      <td>1.0</td>\n",
              "      <td>14024.50</td>\n",
              "      <td>2.0</td>\n",
              "    </tr>\n",
              "    <tr>\n",
              "      <th>2022-03-18  00:02:00</th>\n",
              "      <td>14023.00</td>\n",
              "      <td>2.0</td>\n",
              "      <td>14023.25</td>\n",
              "      <td>1.0</td>\n",
              "      <td>14023.50</td>\n",
              "      <td>1.0</td>\n",
              "      <td>14023.75</td>\n",
              "      <td>2.0</td>\n",
              "      <td>14024.00</td>\n",
              "      <td>1.0</td>\n",
              "      <td>14024.25</td>\n",
              "      <td>1.0</td>\n",
              "      <td>14024.50</td>\n",
              "      <td>1.0</td>\n",
              "      <td>14024.75</td>\n",
              "      <td>1.0</td>\n",
              "      <td>14025.00</td>\n",
              "      <td>2.0</td>\n",
              "      <td>14025.25</td>\n",
              "      <td>1.0</td>\n",
              "    </tr>\n",
              "  </tbody>\n",
              "</table>\n",
              "</div>\n",
              "      <button class=\"colab-df-convert\" onclick=\"convertToInteractive('df-107a3f51-6d5c-402b-a834-8f661f994d57')\"\n",
              "              title=\"Convert this dataframe to an interactive table.\"\n",
              "              style=\"display:none;\">\n",
              "        \n",
              "  <svg xmlns=\"http://www.w3.org/2000/svg\" height=\"24px\"viewBox=\"0 0 24 24\"\n",
              "       width=\"24px\">\n",
              "    <path d=\"M0 0h24v24H0V0z\" fill=\"none\"/>\n",
              "    <path d=\"M18.56 5.44l.94 2.06.94-2.06 2.06-.94-2.06-.94-.94-2.06-.94 2.06-2.06.94zm-11 1L8.5 8.5l.94-2.06 2.06-.94-2.06-.94L8.5 2.5l-.94 2.06-2.06.94zm10 10l.94 2.06.94-2.06 2.06-.94-2.06-.94-.94-2.06-.94 2.06-2.06.94z\"/><path d=\"M17.41 7.96l-1.37-1.37c-.4-.4-.92-.59-1.43-.59-.52 0-1.04.2-1.43.59L10.3 9.45l-7.72 7.72c-.78.78-.78 2.05 0 2.83L4 21.41c.39.39.9.59 1.41.59.51 0 1.02-.2 1.41-.59l7.78-7.78 2.81-2.81c.8-.78.8-2.07 0-2.86zM5.41 20L4 18.59l7.72-7.72 1.47 1.35L5.41 20z\"/>\n",
              "  </svg>\n",
              "      </button>\n",
              "      \n",
              "  <style>\n",
              "    .colab-df-container {\n",
              "      display:flex;\n",
              "      flex-wrap:wrap;\n",
              "      gap: 12px;\n",
              "    }\n",
              "\n",
              "    .colab-df-convert {\n",
              "      background-color: #E8F0FE;\n",
              "      border: none;\n",
              "      border-radius: 50%;\n",
              "      cursor: pointer;\n",
              "      display: none;\n",
              "      fill: #1967D2;\n",
              "      height: 32px;\n",
              "      padding: 0 0 0 0;\n",
              "      width: 32px;\n",
              "    }\n",
              "\n",
              "    .colab-df-convert:hover {\n",
              "      background-color: #E2EBFA;\n",
              "      box-shadow: 0px 1px 2px rgba(60, 64, 67, 0.3), 0px 1px 3px 1px rgba(60, 64, 67, 0.15);\n",
              "      fill: #174EA6;\n",
              "    }\n",
              "\n",
              "    [theme=dark] .colab-df-convert {\n",
              "      background-color: #3B4455;\n",
              "      fill: #D2E3FC;\n",
              "    }\n",
              "\n",
              "    [theme=dark] .colab-df-convert:hover {\n",
              "      background-color: #434B5C;\n",
              "      box-shadow: 0px 1px 3px 1px rgba(0, 0, 0, 0.15);\n",
              "      filter: drop-shadow(0px 1px 2px rgba(0, 0, 0, 0.3));\n",
              "      fill: #FFFFFF;\n",
              "    }\n",
              "  </style>\n",
              "\n",
              "      <script>\n",
              "        const buttonEl =\n",
              "          document.querySelector('#df-107a3f51-6d5c-402b-a834-8f661f994d57 button.colab-df-convert');\n",
              "        buttonEl.style.display =\n",
              "          google.colab.kernel.accessAllowed ? 'block' : 'none';\n",
              "\n",
              "        async function convertToInteractive(key) {\n",
              "          const element = document.querySelector('#df-107a3f51-6d5c-402b-a834-8f661f994d57');\n",
              "          const dataTable =\n",
              "            await google.colab.kernel.invokeFunction('convertToInteractive',\n",
              "                                                     [key], {});\n",
              "          if (!dataTable) return;\n",
              "\n",
              "          const docLinkHtml = 'Like what you see? Visit the ' +\n",
              "            '<a target=\"_blank\" href=https://colab.research.google.com/notebooks/data_table.ipynb>data table notebook</a>'\n",
              "            + ' to learn more about interactive tables.';\n",
              "          element.innerHTML = '';\n",
              "          dataTable['output_type'] = 'display_data';\n",
              "          await google.colab.output.renderOutput(dataTable, element);\n",
              "          const docLink = document.createElement('div');\n",
              "          docLink.innerHTML = docLinkHtml;\n",
              "          element.appendChild(docLink);\n",
              "        }\n",
              "      </script>\n",
              "    </div>\n",
              "  </div>\n",
              "  "
            ]
          },
          "metadata": {},
          "execution_count": 43
        }
      ]
    },
    {
      "cell_type": "markdown",
      "source": [
        "### bid & ask"
      ],
      "metadata": {
        "id": "R7_OO5oDhzVM"
      }
    },
    {
      "cell_type": "code",
      "source": [
        "df_bidask =  pd.concat([df_bid, df_ask], axis=1)\n",
        "df_bidask.head(3)"
      ],
      "metadata": {
        "colab": {
          "base_uri": "https://localhost:8080/",
          "height": 343
        },
        "id": "XPN7_Is6fqzE",
        "outputId": "f5497440-564c-4cd8-82f9-1a995c88ab85"
      },
      "execution_count": null,
      "outputs": [
        {
          "output_type": "execute_result",
          "data": {
            "text/plain": [
              "                          bid0  bid1      bid2  bid3      bid4  bid5  \\\n",
              "time                                                                   \n",
              "2022-03-18  00:00:00  14024.25   2.0  14024.50   1.0  14024.75   1.0   \n",
              "2022-03-18  00:01:00  14022.25   2.0  14022.50   2.0  14022.75   1.0   \n",
              "2022-03-18  00:02:00  14023.00   2.0  14023.25   1.0  14023.50   1.0   \n",
              "\n",
              "                          bid6  bid7      bid8  bid9     bid10  bid11  \\\n",
              "time                                                                    \n",
              "2022-03-18  00:00:00  14025.00   1.0  14025.25   2.0  14025.50    1.0   \n",
              "2022-03-18  00:01:00  14023.00   1.0  14023.25   3.0  14023.50    2.0   \n",
              "2022-03-18  00:02:00  14023.75   2.0  14024.00   1.0  14024.25    1.0   \n",
              "\n",
              "                         bid12  bid13     bid14  bid15     bid16  bid17  \\\n",
              "time                                                                      \n",
              "2022-03-18  00:00:00  14025.75    1.0  14026.00    1.0  14026.25    2.0   \n",
              "2022-03-18  00:01:00  14023.75    1.0  14024.00    1.0  14024.25    1.0   \n",
              "2022-03-18  00:02:00  14024.50    1.0  14024.75    1.0  14025.00    2.0   \n",
              "\n",
              "                         bid18  bid19    ask20  ask21    ask22  ask23  \\\n",
              "time                                                                    \n",
              "2022-03-18  00:00:00  14026.50    1.0  14066.5    2.0  14067.0    2.0   \n",
              "2022-03-18  00:01:00  14024.50    2.0  14066.5    2.0  14067.0    2.0   \n",
              "2022-03-18  00:02:00  14025.25    1.0  14066.5    2.0  14067.0    2.0   \n",
              "\n",
              "                        ask24  ask25    ask26  ask27     ask28  ask29  \\\n",
              "time                                                                    \n",
              "2022-03-18  00:00:00  14067.5    2.0  14068.0    3.0  14068.25    1.0   \n",
              "2022-03-18  00:01:00  14067.5    2.0  14068.0    3.0  14068.25    1.0   \n",
              "2022-03-18  00:02:00  14067.5    2.0  14068.0    3.0  14068.25    1.0   \n",
              "\n",
              "                        ask30  ask31    ask32  ask33    ask34  ask35    ask36  \\\n",
              "time                                                                            \n",
              "2022-03-18  00:00:00  14068.5    2.0  14069.0    4.0  14069.5    2.0  14070.0   \n",
              "2022-03-18  00:01:00  14068.5    2.0  14069.0    4.0  14069.5    2.0  14070.0   \n",
              "2022-03-18  00:02:00  14068.5    2.0  14069.0    4.0  14069.5    2.0  14070.0   \n",
              "\n",
              "                      ask37     ask38  ask39  \n",
              "time                                          \n",
              "2022-03-18  00:00:00    8.0  14070.25    2.0  \n",
              "2022-03-18  00:01:00    8.0  14070.25    2.0  \n",
              "2022-03-18  00:02:00    8.0  14070.25    2.0  "
            ],
            "text/html": [
              "\n",
              "  <div id=\"df-66d212df-299f-4ab8-8d73-84dd4474621c\">\n",
              "    <div class=\"colab-df-container\">\n",
              "      <div>\n",
              "<style scoped>\n",
              "    .dataframe tbody tr th:only-of-type {\n",
              "        vertical-align: middle;\n",
              "    }\n",
              "\n",
              "    .dataframe tbody tr th {\n",
              "        vertical-align: top;\n",
              "    }\n",
              "\n",
              "    .dataframe thead th {\n",
              "        text-align: right;\n",
              "    }\n",
              "</style>\n",
              "<table border=\"1\" class=\"dataframe\">\n",
              "  <thead>\n",
              "    <tr style=\"text-align: right;\">\n",
              "      <th></th>\n",
              "      <th>bid0</th>\n",
              "      <th>bid1</th>\n",
              "      <th>bid2</th>\n",
              "      <th>bid3</th>\n",
              "      <th>bid4</th>\n",
              "      <th>bid5</th>\n",
              "      <th>bid6</th>\n",
              "      <th>bid7</th>\n",
              "      <th>bid8</th>\n",
              "      <th>bid9</th>\n",
              "      <th>bid10</th>\n",
              "      <th>bid11</th>\n",
              "      <th>bid12</th>\n",
              "      <th>bid13</th>\n",
              "      <th>bid14</th>\n",
              "      <th>bid15</th>\n",
              "      <th>bid16</th>\n",
              "      <th>bid17</th>\n",
              "      <th>bid18</th>\n",
              "      <th>bid19</th>\n",
              "      <th>ask20</th>\n",
              "      <th>ask21</th>\n",
              "      <th>ask22</th>\n",
              "      <th>ask23</th>\n",
              "      <th>ask24</th>\n",
              "      <th>ask25</th>\n",
              "      <th>ask26</th>\n",
              "      <th>ask27</th>\n",
              "      <th>ask28</th>\n",
              "      <th>ask29</th>\n",
              "      <th>ask30</th>\n",
              "      <th>ask31</th>\n",
              "      <th>ask32</th>\n",
              "      <th>ask33</th>\n",
              "      <th>ask34</th>\n",
              "      <th>ask35</th>\n",
              "      <th>ask36</th>\n",
              "      <th>ask37</th>\n",
              "      <th>ask38</th>\n",
              "      <th>ask39</th>\n",
              "    </tr>\n",
              "    <tr>\n",
              "      <th>time</th>\n",
              "      <th></th>\n",
              "      <th></th>\n",
              "      <th></th>\n",
              "      <th></th>\n",
              "      <th></th>\n",
              "      <th></th>\n",
              "      <th></th>\n",
              "      <th></th>\n",
              "      <th></th>\n",
              "      <th></th>\n",
              "      <th></th>\n",
              "      <th></th>\n",
              "      <th></th>\n",
              "      <th></th>\n",
              "      <th></th>\n",
              "      <th></th>\n",
              "      <th></th>\n",
              "      <th></th>\n",
              "      <th></th>\n",
              "      <th></th>\n",
              "      <th></th>\n",
              "      <th></th>\n",
              "      <th></th>\n",
              "      <th></th>\n",
              "      <th></th>\n",
              "      <th></th>\n",
              "      <th></th>\n",
              "      <th></th>\n",
              "      <th></th>\n",
              "      <th></th>\n",
              "      <th></th>\n",
              "      <th></th>\n",
              "      <th></th>\n",
              "      <th></th>\n",
              "      <th></th>\n",
              "      <th></th>\n",
              "      <th></th>\n",
              "      <th></th>\n",
              "      <th></th>\n",
              "      <th></th>\n",
              "    </tr>\n",
              "  </thead>\n",
              "  <tbody>\n",
              "    <tr>\n",
              "      <th>2022-03-18  00:00:00</th>\n",
              "      <td>14024.25</td>\n",
              "      <td>2.0</td>\n",
              "      <td>14024.50</td>\n",
              "      <td>1.0</td>\n",
              "      <td>14024.75</td>\n",
              "      <td>1.0</td>\n",
              "      <td>14025.00</td>\n",
              "      <td>1.0</td>\n",
              "      <td>14025.25</td>\n",
              "      <td>2.0</td>\n",
              "      <td>14025.50</td>\n",
              "      <td>1.0</td>\n",
              "      <td>14025.75</td>\n",
              "      <td>1.0</td>\n",
              "      <td>14026.00</td>\n",
              "      <td>1.0</td>\n",
              "      <td>14026.25</td>\n",
              "      <td>2.0</td>\n",
              "      <td>14026.50</td>\n",
              "      <td>1.0</td>\n",
              "      <td>14066.5</td>\n",
              "      <td>2.0</td>\n",
              "      <td>14067.0</td>\n",
              "      <td>2.0</td>\n",
              "      <td>14067.5</td>\n",
              "      <td>2.0</td>\n",
              "      <td>14068.0</td>\n",
              "      <td>3.0</td>\n",
              "      <td>14068.25</td>\n",
              "      <td>1.0</td>\n",
              "      <td>14068.5</td>\n",
              "      <td>2.0</td>\n",
              "      <td>14069.0</td>\n",
              "      <td>4.0</td>\n",
              "      <td>14069.5</td>\n",
              "      <td>2.0</td>\n",
              "      <td>14070.0</td>\n",
              "      <td>8.0</td>\n",
              "      <td>14070.25</td>\n",
              "      <td>2.0</td>\n",
              "    </tr>\n",
              "    <tr>\n",
              "      <th>2022-03-18  00:01:00</th>\n",
              "      <td>14022.25</td>\n",
              "      <td>2.0</td>\n",
              "      <td>14022.50</td>\n",
              "      <td>2.0</td>\n",
              "      <td>14022.75</td>\n",
              "      <td>1.0</td>\n",
              "      <td>14023.00</td>\n",
              "      <td>1.0</td>\n",
              "      <td>14023.25</td>\n",
              "      <td>3.0</td>\n",
              "      <td>14023.50</td>\n",
              "      <td>2.0</td>\n",
              "      <td>14023.75</td>\n",
              "      <td>1.0</td>\n",
              "      <td>14024.00</td>\n",
              "      <td>1.0</td>\n",
              "      <td>14024.25</td>\n",
              "      <td>1.0</td>\n",
              "      <td>14024.50</td>\n",
              "      <td>2.0</td>\n",
              "      <td>14066.5</td>\n",
              "      <td>2.0</td>\n",
              "      <td>14067.0</td>\n",
              "      <td>2.0</td>\n",
              "      <td>14067.5</td>\n",
              "      <td>2.0</td>\n",
              "      <td>14068.0</td>\n",
              "      <td>3.0</td>\n",
              "      <td>14068.25</td>\n",
              "      <td>1.0</td>\n",
              "      <td>14068.5</td>\n",
              "      <td>2.0</td>\n",
              "      <td>14069.0</td>\n",
              "      <td>4.0</td>\n",
              "      <td>14069.5</td>\n",
              "      <td>2.0</td>\n",
              "      <td>14070.0</td>\n",
              "      <td>8.0</td>\n",
              "      <td>14070.25</td>\n",
              "      <td>2.0</td>\n",
              "    </tr>\n",
              "    <tr>\n",
              "      <th>2022-03-18  00:02:00</th>\n",
              "      <td>14023.00</td>\n",
              "      <td>2.0</td>\n",
              "      <td>14023.25</td>\n",
              "      <td>1.0</td>\n",
              "      <td>14023.50</td>\n",
              "      <td>1.0</td>\n",
              "      <td>14023.75</td>\n",
              "      <td>2.0</td>\n",
              "      <td>14024.00</td>\n",
              "      <td>1.0</td>\n",
              "      <td>14024.25</td>\n",
              "      <td>1.0</td>\n",
              "      <td>14024.50</td>\n",
              "      <td>1.0</td>\n",
              "      <td>14024.75</td>\n",
              "      <td>1.0</td>\n",
              "      <td>14025.00</td>\n",
              "      <td>2.0</td>\n",
              "      <td>14025.25</td>\n",
              "      <td>1.0</td>\n",
              "      <td>14066.5</td>\n",
              "      <td>2.0</td>\n",
              "      <td>14067.0</td>\n",
              "      <td>2.0</td>\n",
              "      <td>14067.5</td>\n",
              "      <td>2.0</td>\n",
              "      <td>14068.0</td>\n",
              "      <td>3.0</td>\n",
              "      <td>14068.25</td>\n",
              "      <td>1.0</td>\n",
              "      <td>14068.5</td>\n",
              "      <td>2.0</td>\n",
              "      <td>14069.0</td>\n",
              "      <td>4.0</td>\n",
              "      <td>14069.5</td>\n",
              "      <td>2.0</td>\n",
              "      <td>14070.0</td>\n",
              "      <td>8.0</td>\n",
              "      <td>14070.25</td>\n",
              "      <td>2.0</td>\n",
              "    </tr>\n",
              "  </tbody>\n",
              "</table>\n",
              "</div>\n",
              "      <button class=\"colab-df-convert\" onclick=\"convertToInteractive('df-66d212df-299f-4ab8-8d73-84dd4474621c')\"\n",
              "              title=\"Convert this dataframe to an interactive table.\"\n",
              "              style=\"display:none;\">\n",
              "        \n",
              "  <svg xmlns=\"http://www.w3.org/2000/svg\" height=\"24px\"viewBox=\"0 0 24 24\"\n",
              "       width=\"24px\">\n",
              "    <path d=\"M0 0h24v24H0V0z\" fill=\"none\"/>\n",
              "    <path d=\"M18.56 5.44l.94 2.06.94-2.06 2.06-.94-2.06-.94-.94-2.06-.94 2.06-2.06.94zm-11 1L8.5 8.5l.94-2.06 2.06-.94-2.06-.94L8.5 2.5l-.94 2.06-2.06.94zm10 10l.94 2.06.94-2.06 2.06-.94-2.06-.94-.94-2.06-.94 2.06-2.06.94z\"/><path d=\"M17.41 7.96l-1.37-1.37c-.4-.4-.92-.59-1.43-.59-.52 0-1.04.2-1.43.59L10.3 9.45l-7.72 7.72c-.78.78-.78 2.05 0 2.83L4 21.41c.39.39.9.59 1.41.59.51 0 1.02-.2 1.41-.59l7.78-7.78 2.81-2.81c.8-.78.8-2.07 0-2.86zM5.41 20L4 18.59l7.72-7.72 1.47 1.35L5.41 20z\"/>\n",
              "  </svg>\n",
              "      </button>\n",
              "      \n",
              "  <style>\n",
              "    .colab-df-container {\n",
              "      display:flex;\n",
              "      flex-wrap:wrap;\n",
              "      gap: 12px;\n",
              "    }\n",
              "\n",
              "    .colab-df-convert {\n",
              "      background-color: #E8F0FE;\n",
              "      border: none;\n",
              "      border-radius: 50%;\n",
              "      cursor: pointer;\n",
              "      display: none;\n",
              "      fill: #1967D2;\n",
              "      height: 32px;\n",
              "      padding: 0 0 0 0;\n",
              "      width: 32px;\n",
              "    }\n",
              "\n",
              "    .colab-df-convert:hover {\n",
              "      background-color: #E2EBFA;\n",
              "      box-shadow: 0px 1px 2px rgba(60, 64, 67, 0.3), 0px 1px 3px 1px rgba(60, 64, 67, 0.15);\n",
              "      fill: #174EA6;\n",
              "    }\n",
              "\n",
              "    [theme=dark] .colab-df-convert {\n",
              "      background-color: #3B4455;\n",
              "      fill: #D2E3FC;\n",
              "    }\n",
              "\n",
              "    [theme=dark] .colab-df-convert:hover {\n",
              "      background-color: #434B5C;\n",
              "      box-shadow: 0px 1px 3px 1px rgba(0, 0, 0, 0.15);\n",
              "      filter: drop-shadow(0px 1px 2px rgba(0, 0, 0, 0.3));\n",
              "      fill: #FFFFFF;\n",
              "    }\n",
              "  </style>\n",
              "\n",
              "      <script>\n",
              "        const buttonEl =\n",
              "          document.querySelector('#df-66d212df-299f-4ab8-8d73-84dd4474621c button.colab-df-convert');\n",
              "        buttonEl.style.display =\n",
              "          google.colab.kernel.accessAllowed ? 'block' : 'none';\n",
              "\n",
              "        async function convertToInteractive(key) {\n",
              "          const element = document.querySelector('#df-66d212df-299f-4ab8-8d73-84dd4474621c');\n",
              "          const dataTable =\n",
              "            await google.colab.kernel.invokeFunction('convertToInteractive',\n",
              "                                                     [key], {});\n",
              "          if (!dataTable) return;\n",
              "\n",
              "          const docLinkHtml = 'Like what you see? Visit the ' +\n",
              "            '<a target=\"_blank\" href=https://colab.research.google.com/notebooks/data_table.ipynb>data table notebook</a>'\n",
              "            + ' to learn more about interactive tables.';\n",
              "          element.innerHTML = '';\n",
              "          dataTable['output_type'] = 'display_data';\n",
              "          await google.colab.output.renderOutput(dataTable, element);\n",
              "          const docLink = document.createElement('div');\n",
              "          docLink.innerHTML = docLinkHtml;\n",
              "          element.appendChild(docLink);\n",
              "        }\n",
              "      </script>\n",
              "    </div>\n",
              "  </div>\n",
              "  "
            ]
          },
          "metadata": {},
          "execution_count": 44
        }
      ]
    },
    {
      "cell_type": "code",
      "source": [
        "scaler = StandardScaler()  \n",
        "\n",
        "bidask = scaler.fit_transform(df_bidask)\n",
        "df_bidask = pd.DataFrame(bidask, index=df_bidask.index, columns=df_bidask.columns)\n",
        "# df_bidask=pd.DataFrame(df_bidask, columns=['bid0', 'bid1', 'bid2',\n",
        "#        'bid3', 'bid4', 'bid5', 'bid6', 'bid7', 'bid8', 'bid9', 'bid10',\n",
        "#        'bid11', 'bid12', 'bid13', 'bid14', 'bid15', 'bid16', 'bid17', 'bid18',\n",
        "#        'bid19', 'ask20', 'ask21', 'ask22', 'ask23', 'ask24', 'ask25', 'ask26',\n",
        "#        'ask27', 'ask28', 'ask29', 'ask30', 'ask31', 'ask32', 'ask33', 'ask34',\n",
        "#        'ask35', 'ask36', 'ask37', 'ask38', 'ask39'])"
      ],
      "metadata": {
        "id": "XJmyUW4KjD1_"
      },
      "execution_count": null,
      "outputs": []
    },
    {
      "cell_type": "code",
      "source": [
        "alpha_up = 0.0005\n",
        "alpha_down = -0.0005\n",
        "def filter(x):\n",
        "    if x > alpha_up:\n",
        "      x = +1\n",
        "      return x\n",
        "    elif x < alpha_down:\n",
        "      x=-1\n",
        "      return x\n",
        "    else:\n",
        "        return 0"
      ],
      "metadata": {
        "id": "5pGPZ4yNj3m3"
      },
      "execution_count": null,
      "outputs": []
    },
    {
      "cell_type": "code",
      "execution_count": null,
      "metadata": {
        "id": "fNPj3v9zzwM_"
      },
      "outputs": [],
      "source": [
        "df_bidask['p_b'] = df_bidask[\"bid18\"]\n",
        "df_bidask['p_a'] = df_bidask[\"ask20\"]\n",
        "df_bidask['p_t'] = (df_bidask['p_b']+df_bidask['p_a'])/2\n",
        "df_bidask['m_+'] = (df_bidask['p_b'].rolling(2).sum())/2\n",
        "df_bidask['l_t'] = (df_bidask['m_+'] - df_bidask['p_t']) / df_bidask['p_t']\n",
        "df_bidask.fillna(0, inplace=True)\n",
        "df_bidask['l_t_lable'] = df_bidask[\"l_t\"].apply(filter)"
      ]
    },
    {
      "cell_type": "code",
      "source": [
        "plt.pie(df_bidask['l_t_lable'].value_counts().values,\n",
        "        labels=[-1,0,1], autopct='%1.1f%%')\n",
        "plt.show()"
      ],
      "metadata": {
        "colab": {
          "base_uri": "https://localhost:8080/",
          "height": 248
        },
        "id": "8AusjhJcyKBF",
        "outputId": "e3057a97-6f23-4577-9b87-591875df5984"
      },
      "execution_count": null,
      "outputs": [
        {
          "output_type": "display_data",
          "data": {
            "text/plain": [
              "<Figure size 432x288 with 1 Axes>"
            ],
            "image/png": "[encoded data removed]"
          },
          "metadata": {}
        }
      ]
    },
    {
      "cell_type": "code",
      "source": [
        "df_bidask.head(3)"
      ],
      "metadata": {
        "colab": {
          "base_uri": "https://localhost:8080/",
          "height": 343
        },
        "id": "PgBFCigooLD8",
        "outputId": "6cb09ef3-fe17-4727-892f-cf0b60bdb877"
      },
      "execution_count": null,
      "outputs": [
        {
          "output_type": "execute_result",
          "data": {
            "text/plain": [
              "                          bid0      bid1      bid2      bid3      bid4  \\\n",
              "time                                                                     \n",
              "2022-03-18  00:00:00  0.562161 -0.199037  0.562161 -0.587085  0.562161   \n",
              "2022-03-18  00:01:00  0.560569 -0.199037  0.560569 -0.150239  0.560569   \n",
              "2022-03-18  00:02:00  0.561166 -0.199037  0.561166 -0.587085  0.561166   \n",
              "\n",
              "                          bid5      bid6      bid7      bid8      bid9  \\\n",
              "time                                                                     \n",
              "2022-03-18  00:00:00 -0.507191  0.562160 -0.492321  0.562160 -0.035384   \n",
              "2022-03-18  00:01:00 -0.507191  0.560568 -0.492321  0.560568  0.445878   \n",
              "2022-03-18  00:02:00 -0.507191  0.561165 -0.063754  0.561165 -0.516646   \n",
              "\n",
              "                         bid10     bid11     bid12     bid13     bid14  \\\n",
              "time                                                                     \n",
              "2022-03-18  00:00:00  0.562160 -0.523799  0.562159 -0.600543  0.562158   \n",
              "2022-03-18  00:01:00  0.560568 -0.004901  0.560567 -0.600543  0.560566   \n",
              "2022-03-18  00:02:00  0.561165 -0.523799  0.561164 -0.600543  0.561163   \n",
              "\n",
              "                         bid15     bid16     bid17     bid18     bid19  \\\n",
              "time                                                                     \n",
              "2022-03-18  00:00:00 -0.569687  0.562158  0.154312  0.562153 -0.344443   \n",
              "2022-03-18  00:01:00 -0.569687  0.560566 -0.515952  0.560561  0.333723   \n",
              "2022-03-18  00:02:00 -0.569687  0.561163  0.154312  0.561158 -0.344443   \n",
              "\n",
              "                         ask20     ask21     ask22     ask23     ask24  \\\n",
              "time                                                                     \n",
              "2022-03-18  00:00:00  0.563979 -0.319181  0.564166 -0.332552  0.564354   \n",
              "2022-03-18  00:01:00  0.563979 -0.319181  0.564166 -0.332552  0.564354   \n",
              "2022-03-18  00:02:00  0.563979 -0.319181  0.564166 -0.332552  0.564354   \n",
              "\n",
              "                         ask25     ask26     ask27     ask28    ask29  \\\n",
              "time                                                                    \n",
              "2022-03-18  00:00:00 -0.321784  0.564541 -0.151661  0.564532 -0.54633   \n",
              "2022-03-18  00:01:00 -0.321784  0.564541 -0.151661  0.564532 -0.54633   \n",
              "2022-03-18  00:02:00 -0.321784  0.564541 -0.151661  0.564532 -0.54633   \n",
              "\n",
              "                         ask30     ask31    ask32     ask33     ask34  \\\n",
              "time                                                                    \n",
              "2022-03-18  00:00:00  0.564522 -0.366536  0.56471 -0.021388  0.564897   \n",
              "2022-03-18  00:01:00  0.564522 -0.366536  0.56471 -0.021388  0.564897   \n",
              "2022-03-18  00:02:00  0.564522 -0.366536  0.56471 -0.021388  0.564897   \n",
              "\n",
              "                         ask35     ask36     ask37     ask38     ask39  \\\n",
              "time                                                                     \n",
              "2022-03-18  00:00:00 -0.436125  0.565084  0.573427  0.565074 -0.426986   \n",
              "2022-03-18  00:01:00 -0.436125  0.565084  0.573427  0.565074 -0.426986   \n",
              "2022-03-18  00:02:00 -0.436125  0.565084  0.573427  0.565074 -0.426986   \n",
              "\n",
              "                           p_b       p_a       p_t       m_+       l_t  \\\n",
              "time                                                                     \n",
              "2022-03-18  00:00:00  0.562153  0.563979  0.563066  0.000000  0.000000   \n",
              "2022-03-18  00:01:00  0.560561  0.563979  0.562270  0.561357 -0.001624   \n",
              "2022-03-18  00:02:00  0.561158  0.563979  0.562569  0.560859 -0.003039   \n",
              "\n",
              "                      l_t_lable  \n",
              "time                             \n",
              "2022-03-18  00:00:00          0  \n",
              "2022-03-18  00:01:00         -1  \n",
              "2022-03-18  00:02:00         -1  "
            ],
            "text/html": [
              "\n",
              "  <div id=\"df-35d10858-9db0-4863-8894-20339a8deef4\">\n",
              "    <div class=\"colab-df-container\">\n",
              "      <div>\n",
              "<style scoped>\n",
              "    .dataframe tbody tr th:only-of-type {\n",
              "        vertical-align: middle;\n",
              "    }\n",
              "\n",
              "    .dataframe tbody tr th {\n",
              "        vertical-align: top;\n",
              "    }\n",
              "\n",
              "    .dataframe thead th {\n",
              "        text-align: right;\n",
              "    }\n",
              "</style>\n",
              "<table border=\"1\" class=\"dataframe\">\n",
              "  <thead>\n",
              "    <tr style=\"text-align: right;\">\n",
              "      <th></th>\n",
              "      <th>bid0</th>\n",
              "      <th>bid1</th>\n",
              "      <th>bid2</th>\n",
              "      <th>bid3</th>\n",
              "      <th>bid4</th>\n",
              "      <th>bid5</th>\n",
              "      <th>bid6</th>\n",
              "      <th>bid7</th>\n",
              "      <th>bid8</th>\n",
              "      <th>bid9</th>\n",
              "      <th>bid10</th>\n",
              "      <th>bid11</th>\n",
              "      <th>bid12</th>\n",
              "      <th>bid13</th>\n",
              "      <th>bid14</th>\n",
              "      <th>bid15</th>\n",
              "      <th>bid16</th>\n",
              "      <th>bid17</th>\n",
              "      <th>bid18</th>\n",
              "      <th>bid19</th>\n",
              "      <th>ask20</th>\n",
              "      <th>ask21</th>\n",
              "      <th>ask22</th>\n",
              "      <th>ask23</th>\n",
              "      <th>ask24</th>\n",
              "      <th>ask25</th>\n",
              "      <th>ask26</th>\n",
              "      <th>ask27</th>\n",
              "      <th>ask28</th>\n",
              "      <th>ask29</th>\n",
              "      <th>ask30</th>\n",
              "      <th>ask31</th>\n",
              "      <th>ask32</th>\n",
              "      <th>ask33</th>\n",
              "      <th>ask34</th>\n",
              "      <th>ask35</th>\n",
              "      <th>ask36</th>\n",
              "      <th>ask37</th>\n",
              "      <th>ask38</th>\n",
              "      <th>ask39</th>\n",
              "      <th>p_b</th>\n",
              "      <th>p_a</th>\n",
              "      <th>p_t</th>\n",
              "      <th>m_+</th>\n",
              "      <th>l_t</th>\n",
              "      <th>l_t_lable</th>\n",
              "    </tr>\n",
              "    <tr>\n",
              "      <th>time</th>\n",
              "      <th></th>\n",
              "      <th></th>\n",
              "      <th></th>\n",
              "      <th></th>\n",
              "      <th></th>\n",
              "      <th></th>\n",
              "      <th></th>\n",
              "      <th></th>\n",
              "      <th></th>\n",
              "      <th></th>\n",
              "      <th></th>\n",
              "      <th></th>\n",
              "      <th></th>\n",
              "      <th></th>\n",
              "      <th></th>\n",
              "      <th></th>\n",
              "      <th></th>\n",
              "      <th></th>\n",
              "      <th></th>\n",
              "      <th></th>\n",
              "      <th></th>\n",
              "      <th></th>\n",
              "      <th></th>\n",
              "      <th></th>\n",
              "      <th></th>\n",
              "      <th></th>\n",
              "      <th></th>\n",
              "      <th></th>\n",
              "      <th></th>\n",
              "      <th></th>\n",
              "      <th></th>\n",
              "      <th></th>\n",
              "      <th></th>\n",
              "      <th></th>\n",
              "      <th></th>\n",
              "      <th></th>\n",
              "      <th></th>\n",
              "      <th></th>\n",
              "      <th></th>\n",
              "      <th></th>\n",
              "      <th></th>\n",
              "      <th></th>\n",
              "      <th></th>\n",
              "      <th></th>\n",
              "      <th></th>\n",
              "      <th></th>\n",
              "    </tr>\n",
              "  </thead>\n",
              "  <tbody>\n",
              "    <tr>\n",
              "      <th>2022-03-18  00:00:00</th>\n",
              "      <td>0.562161</td>\n",
              "      <td>-0.199037</td>\n",
              "      <td>0.562161</td>\n",
              "      <td>-0.587085</td>\n",
              "      <td>0.562161</td>\n",
              "      <td>-0.507191</td>\n",
              "      <td>0.562160</td>\n",
              "      <td>-0.492321</td>\n",
              "      <td>0.562160</td>\n",
              "      <td>-0.035384</td>\n",
              "      <td>0.562160</td>\n",
              "      <td>-0.523799</td>\n",
              "      <td>0.562159</td>\n",
              "      <td>-0.600543</td>\n",
              "      <td>0.562158</td>\n",
              "      <td>-0.569687</td>\n",
              "      <td>0.562158</td>\n",
              "      <td>0.154312</td>\n",
              "      <td>0.562153</td>\n",
              "      <td>-0.344443</td>\n",
              "      <td>0.563979</td>\n",
              "      <td>-0.319181</td>\n",
              "      <td>0.564166</td>\n",
              "      <td>-0.332552</td>\n",
              "      <td>0.564354</td>\n",
              "      <td>-0.321784</td>\n",
              "      <td>0.564541</td>\n",
              "      <td>-0.151661</td>\n",
              "      <td>0.564532</td>\n",
              "      <td>-0.54633</td>\n",
              "      <td>0.564522</td>\n",
              "      <td>-0.366536</td>\n",
              "      <td>0.56471</td>\n",
              "      <td>-0.021388</td>\n",
              "      <td>0.564897</td>\n",
              "      <td>-0.436125</td>\n",
              "      <td>0.565084</td>\n",
              "      <td>0.573427</td>\n",
              "      <td>0.565074</td>\n",
              "      <td>-0.426986</td>\n",
              "      <td>0.562153</td>\n",
              "      <td>0.563979</td>\n",
              "      <td>0.563066</td>\n",
              "      <td>0.000000</td>\n",
              "      <td>0.000000</td>\n",
              "      <td>0</td>\n",
              "    </tr>\n",
              "    <tr>\n",
              "      <th>2022-03-18  00:01:00</th>\n",
              "      <td>0.560569</td>\n",
              "      <td>-0.199037</td>\n",
              "      <td>0.560569</td>\n",
              "      <td>-0.150239</td>\n",
              "      <td>0.560569</td>\n",
              "      <td>-0.507191</td>\n",
              "      <td>0.560568</td>\n",
              "      <td>-0.492321</td>\n",
              "      <td>0.560568</td>\n",
              "      <td>0.445878</td>\n",
              "      <td>0.560568</td>\n",
              "      <td>-0.004901</td>\n",
              "      <td>0.560567</td>\n",
              "      <td>-0.600543</td>\n",
              "      <td>0.560566</td>\n",
              "      <td>-0.569687</td>\n",
              "      <td>0.560566</td>\n",
              "      <td>-0.515952</td>\n",
              "      <td>0.560561</td>\n",
              "      <td>0.333723</td>\n",
              "      <td>0.563979</td>\n",
              "      <td>-0.319181</td>\n",
              "      <td>0.564166</td>\n",
              "      <td>-0.332552</td>\n",
              "      <td>0.564354</td>\n",
              "      <td>-0.321784</td>\n",
              "      <td>0.564541</td>\n",
              "      <td>-0.151661</td>\n",
              "      <td>0.564532</td>\n",
              "      <td>-0.54633</td>\n",
              "      <td>0.564522</td>\n",
              "      <td>-0.366536</td>\n",
              "      <td>0.56471</td>\n",
              "      <td>-0.021388</td>\n",
              "      <td>0.564897</td>\n",
              "      <td>-0.436125</td>\n",
              "      <td>0.565084</td>\n",
              "      <td>0.573427</td>\n",
              "      <td>0.565074</td>\n",
              "      <td>-0.426986</td>\n",
              "      <td>0.560561</td>\n",
              "      <td>0.563979</td>\n",
              "      <td>0.562270</td>\n",
              "      <td>0.561357</td>\n",
              "      <td>-0.001624</td>\n",
              "      <td>-1</td>\n",
              "    </tr>\n",
              "    <tr>\n",
              "      <th>2022-03-18  00:02:00</th>\n",
              "      <td>0.561166</td>\n",
              "      <td>-0.199037</td>\n",
              "      <td>0.561166</td>\n",
              "      <td>-0.587085</td>\n",
              "      <td>0.561166</td>\n",
              "      <td>-0.507191</td>\n",
              "      <td>0.561165</td>\n",
              "      <td>-0.063754</td>\n",
              "      <td>0.561165</td>\n",
              "      <td>-0.516646</td>\n",
              "      <td>0.561165</td>\n",
              "      <td>-0.523799</td>\n",
              "      <td>0.561164</td>\n",
              "      <td>-0.600543</td>\n",
              "      <td>0.561163</td>\n",
              "      <td>-0.569687</td>\n",
              "      <td>0.561163</td>\n",
              "      <td>0.154312</td>\n",
              "      <td>0.561158</td>\n",
              "      <td>-0.344443</td>\n",
              "      <td>0.563979</td>\n",
              "      <td>-0.319181</td>\n",
              "      <td>0.564166</td>\n",
              "      <td>-0.332552</td>\n",
              "      <td>0.564354</td>\n",
              "      <td>-0.321784</td>\n",
              "      <td>0.564541</td>\n",
              "      <td>-0.151661</td>\n",
              "      <td>0.564532</td>\n",
              "      <td>-0.54633</td>\n",
              "      <td>0.564522</td>\n",
              "      <td>-0.366536</td>\n",
              "      <td>0.56471</td>\n",
              "      <td>-0.021388</td>\n",
              "      <td>0.564897</td>\n",
              "      <td>-0.436125</td>\n",
              "      <td>0.565084</td>\n",
              "      <td>0.573427</td>\n",
              "      <td>0.565074</td>\n",
              "      <td>-0.426986</td>\n",
              "      <td>0.561158</td>\n",
              "      <td>0.563979</td>\n",
              "      <td>0.562569</td>\n",
              "      <td>0.560859</td>\n",
              "      <td>-0.003039</td>\n",
              "      <td>-1</td>\n",
              "    </tr>\n",
              "  </tbody>\n",
              "</table>\n",
              "</div>\n",
              "      <button class=\"colab-df-convert\" onclick=\"convertToInteractive('df-35d10858-9db0-4863-8894-20339a8deef4')\"\n",
              "              title=\"Convert this dataframe to an interactive table.\"\n",
              "              style=\"display:none;\">\n",
              "        \n",
              "  <svg xmlns=\"http://www.w3.org/2000/svg\" height=\"24px\"viewBox=\"0 0 24 24\"\n",
              "       width=\"24px\">\n",
              "    <path d=\"M0 0h24v24H0V0z\" fill=\"none\"/>\n",
              "    <path d=\"M18.56 5.44l.94 2.06.94-2.06 2.06-.94-2.06-.94-.94-2.06-.94 2.06-2.06.94zm-11 1L8.5 8.5l.94-2.06 2.06-.94-2.06-.94L8.5 2.5l-.94 2.06-2.06.94zm10 10l.94 2.06.94-2.06 2.06-.94-2.06-.94-.94-2.06-.94 2.06-2.06.94z\"/><path d=\"M17.41 7.96l-1.37-1.37c-.4-.4-.92-.59-1.43-.59-.52 0-1.04.2-1.43.59L10.3 9.45l-7.72 7.72c-.78.78-.78 2.05 0 2.83L4 21.41c.39.39.9.59 1.41.59.51 0 1.02-.2 1.41-.59l7.78-7.78 2.81-2.81c.8-.78.8-2.07 0-2.86zM5.41 20L4 18.59l7.72-7.72 1.47 1.35L5.41 20z\"/>\n",
              "  </svg>\n",
              "      </button>\n",
              "      \n",
              "  <style>\n",
              "    .colab-df-container {\n",
              "      display:flex;\n",
              "      flex-wrap:wrap;\n",
              "      gap: 12px;\n",
              "    }\n",
              "\n",
              "    .colab-df-convert {\n",
              "      background-color: #E8F0FE;\n",
              "      border: none;\n",
              "      border-radius: 50%;\n",
              "      cursor: pointer;\n",
              "      display: none;\n",
              "      fill: #1967D2;\n",
              "      height: 32px;\n",
              "      padding: 0 0 0 0;\n",
              "      width: 32px;\n",
              "    }\n",
              "\n",
              "    .colab-df-convert:hover {\n",
              "      background-color: #E2EBFA;\n",
              "      box-shadow: 0px 1px 2px rgba(60, 64, 67, 0.3), 0px 1px 3px 1px rgba(60, 64, 67, 0.15);\n",
              "      fill: #174EA6;\n",
              "    }\n",
              "\n",
              "    [theme=dark] .colab-df-convert {\n",
              "      background-color: #3B4455;\n",
              "      fill: #D2E3FC;\n",
              "    }\n",
              "\n",
              "    [theme=dark] .colab-df-convert:hover {\n",
              "      background-color: #434B5C;\n",
              "      box-shadow: 0px 1px 3px 1px rgba(0, 0, 0, 0.15);\n",
              "      filter: drop-shadow(0px 1px 2px rgba(0, 0, 0, 0.3));\n",
              "      fill: #FFFFFF;\n",
              "    }\n",
              "  </style>\n",
              "\n",
              "      <script>\n",
              "        const buttonEl =\n",
              "          document.querySelector('#df-35d10858-9db0-4863-8894-20339a8deef4 button.colab-df-convert');\n",
              "        buttonEl.style.display =\n",
              "          google.colab.kernel.accessAllowed ? 'block' : 'none';\n",
              "\n",
              "        async function convertToInteractive(key) {\n",
              "          const element = document.querySelector('#df-35d10858-9db0-4863-8894-20339a8deef4');\n",
              "          const dataTable =\n",
              "            await google.colab.kernel.invokeFunction('convertToInteractive',\n",
              "                                                     [key], {});\n",
              "          if (!dataTable) return;\n",
              "\n",
              "          const docLinkHtml = 'Like what you see? Visit the ' +\n",
              "            '<a target=\"_blank\" href=https://colab.research.google.com/notebooks/data_table.ipynb>data table notebook</a>'\n",
              "            + ' to learn more about interactive tables.';\n",
              "          element.innerHTML = '';\n",
              "          dataTable['output_type'] = 'display_data';\n",
              "          await google.colab.output.renderOutput(dataTable, element);\n",
              "          const docLink = document.createElement('div');\n",
              "          docLink.innerHTML = docLinkHtml;\n",
              "          element.appendChild(docLink);\n",
              "        }\n",
              "      </script>\n",
              "    </div>\n",
              "  </div>\n",
              "  "
            ]
          },
          "metadata": {},
          "execution_count": 49
        }
      ]
    },
    {
      "cell_type": "code",
      "source": [
        "total_df = pd.concat([df, df_bidask], axis=1)\n",
        "total_df.head(3)"
      ],
      "metadata": {
        "id": "u6zfXhuvkbxt",
        "colab": {
          "base_uri": "https://localhost:8080/",
          "height": 343
        },
        "outputId": "a0886463-8d0d-4936-f9be-633bceae5d03"
      },
      "execution_count": null,
      "outputs": [
        {
          "output_type": "execute_result",
          "data": {
            "text/plain": [
              "                         open      high       low     close  volume  \\\n",
              "time                                                                  \n",
              "2022-03-18  00:00:00  14066.5  14069.75  14061.75  14066.00   145.0   \n",
              "2022-03-18  00:01:00  14064.5  14067.75  14063.00  14066.25    66.0   \n",
              "2022-03-18  00:02:00  14067.0  14068.00  14064.75  14066.25    68.0   \n",
              "\n",
              "                      numtrades  bidvolume  askvolume  close_change  \\\n",
              "time                                                                  \n",
              "2022-03-18  00:00:00      144.0       60.0       85.0          0.00   \n",
              "2022-03-18  00:01:00       64.0       36.0       30.0          0.25   \n",
              "2022-03-18  00:02:00       64.0       36.0       32.0          0.00   \n",
              "\n",
              "                      close_lable      bid0      bid1      bid2      bid3  \\\n",
              "time                                                                        \n",
              "2022-03-18  00:00:00            0  0.562161 -0.199037  0.562161 -0.587085   \n",
              "2022-03-18  00:01:00            0  0.560569 -0.199037  0.560569 -0.150239   \n",
              "2022-03-18  00:02:00            0  0.561166 -0.199037  0.561166 -0.587085   \n",
              "\n",
              "                          bid4      bid5      bid6      bid7      bid8  \\\n",
              "time                                                                     \n",
              "2022-03-18  00:00:00  0.562161 -0.507191  0.562160 -0.492321  0.562160   \n",
              "2022-03-18  00:01:00  0.560569 -0.507191  0.560568 -0.492321  0.560568   \n",
              "2022-03-18  00:02:00  0.561166 -0.507191  0.561165 -0.063754  0.561165   \n",
              "\n",
              "                          bid9     bid10     bid11     bid12     bid13  \\\n",
              "time                                                                     \n",
              "2022-03-18  00:00:00 -0.035384  0.562160 -0.523799  0.562159 -0.600543   \n",
              "2022-03-18  00:01:00  0.445878  0.560568 -0.004901  0.560567 -0.600543   \n",
              "2022-03-18  00:02:00 -0.516646  0.561165 -0.523799  0.561164 -0.600543   \n",
              "\n",
              "                         bid14     bid15     bid16     bid17     bid18  \\\n",
              "time                                                                     \n",
              "2022-03-18  00:00:00  0.562158 -0.569687  0.562158  0.154312  0.562153   \n",
              "2022-03-18  00:01:00  0.560566 -0.569687  0.560566 -0.515952  0.560561   \n",
              "2022-03-18  00:02:00  0.561163 -0.569687  0.561163  0.154312  0.561158   \n",
              "\n",
              "                         bid19     ask20     ask21     ask22     ask23  \\\n",
              "time                                                                     \n",
              "2022-03-18  00:00:00 -0.344443  0.563979 -0.319181  0.564166 -0.332552   \n",
              "2022-03-18  00:01:00  0.333723  0.563979 -0.319181  0.564166 -0.332552   \n",
              "2022-03-18  00:02:00 -0.344443  0.563979 -0.319181  0.564166 -0.332552   \n",
              "\n",
              "                         ask24     ask25     ask26     ask27     ask28  \\\n",
              "time                                                                     \n",
              "2022-03-18  00:00:00  0.564354 -0.321784  0.564541 -0.151661  0.564532   \n",
              "2022-03-18  00:01:00  0.564354 -0.321784  0.564541 -0.151661  0.564532   \n",
              "2022-03-18  00:02:00  0.564354 -0.321784  0.564541 -0.151661  0.564532   \n",
              "\n",
              "                        ask29     ask30     ask31    ask32     ask33  \\\n",
              "time                                                                   \n",
              "2022-03-18  00:00:00 -0.54633  0.564522 -0.366536  0.56471 -0.021388   \n",
              "2022-03-18  00:01:00 -0.54633  0.564522 -0.366536  0.56471 -0.021388   \n",
              "2022-03-18  00:02:00 -0.54633  0.564522 -0.366536  0.56471 -0.021388   \n",
              "\n",
              "                         ask34     ask35     ask36     ask37     ask38  \\\n",
              "time                                                                     \n",
              "2022-03-18  00:00:00  0.564897 -0.436125  0.565084  0.573427  0.565074   \n",
              "2022-03-18  00:01:00  0.564897 -0.436125  0.565084  0.573427  0.565074   \n",
              "2022-03-18  00:02:00  0.564897 -0.436125  0.565084  0.573427  0.565074   \n",
              "\n",
              "                         ask39       p_b       p_a       p_t       m_+  \\\n",
              "time                                                                     \n",
              "2022-03-18  00:00:00 -0.426986  0.562153  0.563979  0.563066  0.000000   \n",
              "2022-03-18  00:01:00 -0.426986  0.560561  0.563979  0.562270  0.561357   \n",
              "2022-03-18  00:02:00 -0.426986  0.561158  0.563979  0.562569  0.560859   \n",
              "\n",
              "                           l_t  l_t_lable  \n",
              "time                                       \n",
              "2022-03-18  00:00:00  0.000000          0  \n",
              "2022-03-18  00:01:00 -0.001624         -1  \n",
              "2022-03-18  00:02:00 -0.003039         -1  "
            ],
            "text/html": [
              "\n",
              "  <div id=\"df-2a760619-32f4-406e-b3d6-51fd2c9b2488\">\n",
              "    <div class=\"colab-df-container\">\n",
              "      <div>\n",
              "<style scoped>\n",
              "    .dataframe tbody tr th:only-of-type {\n",
              "        vertical-align: middle;\n",
              "    }\n",
              "\n",
              "    .dataframe tbody tr th {\n",
              "        vertical-align: top;\n",
              "    }\n",
              "\n",
              "    .dataframe thead th {\n",
              "        text-align: right;\n",
              "    }\n",
              "</style>\n",
              "<table border=\"1\" class=\"dataframe\">\n",
              "  <thead>\n",
              "    <tr style=\"text-align: right;\">\n",
              "      <th></th>\n",
              "      <th>open</th>\n",
              "      <th>high</th>\n",
              "      <th>low</th>\n",
              "      <th>close</th>\n",
              "      <th>volume</th>\n",
              "      <th>numtrades</th>\n",
              "      <th>bidvolume</th>\n",
              "      <th>askvolume</th>\n",
              "      <th>close_change</th>\n",
              "      <th>close_lable</th>\n",
              "      <th>bid0</th>\n",
              "      <th>bid1</th>\n",
              "      <th>bid2</th>\n",
              "      <th>bid3</th>\n",
              "      <th>bid4</th>\n",
              "      <th>bid5</th>\n",
              "      <th>bid6</th>\n",
              "      <th>bid7</th>\n",
              "      <th>bid8</th>\n",
              "      <th>bid9</th>\n",
              "      <th>bid10</th>\n",
              "      <th>bid11</th>\n",
              "      <th>bid12</th>\n",
              "      <th>bid13</th>\n",
              "      <th>bid14</th>\n",
              "      <th>bid15</th>\n",
              "      <th>bid16</th>\n",
              "      <th>bid17</th>\n",
              "      <th>bid18</th>\n",
              "      <th>bid19</th>\n",
              "      <th>ask20</th>\n",
              "      <th>ask21</th>\n",
              "      <th>ask22</th>\n",
              "      <th>ask23</th>\n",
              "      <th>ask24</th>\n",
              "      <th>ask25</th>\n",
              "      <th>ask26</th>\n",
              "      <th>ask27</th>\n",
              "      <th>ask28</th>\n",
              "      <th>ask29</th>\n",
              "      <th>ask30</th>\n",
              "      <th>ask31</th>\n",
              "      <th>ask32</th>\n",
              "      <th>ask33</th>\n",
              "      <th>ask34</th>\n",
              "      <th>ask35</th>\n",
              "      <th>ask36</th>\n",
              "      <th>ask37</th>\n",
              "      <th>ask38</th>\n",
              "      <th>ask39</th>\n",
              "      <th>p_b</th>\n",
              "      <th>p_a</th>\n",
              "      <th>p_t</th>\n",
              "      <th>m_+</th>\n",
              "      <th>l_t</th>\n",
              "      <th>l_t_lable</th>\n",
              "    </tr>\n",
              "    <tr>\n",
              "      <th>time</th>\n",
              "      <th></th>\n",
              "      <th></th>\n",
              "      <th></th>\n",
              "      <th></th>\n",
              "      <th></th>\n",
              "      <th></th>\n",
              "      <th></th>\n",
              "      <th></th>\n",
              "      <th></th>\n",
              "      <th></th>\n",
              "      <th></th>\n",
              "      <th></th>\n",
              "      <th></th>\n",
              "      <th></th>\n",
              "      <th></th>\n",
              "      <th></th>\n",
              "      <th></th>\n",
              "      <th></th>\n",
              "      <th></th>\n",
              "      <th></th>\n",
              "      <th></th>\n",
              "      <th></th>\n",
              "      <th></th>\n",
              "      <th></th>\n",
              "      <th></th>\n",
              "      <th></th>\n",
              "      <th></th>\n",
              "      <th></th>\n",
              "      <th></th>\n",
              "      <th></th>\n",
              "      <th></th>\n",
              "      <th></th>\n",
              "      <th></th>\n",
              "      <th></th>\n",
              "      <th></th>\n",
              "      <th></th>\n",
              "      <th></th>\n",
              "      <th></th>\n",
              "      <th></th>\n",
              "      <th></th>\n",
              "      <th></th>\n",
              "      <th></th>\n",
              "      <th></th>\n",
              "      <th></th>\n",
              "      <th></th>\n",
              "      <th></th>\n",
              "      <th></th>\n",
              "      <th></th>\n",
              "      <th></th>\n",
              "      <th></th>\n",
              "      <th></th>\n",
              "      <th></th>\n",
              "      <th></th>\n",
              "      <th></th>\n",
              "      <th></th>\n",
              "      <th></th>\n",
              "    </tr>\n",
              "  </thead>\n",
              "  <tbody>\n",
              "    <tr>\n",
              "      <th>2022-03-18  00:00:00</th>\n",
              "      <td>14066.5</td>\n",
              "      <td>14069.75</td>\n",
              "      <td>14061.75</td>\n",
              "      <td>14066.00</td>\n",
              "      <td>145.0</td>\n",
              "      <td>144.0</td>\n",
              "      <td>60.0</td>\n",
              "      <td>85.0</td>\n",
              "      <td>0.00</td>\n",
              "      <td>0</td>\n",
              "      <td>0.562161</td>\n",
              "      <td>-0.199037</td>\n",
              "      <td>0.562161</td>\n",
              "      <td>-0.587085</td>\n",
              "      <td>0.562161</td>\n",
              "      <td>-0.507191</td>\n",
              "      <td>0.562160</td>\n",
              "      <td>-0.492321</td>\n",
              "      <td>0.562160</td>\n",
              "      <td>-0.035384</td>\n",
              "      <td>0.562160</td>\n",
              "      <td>-0.523799</td>\n",
              "      <td>0.562159</td>\n",
              "      <td>-0.600543</td>\n",
              "      <td>0.562158</td>\n",
              "      <td>-0.569687</td>\n",
              "      <td>0.562158</td>\n",
              "      <td>0.154312</td>\n",
              "      <td>0.562153</td>\n",
              "      <td>-0.344443</td>\n",
              "      <td>0.563979</td>\n",
              "      <td>-0.319181</td>\n",
              "      <td>0.564166</td>\n",
              "      <td>-0.332552</td>\n",
              "      <td>0.564354</td>\n",
              "      <td>-0.321784</td>\n",
              "      <td>0.564541</td>\n",
              "      <td>-0.151661</td>\n",
              "      <td>0.564532</td>\n",
              "      <td>-0.54633</td>\n",
              "      <td>0.564522</td>\n",
              "      <td>-0.366536</td>\n",
              "      <td>0.56471</td>\n",
              "      <td>-0.021388</td>\n",
              "      <td>0.564897</td>\n",
              "      <td>-0.436125</td>\n",
              "      <td>0.565084</td>\n",
              "      <td>0.573427</td>\n",
              "      <td>0.565074</td>\n",
              "      <td>-0.426986</td>\n",
              "      <td>0.562153</td>\n",
              "      <td>0.563979</td>\n",
              "      <td>0.563066</td>\n",
              "      <td>0.000000</td>\n",
              "      <td>0.000000</td>\n",
              "      <td>0</td>\n",
              "    </tr>\n",
              "    <tr>\n",
              "      <th>2022-03-18  00:01:00</th>\n",
              "      <td>14064.5</td>\n",
              "      <td>14067.75</td>\n",
              "      <td>14063.00</td>\n",
              "      <td>14066.25</td>\n",
              "      <td>66.0</td>\n",
              "      <td>64.0</td>\n",
              "      <td>36.0</td>\n",
              "      <td>30.0</td>\n",
              "      <td>0.25</td>\n",
              "      <td>0</td>\n",
              "      <td>0.560569</td>\n",
              "      <td>-0.199037</td>\n",
              "      <td>0.560569</td>\n",
              "      <td>-0.150239</td>\n",
              "      <td>0.560569</td>\n",
              "      <td>-0.507191</td>\n",
              "      <td>0.560568</td>\n",
              "      <td>-0.492321</td>\n",
              "      <td>0.560568</td>\n",
              "      <td>0.445878</td>\n",
              "      <td>0.560568</td>\n",
              "      <td>-0.004901</td>\n",
              "      <td>0.560567</td>\n",
              "      <td>-0.600543</td>\n",
              "      <td>0.560566</td>\n",
              "      <td>-0.569687</td>\n",
              "      <td>0.560566</td>\n",
              "      <td>-0.515952</td>\n",
              "      <td>0.560561</td>\n",
              "      <td>0.333723</td>\n",
              "      <td>0.563979</td>\n",
              "      <td>-0.319181</td>\n",
              "      <td>0.564166</td>\n",
              "      <td>-0.332552</td>\n",
              "      <td>0.564354</td>\n",
              "      <td>-0.321784</td>\n",
              "      <td>0.564541</td>\n",
              "      <td>-0.151661</td>\n",
              "      <td>0.564532</td>\n",
              "      <td>-0.54633</td>\n",
              "      <td>0.564522</td>\n",
              "      <td>-0.366536</td>\n",
              "      <td>0.56471</td>\n",
              "      <td>-0.021388</td>\n",
              "      <td>0.564897</td>\n",
              "      <td>-0.436125</td>\n",
              "      <td>0.565084</td>\n",
              "      <td>0.573427</td>\n",
              "      <td>0.565074</td>\n",
              "      <td>-0.426986</td>\n",
              "      <td>0.560561</td>\n",
              "      <td>0.563979</td>\n",
              "      <td>0.562270</td>\n",
              "      <td>0.561357</td>\n",
              "      <td>-0.001624</td>\n",
              "      <td>-1</td>\n",
              "    </tr>\n",
              "    <tr>\n",
              "      <th>2022-03-18  00:02:00</th>\n",
              "      <td>14067.0</td>\n",
              "      <td>14068.00</td>\n",
              "      <td>14064.75</td>\n",
              "      <td>14066.25</td>\n",
              "      <td>68.0</td>\n",
              "      <td>64.0</td>\n",
              "      <td>36.0</td>\n",
              "      <td>32.0</td>\n",
              "      <td>0.00</td>\n",
              "      <td>0</td>\n",
              "      <td>0.561166</td>\n",
              "      <td>-0.199037</td>\n",
              "      <td>0.561166</td>\n",
              "      <td>-0.587085</td>\n",
              "      <td>0.561166</td>\n",
              "      <td>-0.507191</td>\n",
              "      <td>0.561165</td>\n",
              "      <td>-0.063754</td>\n",
              "      <td>0.561165</td>\n",
              "      <td>-0.516646</td>\n",
              "      <td>0.561165</td>\n",
              "      <td>-0.523799</td>\n",
              "      <td>0.561164</td>\n",
              "      <td>-0.600543</td>\n",
              "      <td>0.561163</td>\n",
              "      <td>-0.569687</td>\n",
              "      <td>0.561163</td>\n",
              "      <td>0.154312</td>\n",
              "      <td>0.561158</td>\n",
              "      <td>-0.344443</td>\n",
              "      <td>0.563979</td>\n",
              "      <td>-0.319181</td>\n",
              "      <td>0.564166</td>\n",
              "      <td>-0.332552</td>\n",
              "      <td>0.564354</td>\n",
              "      <td>-0.321784</td>\n",
              "      <td>0.564541</td>\n",
              "      <td>-0.151661</td>\n",
              "      <td>0.564532</td>\n",
              "      <td>-0.54633</td>\n",
              "      <td>0.564522</td>\n",
              "      <td>-0.366536</td>\n",
              "      <td>0.56471</td>\n",
              "      <td>-0.021388</td>\n",
              "      <td>0.564897</td>\n",
              "      <td>-0.436125</td>\n",
              "      <td>0.565084</td>\n",
              "      <td>0.573427</td>\n",
              "      <td>0.565074</td>\n",
              "      <td>-0.426986</td>\n",
              "      <td>0.561158</td>\n",
              "      <td>0.563979</td>\n",
              "      <td>0.562569</td>\n",
              "      <td>0.560859</td>\n",
              "      <td>-0.003039</td>\n",
              "      <td>-1</td>\n",
              "    </tr>\n",
              "  </tbody>\n",
              "</table>\n",
              "</div>\n",
              "      <button class=\"colab-df-convert\" onclick=\"convertToInteractive('df-2a760619-32f4-406e-b3d6-51fd2c9b2488')\"\n",
              "              title=\"Convert this dataframe to an interactive table.\"\n",
              "              style=\"display:none;\">\n",
              "        \n",
              "  <svg xmlns=\"http://www.w3.org/2000/svg\" height=\"24px\"viewBox=\"0 0 24 24\"\n",
              "       width=\"24px\">\n",
              "    <path d=\"M0 0h24v24H0V0z\" fill=\"none\"/>\n",
              "    <path d=\"M18.56 5.44l.94 2.06.94-2.06 2.06-.94-2.06-.94-.94-2.06-.94 2.06-2.06.94zm-11 1L8.5 8.5l.94-2.06 2.06-.94-2.06-.94L8.5 2.5l-.94 2.06-2.06.94zm10 10l.94 2.06.94-2.06 2.06-.94-2.06-.94-.94-2.06-.94 2.06-2.06.94z\"/><path d=\"M17.41 7.96l-1.37-1.37c-.4-.4-.92-.59-1.43-.59-.52 0-1.04.2-1.43.59L10.3 9.45l-7.72 7.72c-.78.78-.78 2.05 0 2.83L4 21.41c.39.39.9.59 1.41.59.51 0 1.02-.2 1.41-.59l7.78-7.78 2.81-2.81c.8-.78.8-2.07 0-2.86zM5.41 20L4 18.59l7.72-7.72 1.47 1.35L5.41 20z\"/>\n",
              "  </svg>\n",
              "      </button>\n",
              "      \n",
              "  <style>\n",
              "    .colab-df-container {\n",
              "      display:flex;\n",
              "      flex-wrap:wrap;\n",
              "      gap: 12px;\n",
              "    }\n",
              "\n",
              "    .colab-df-convert {\n",
              "      background-color: #E8F0FE;\n",
              "      border: none;\n",
              "      border-radius: 50%;\n",
              "      cursor: pointer;\n",
              "      display: none;\n",
              "      fill: #1967D2;\n",
              "      height: 32px;\n",
              "      padding: 0 0 0 0;\n",
              "      width: 32px;\n",
              "    }\n",
              "\n",
              "    .colab-df-convert:hover {\n",
              "      background-color: #E2EBFA;\n",
              "      box-shadow: 0px 1px 2px rgba(60, 64, 67, 0.3), 0px 1px 3px 1px rgba(60, 64, 67, 0.15);\n",
              "      fill: #174EA6;\n",
              "    }\n",
              "\n",
              "    [theme=dark] .colab-df-convert {\n",
              "      background-color: #3B4455;\n",
              "      fill: #D2E3FC;\n",
              "    }\n",
              "\n",
              "    [theme=dark] .colab-df-convert:hover {\n",
              "      background-color: #434B5C;\n",
              "      box-shadow: 0px 1px 3px 1px rgba(0, 0, 0, 0.15);\n",
              "      filter: drop-shadow(0px 1px 2px rgba(0, 0, 0, 0.3));\n",
              "      fill: #FFFFFF;\n",
              "    }\n",
              "  </style>\n",
              "\n",
              "      <script>\n",
              "        const buttonEl =\n",
              "          document.querySelector('#df-2a760619-32f4-406e-b3d6-51fd2c9b2488 button.colab-df-convert');\n",
              "        buttonEl.style.display =\n",
              "          google.colab.kernel.accessAllowed ? 'block' : 'none';\n",
              "\n",
              "        async function convertToInteractive(key) {\n",
              "          const element = document.querySelector('#df-2a760619-32f4-406e-b3d6-51fd2c9b2488');\n",
              "          const dataTable =\n",
              "            await google.colab.kernel.invokeFunction('convertToInteractive',\n",
              "                                                     [key], {});\n",
              "          if (!dataTable) return;\n",
              "\n",
              "          const docLinkHtml = 'Like what you see? Visit the ' +\n",
              "            '<a target=\"_blank\" href=https://colab.research.google.com/notebooks/data_table.ipynb>data table notebook</a>'\n",
              "            + ' to learn more about interactive tables.';\n",
              "          element.innerHTML = '';\n",
              "          dataTable['output_type'] = 'display_data';\n",
              "          await google.colab.output.renderOutput(dataTable, element);\n",
              "          const docLink = document.createElement('div');\n",
              "          docLink.innerHTML = docLinkHtml;\n",
              "          element.appendChild(docLink);\n",
              "        }\n",
              "      </script>\n",
              "    </div>\n",
              "  </div>\n",
              "  "
            ]
          },
          "metadata": {},
          "execution_count": 50
        }
      ]
    },
    {
      "cell_type": "code",
      "source": [
        "plt.figure(figsize=(10, 10))\n",
        " \n",
        "# As our concern is with the highly\n",
        "# correlated features only so, we will visualize\n",
        "# our heatmap as per that criteria only.\n",
        "sb.heatmap(total_df.corr() > 0.7, annot=True, cbar=False)\n",
        "plt.show()"
      ],
      "metadata": {
        "colab": {
          "base_uri": "https://localhost:8080/",
          "height": 649
        },
        "id": "BPXSv2Wix2bF",
        "outputId": "713a3b78-fb70-4a45-d7ec-8ea0c701e768"
      },
      "execution_count": null,
      "outputs": [
        {
          "output_type": "display_data",
          "data": {
            "text/plain": [
              "<Figure size 720x720 with 1 Axes>"
            ],
            "image/png": "[encoded data removed]"
          },
          "metadata": {}
        }
      ]
    },
    {
      "cell_type": "code",
      "source": [
        "total_df.to_csv(\"total.csv\")"
      ],
      "metadata": {
        "id": "9ju-RHdqNwWO"
      },
      "execution_count": null,
      "outputs": []
    },
    {
      "cell_type": "code",
      "source": [
        "gc.collect()"
      ],
      "metadata": {
        "colab": {
          "base_uri": "https://localhost:8080/"
        },
        "id": "NCGGSEoDmYrv",
        "outputId": "45b561be-5694-4710-b6dd-ef646a375c08"
      },
      "execution_count": null,
      "outputs": [
        {
          "output_type": "execute_result",
          "data": {
            "text/plain": [
              "158416"
            ]
          },
          "metadata": {},
          "execution_count": 53
        }
      ]
    },
    {
      "cell_type": "markdown",
      "metadata": {
        "id": "DmcOGehGfQnI"
      },
      "source": [
        "# ML MODELING, BACKTESTING"
      ]
    },
    {
      "cell_type": "markdown",
      "metadata": {
        "id": "8Rs7_lSvguAo"
      },
      "source": [
        "### CLASSIC ML use classification "
      ]
    },
    {
      "cell_type": "code",
      "source": [
        "df.shape"
      ],
      "metadata": {
        "colab": {
          "base_uri": "https://localhost:8080/"
        },
        "id": "fflvgoJ9n3bT",
        "outputId": "abcb328e-1cd1-4b04-c092-0c9a7cd017c5"
      },
      "execution_count": null,
      "outputs": [
        {
          "output_type": "execute_result",
          "data": {
            "text/plain": [
              "(67121, 10)"
            ]
          },
          "metadata": {},
          "execution_count": 53
        }
      ]
    },
    {
      "cell_type": "code",
      "source": [
        "df_bidask.shape"
      ],
      "metadata": {
        "colab": {
          "base_uri": "https://localhost:8080/"
        },
        "id": "3lF8CZu_n6Ur",
        "outputId": "af7b8a0f-c9d1-41d9-ae68-166e0d62eab4"
      },
      "execution_count": null,
      "outputs": [
        {
          "output_type": "execute_result",
          "data": {
            "text/plain": [
              "(67121, 46)"
            ]
          },
          "metadata": {},
          "execution_count": 54
        }
      ]
    },
    {
      "cell_type": "code",
      "source": [
        "total_df.shape"
      ],
      "metadata": {
        "colab": {
          "base_uri": "https://localhost:8080/"
        },
        "id": "zoaNPHBIwiFl",
        "outputId": "be3ceb94-2096-44fd-876f-ff7d29fe061c"
      },
      "execution_count": null,
      "outputs": [
        {
          "output_type": "execute_result",
          "data": {
            "text/plain": [
              "(67121, 56)"
            ]
          },
          "metadata": {},
          "execution_count": 55
        }
      ]
    },
    {
      "cell_type": "code",
      "source": [
        "valid_horizon = 67121\n",
        "67121 // 5"
      ],
      "metadata": {
        "colab": {
          "base_uri": "https://localhost:8080/"
        },
        "id": "8TzYD2GpyaBk",
        "outputId": "1025bacd-107d-4acb-9af7-a30ecd49d17c"
      },
      "execution_count": null,
      "outputs": [
        {
          "output_type": "execute_result",
          "data": {
            "text/plain": [
              "13424"
            ]
          },
          "metadata": {},
          "execution_count": 56
        }
      ]
    },
    {
      "cell_type": "code",
      "source": [
        "valid_horizon = 13424\n",
        "train = total_df.head(-valid_horizon).copy()\n",
        "test = total_df.tail(valid_horizon)"
      ],
      "metadata": {
        "id": "r6zJjkXewhUV"
      },
      "execution_count": null,
      "outputs": []
    },
    {
      "cell_type": "code",
      "source": [
        "total_df.columns"
      ],
      "metadata": {
        "colab": {
          "base_uri": "https://localhost:8080/"
        },
        "id": "Yg1A-QeUndiL",
        "outputId": "4b76ec5e-e5d7-41ca-dac1-3e34e1821e3c"
      },
      "execution_count": null,
      "outputs": [
        {
          "output_type": "execute_result",
          "data": {
            "text/plain": [
              "Index(['open', 'high', 'low', 'close', 'volume', 'numtrades', 'bidvolume',\n",
              "       'askvolume', 'close_change', 'close_lable', 'bid0', 'bid1', 'bid2',\n",
              "       'bid3', 'bid4', 'bid5', 'bid6', 'bid7', 'bid8', 'bid9', 'bid10',\n",
              "       'bid11', 'bid12', 'bid13', 'bid14', 'bid15', 'bid16', 'bid17', 'bid18',\n",
              "       'bid19', 'ask20', 'ask21', 'ask22', 'ask23', 'ask24', 'ask25', 'ask26',\n",
              "       'ask27', 'ask28', 'ask29', 'ask30', 'ask31', 'ask32', 'ask33', 'ask34',\n",
              "       'ask35', 'ask36', 'ask37', 'ask38', 'ask39', 'p_b', 'p_a', 'p_t', 'm_+',\n",
              "       'l_t', 'l_t_lable'],\n",
              "      dtype='object')"
            ]
          },
          "metadata": {},
          "execution_count": 58
        }
      ]
    },
    {
      "cell_type": "code",
      "source": [
        "# x_train = train[['open', 'high', 'low',\t\"volume\", \"numtrades\", \"p_t\", \"bidvolume\",\t\"askvolume\", \"bid18\", \"ask20\"]]\n",
        "y_train = train['close_lable']\n",
        "x_train = train[['bid0', 'bid1', 'bid2',\n",
        "       'bid3', 'bid4', 'bid5', 'bid6', 'bid7', 'bid8', 'bid9', 'bid10',\n",
        "       'bid11', 'bid12', 'bid13', 'bid14', 'bid15', 'bid16', 'bid17', 'bid18',\n",
        "       'bid19', 'ask20', 'ask21', 'ask22', 'ask23', 'ask24', 'ask25', 'ask26',\n",
        "       'ask27', 'ask28', 'ask29', 'ask30', 'ask31', 'ask32', 'ask33', 'ask34',\n",
        "       'ask35', 'ask36', 'ask37', 'ask38', 'ask39']]\n",
        "# x_test = test[['open', 'high', 'low',\t\"volume\", \"numtrades\", \"p_t\", \"bidvolume\",\t\"askvolume\", \"bid18\", \"ask20\"]]\n",
        "x_test = test[['bid0', 'bid1', 'bid2',\n",
        "       'bid3', 'bid4', 'bid5', 'bid6', 'bid7', 'bid8', 'bid9', 'bid10',\n",
        "       'bid11', 'bid12', 'bid13', 'bid14', 'bid15', 'bid16', 'bid17', 'bid18',\n",
        "       'bid19', 'ask20', 'ask21', 'ask22', 'ask23', 'ask24', 'ask25', 'ask26',\n",
        "       'ask27', 'ask28', 'ask29', 'ask30', 'ask31', 'ask32', 'ask33', 'ask34',\n",
        "       'ask35', 'ask36', 'ask37', 'ask38', 'ask39']]\n",
        "y_test = test['close_lable']\n",
        "y_train = y_train.to_frame()\n",
        "y_test = y_test.to_frame()"
      ],
      "metadata": {
        "id": "KxlPNfiuzh4S"
      },
      "execution_count": null,
      "outputs": []
    },
    {
      "cell_type": "code",
      "source": [
        "print(f'x_train shape: {x_train.shape}, x_test shape: {x_test.shape}, y_train shape: {y_train.shape}, y_test shape: {y_test.shape}')"
      ],
      "metadata": {
        "colab": {
          "base_uri": "https://localhost:8080/"
        },
        "id": "h_RVCSACyyFs",
        "outputId": "6d84af7e-5847-4a3f-ccce-099712f454e9"
      },
      "execution_count": null,
      "outputs": [
        {
          "output_type": "stream",
          "name": "stdout",
          "text": [
            "x_train shape: (53697, 40), x_test shape: (13424, 40), y_train shape: (53697, 1), y_test shape: (13424, 1)\n"
          ]
        }
      ]
    },
    {
      "cell_type": "code",
      "source": [
        "scaler = StandardScaler()"
      ],
      "metadata": {
        "id": "aiEaKWpWzSTk"
      },
      "execution_count": null,
      "outputs": []
    },
    {
      "cell_type": "code",
      "source": [
        "scaler = scaler.fit(x_train)\n",
        "x_train = scaler.transform(x_train)\n",
        "x_test = scaler.transform(x_test)"
      ],
      "metadata": {
        "id": "2ebih1kD07ds"
      },
      "execution_count": null,
      "outputs": []
    },
    {
      "cell_type": "code",
      "source": [
        "y_train = y_train.to_numpy()\n",
        "y_test = y_test.to_numpy()"
      ],
      "metadata": {
        "id": "q-G9B9q8-q_o"
      },
      "execution_count": null,
      "outputs": []
    },
    {
      "cell_type": "code",
      "source": [
        "models = [LogisticRegression(), XGBClassifier()]\n",
        "# SVC(kernel='poly', probability=True)\n",
        "\n",
        "for i in range(2):\n",
        "  models[i].fit(x_train, y_train )\n",
        " \n",
        "  print(f'{models[i]} : ')\n",
        "  y_train_predict = models[i].predict(x_train)\n",
        "  y_train_predict = y_train_predict.reshape(-1,1)\n",
        "  y_test_predict = models[i].predict(x_test)\n",
        "  y_test_predict = y_test_predict.reshape(-1,1)\n",
        "  \n",
        "  print('Training f1 Score : ', metrics.f1_score(y_train , y_train_predict, average=None))\n",
        "  print('Test f1 Score : ', metrics.f1_score(y_test , y_test_predict, average=None))\n",
        "  print()"
      ],
      "metadata": {
        "colab": {
          "base_uri": "https://localhost:8080/"
        },
        "id": "aIwO20jU1jMI",
        "outputId": "9c7d8e64-13ee-4276-b427-54fba6acc5af"
      },
      "execution_count": null,
      "outputs": [
        {
          "output_type": "stream",
          "name": "stdout",
          "text": [
            "LogisticRegression() : \n",
            "Training f1 Score :  [0.63438039 0.         0.58921991]\n",
            "Test f1 Score :  [0.62870006 0.         0.28999168]\n",
            "\n",
            "XGBClassifier(objective='multi:softprob') : \n",
            "Training f1 Score :  [0.62893646 0.01099164 0.55568746]\n",
            "Test f1 Score :  [0.61006146 0.00107009 0.56440678]\n",
            "\n"
          ]
        }
      ]
    },
    {
      "cell_type": "markdown",
      "source": [
        "## Backtest XGBClassifier "
      ],
      "metadata": {
        "id": "yVpoYzny5DuB"
      }
    },
    {
      "cell_type": "code",
      "source": [
        "backtest_data = total_df[['bid0', 'bid1', 'bid2',\n",
        "       'bid3', 'bid4', 'bid5', 'bid6', 'bid7', 'bid8', 'bid9', 'bid10',\n",
        "       'bid11', 'bid12', 'bid13', 'bid14', 'bid15', 'bid16', 'bid17', 'bid18',\n",
        "       'bid19', 'ask20', 'ask21', 'ask22', 'ask23', 'ask24', 'ask25', 'ask26',\n",
        "       'ask27', 'ask28', 'ask29', 'ask30', 'ask31', 'ask32', 'ask33', 'ask34',\n",
        "       'ask35', 'ask36', 'ask37', 'ask38', 'ask39', \"close\"]]\n",
        "featuers = backtest_data[['bid0', 'bid1', 'bid2',\n",
        "       'bid3', 'bid4', 'bid5', 'bid6', 'bid7', 'bid8', 'bid9', 'bid10',\n",
        "       'bid11', 'bid12', 'bid13', 'bid14', 'bid15', 'bid16', 'bid17', 'bid18',\n",
        "       'bid19', 'ask20', 'ask21', 'ask22', 'ask23', 'ask24', 'ask25', 'ask26',\n",
        "       'ask27', 'ask28', 'ask29', 'ask30', 'ask31', 'ask32', 'ask33', 'ask34',\n",
        "       'ask35', 'ask36', 'ask37', 'ask38', 'ask39']]\n",
        "featuers = StandardScaler().fit_transform(featuers)\n",
        "featuers = pd.DataFrame(featuers, columns = ['bid0', 'bid1', 'bid2',\n",
        "       'bid3', 'bid4', 'bid5', 'bid6', 'bid7', 'bid8', 'bid9', 'bid10',\n",
        "       'bid11', 'bid12', 'bid13', 'bid14', 'bid15', 'bid16', 'bid17', 'bid18',\n",
        "       'bid19', 'ask20', 'ask21', 'ask22', 'ask23', 'ask24', 'ask25', 'ask26',\n",
        "       'ask27', 'ask28', 'ask29', 'ask30', 'ask31', 'ask32', 'ask33', 'ask34',\n",
        "       'ask35', 'ask36', 'ask37', 'ask38', 'ask39'])"
      ],
      "metadata": {
        "id": "6mfxbaO962sR"
      },
      "execution_count": null,
      "outputs": []
    },
    {
      "cell_type": "code",
      "source": [
        "buy_signals = []\n",
        "sell_signals =[]\n",
        "trigger = 0\n",
        "for x in range(len(backtest_data)):\n",
        "  featuer = featuers.iloc[x].to_numpy()\n",
        "  predict = models[0].predict(featuer.reshape(1, -1))\n",
        "  if int(predict[0]) == 1 and trigger != 1:\n",
        "    buy_signals.append(backtest_data[\"close\"].iloc[x])\n",
        "    sell_signals.append(float('nan'))\n",
        "    trigger = 1\n",
        "  elif predict[0] == -1 and trigger != -1:\n",
        "    sell_signals.append(backtest_data[\"close\"].iloc[x])\n",
        "    buy_signals.append(float('nan'))\n",
        "    trigger = -1\n",
        "  else:\n",
        "    buy_signals.append(float('nan'))\n",
        "    sell_signals.append(float('nan'))\n"
      ],
      "metadata": {
        "id": "nB1tDhj-6h_u"
      },
      "execution_count": null,
      "outputs": []
    },
    {
      "cell_type": "code",
      "source": [
        "backtest_data['Buy Signals'] = buy_signals\n",
        "backtest_data['Sell Signals'] = sell_signals"
      ],
      "metadata": {
        "id": "Qjan-pokA0Bq"
      },
      "execution_count": null,
      "outputs": []
    },
    {
      "cell_type": "code",
      "source": [
        "# plt.plot(backtest_data['close'], label='Share Price', color='lightgray', alpha=0.5)\n",
        "# plt.scatter(backtest_data.index, backtest_data['Buy Signals'], label='Buy Signal', marker=\"^\", color=\"#00ff00\", lw=1)\n",
        "# plt.scatter(backtest_data.index, backtest_data['Sell Signals'], label='Sell Signal', marker=\"v\", color=\"#ff0000\", lw=1)\n",
        "# plt.legend(loc=\"upper left\")\n",
        "# plt.show()"
      ],
      "metadata": {
        "id": "jDz6hf0f9tYb"
      },
      "execution_count": null,
      "outputs": []
    },
    {
      "cell_type": "code",
      "source": [
        "# Compute the percentage of variation of the asset\n",
        "backtest_data[\"pct\"] = backtest_data[\"close\"].pct_change(1)\n",
        "backtest_data.fillna(0, inplace=True)"
      ],
      "metadata": {
        "id": "O6HGhvkiCen2"
      },
      "execution_count": null,
      "outputs": []
    },
    {
      "cell_type": "code",
      "source": [
        "def filter_up(x):\n",
        "    if x > 0:\n",
        "      return 1\n",
        "    else:\n",
        "      return 0\n",
        "def filter_down(x):\n",
        "    if x > 0:\n",
        "      return -1\n",
        "    else:\n",
        "      return 0"
      ],
      "metadata": {
        "id": "BVSKca_8NnJh"
      },
      "execution_count": null,
      "outputs": []
    },
    {
      "cell_type": "code",
      "source": [
        "backtest_data[\"signal_long\"] = backtest_data[\"Buy Signals\"].apply(filter_up)\n",
        "backtest_data[\"signal_short\"] = backtest_data[\"Sell Signals\"].apply(filter_down)"
      ],
      "metadata": {
        "id": "QbMmE3O5N2_V"
      },
      "execution_count": null,
      "outputs": []
    },
    {
      "cell_type": "code",
      "source": [
        "# Compute the positions\n",
        "backtest_data[\"Position\"] = (backtest_data[\"signal_short\"].fillna(method=\"ffill\")+ backtest_data[\"signal_long\"].fillna(method=\"ffill\"))\n",
        "\n",
        "# Compute the return of the strategy\n",
        "backtest_data[\"return\"] = backtest_data[\"pct\"]*(backtest_data[\"Position\"].shift(1))"
      ],
      "metadata": {
        "id": "bF93DeXVFv1F"
      },
      "execution_count": null,
      "outputs": []
    },
    {
      "cell_type": "code",
      "source": [
        "backtest_data[\"return\"].cumsum().plot(figsize=(15,6))"
      ],
      "metadata": {
        "colab": {
          "base_uri": "https://localhost:8080/",
          "height": 408
        },
        "id": "TwMugpmEOiJ5",
        "outputId": "5a4abff2-4769-4e4c-817f-1c7140477583"
      },
      "execution_count": null,
      "outputs": [
        {
          "output_type": "execute_result",
          "data": {
            "text/plain": [
              "<matplotlib.axes._subplots.AxesSubplot at 0x7f17f48fb3d0>"
            ]
          },
          "metadata": {},
          "execution_count": 77
        },
        {
          "output_type": "display_data",
          "data": {
            "text/plain": [
              "<Figure size 1080x432 with 1 Axes>"
            ],
            "image/png": "[encoded data removed]"
          },
          "metadata": {}
        }
      ]
    },
    {
      "cell_type": "code",
      "source": [
        "def drawdown_function(serie):\n",
        "# We compute Cumsum of the returns\n",
        "  cum = serie.dropna().cumsum()+1\n",
        "# We compute max of the cumsum on the period (accumulate max)\n",
        "  running_max = np.maximum.accumulate(cum)\n",
        "# We compute drawdown\n",
        "  drawdown  = cum/running_max - 1 \n",
        "  return drawdown"
      ],
      "metadata": {
        "id": "cc6RMnX_GFbH"
      },
      "execution_count": null,
      "outputs": []
    },
    {
      "cell_type": "code",
      "source": [
        "# We compute drawdown\n",
        "drawdown = drawdown_function(backtest_data[\"return\"])\n",
        "backtest_data[\"drawdown\"] = drawdown \n",
        "# Computation Max drawdown\n",
        "max_drawdown =  -np.min(drawdown)*100\n",
        "print(f\"Max drawdown: {np.round(max_drawdown,1)} %\")"
      ],
      "metadata": {
        "colab": {
          "base_uri": "https://localhost:8080/"
        },
        "id": "9DMXApLGGIRx",
        "outputId": "8fd1b9a9-b768-4d1e-ada2-817bb9ecd586"
      },
      "execution_count": null,
      "outputs": [
        {
          "output_type": "stream",
          "name": "stdout",
          "text": [
            "Max drawdown: 7.5 %\n"
          ]
        }
      ]
    },
    {
      "cell_type": "code",
      "source": [
        "plt.figure(figsize=(15,6))\n",
        "backtest_data[\"drawdown\"].plot()\n",
        "\n",
        "plt.show()"
      ],
      "metadata": {
        "colab": {
          "base_uri": "https://localhost:8080/",
          "height": 391
        },
        "id": "rHgUUOZMPSL9",
        "outputId": "e6be0712-4e31-43db-b0cc-8abb6fb6b946"
      },
      "execution_count": null,
      "outputs": [
        {
          "output_type": "display_data",
          "data": {
            "text/plain": [
              "<Figure size 1080x432 with 1 Axes>"
            ],
            "image/png": "[encoded data removed]"
          },
          "metadata": {}
        }
      ]
    },
    {
      "cell_type": "markdown",
      "metadata": {
        "id": "8NoT3C_fgtxC"
      },
      "source": [
        "## DNN"
      ]
    },
    {
      "cell_type": "markdown",
      "source": [
        "### [DEEPLOB](https://ieeexplore.ieee.org/document/8673598/references#references) \n"
      ],
      "metadata": {
        "id": "kdqJDRgiplyS"
      }
    },
    {
      "cell_type": "code",
      "source": [
        "def prepare_x(data):\n",
        "    df1 = data[['bid0', 'bid1', 'bid2',\n",
        "       'bid3', 'bid4', 'bid5', 'bid6', 'bid7', 'bid8', 'bid9', 'bid10',\n",
        "       'bid11', 'bid12', 'bid13', 'bid14', 'bid15', 'bid16', 'bid17', 'bid18',\n",
        "       'bid19', 'ask20', 'ask21', 'ask22', 'ask23', 'ask24', 'ask25', 'ask26',\n",
        "       'ask27', 'ask28', 'ask29', 'ask30', 'ask31', 'ask32', 'ask33', 'ask34',\n",
        "       'ask35', 'ask36', 'ask37', 'ask38', 'ask39']]\n",
        "    return np.array(df1)\n",
        "\n",
        "def get_label(data):\n",
        "    lob = data[['close_lable', 'l_t_lable']]\n",
        "    return lob\n",
        "\n",
        "def data_classification(X, Y, T):\n",
        "    [N, D] = X.shape\n",
        "    df = np.array(X)\n",
        "    dY = np.array(Y)\n",
        "    dataY = dY[T - 1:N]\n",
        "    dataX = np.zeros((N - T + 1, T, D))\n",
        "    for i in range(T, N + 1):\n",
        "        dataX[i - T] = df[i - T:i, :]\n",
        "    return dataX.reshape(dataX.shape + (1,)), dataY\n",
        "\n",
        "def prepare_x_y(data, k, T):\n",
        "    x = prepare_x(data)\n",
        "    y = get_label(data)\n",
        "    x, y = data_classification(x, y, T=T)\n",
        "    y = y[:,k]\n",
        "    y = np_utils.to_categorical(y, 3)\n",
        "    return x, y"
      ],
      "metadata": {
        "id": "L-mCeNSrcJaW"
      },
      "execution_count": null,
      "outputs": []
    },
    {
      "cell_type": "code",
      "source": [
        "k = 0 # which prediction horizon\n",
        "T = 100 # the length of a single input\n",
        "n_hiddens = 64\n",
        "checkpoint_filepath = './model_tensorflow2/weights'"
      ],
      "metadata": {
        "id": "j9ji9ln1cI84"
      },
      "execution_count": null,
      "outputs": []
    },
    {
      "cell_type": "code",
      "source": [
        "valid_horizon = 13424\n",
        "data = pd.read_csv(\"total.csv\")\n",
        "train = data.head(-valid_horizon).copy()\n",
        "test = data.tail(valid_horizon)\n",
        "print(train.shape, test.shape)"
      ],
      "metadata": {
        "id": "uJO0kMr5vciV",
        "colab": {
          "base_uri": "https://localhost:8080/"
        },
        "outputId": "f9a7b6e1-6a3a-417a-b167-5ff883fd2d97"
      },
      "execution_count": null,
      "outputs": [
        {
          "output_type": "stream",
          "name": "stdout",
          "text": [
            "(53697, 57) (13424, 57)\n"
          ]
        }
      ]
    },
    {
      "cell_type": "code",
      "source": [
        "trainX_CNN, trainY_CNN = prepare_x_y(train, k, T)\n",
        "valX_CNN, valY_CNN = prepare_x_y(test, k, T)\n",
        "# testX_CNN, testY_CNN = prepare_x_y(dec_test, k, T)\n",
        "\n",
        "print(trainX_CNN.shape, trainY_CNN.shape)\n",
        "print(valX_CNN.shape, valY_CNN.shape)\n",
        "# print(testX_CNN.shape, testY_CNN.shape)"
      ],
      "metadata": {
        "colab": {
          "base_uri": "https://localhost:8080/"
        },
        "id": "mWV9M4DBcFYF",
        "outputId": "770c66f6-e675-42a4-bb36-264492f13ac9"
      },
      "execution_count": null,
      "outputs": [
        {
          "output_type": "stream",
          "name": "stdout",
          "text": [
            "(53598, 100, 40, 1) (53598, 3)\n",
            "(13325, 100, 40, 1) (13325, 3)\n"
          ]
        }
      ]
    },
    {
      "cell_type": "code",
      "source": [
        "def create_deeplob(T, NF, number_of_lstm):\n",
        "    input_lmd = Input(shape=(T, NF, 1))\n",
        "    \n",
        "    # build the convolutional block\n",
        "    conv_first1 = Conv2D(32, (1, 2), strides=(1, 2))(input_lmd)\n",
        "    conv_first1 = keras.layers.LeakyReLU(alpha=0.01)(conv_first1)\n",
        "    conv_first1 = Conv2D(32, (4, 1), padding='same')(conv_first1)\n",
        "    conv_first1 = keras.layers.LeakyReLU(alpha=0.01)(conv_first1)\n",
        "    conv_first1 = Conv2D(32, (4, 1), padding='same')(conv_first1)\n",
        "    conv_first1 = keras.layers.LeakyReLU(alpha=0.01)(conv_first1)\n",
        "\n",
        "    conv_first1 = Conv2D(32, (1, 2), strides=(1, 2))(conv_first1)\n",
        "    conv_first1 = keras.layers.LeakyReLU(alpha=0.01)(conv_first1)\n",
        "    conv_first1 = Conv2D(32, (4, 1), padding='same')(conv_first1)\n",
        "    conv_first1 = keras.layers.LeakyReLU(alpha=0.01)(conv_first1)\n",
        "    conv_first1 = Conv2D(32, (4, 1), padding='same')(conv_first1)\n",
        "    conv_first1 = keras.layers.LeakyReLU(alpha=0.01)(conv_first1)\n",
        "\n",
        "    conv_first1 = Conv2D(32, (1, 10))(conv_first1)\n",
        "    conv_first1 = keras.layers.LeakyReLU(alpha=0.01)(conv_first1)\n",
        "    conv_first1 = Conv2D(32, (4, 1), padding='same')(conv_first1)\n",
        "    conv_first1 = keras.layers.LeakyReLU(alpha=0.01)(conv_first1)\n",
        "    conv_first1 = Conv2D(32, (4, 1), padding='same')(conv_first1)\n",
        "    conv_first1 = keras.layers.LeakyReLU(alpha=0.01)(conv_first1)\n",
        "    \n",
        "    # build the inception module\n",
        "    convsecond_1 = Conv2D(64, (1, 1), padding='same')(conv_first1)\n",
        "    convsecond_1 = keras.layers.LeakyReLU(alpha=0.01)(convsecond_1)\n",
        "    convsecond_1 = Conv2D(64, (3, 1), padding='same')(convsecond_1)\n",
        "    convsecond_1 = keras.layers.LeakyReLU(alpha=0.01)(convsecond_1)\n",
        "\n",
        "    convsecond_2 = Conv2D(64, (1, 1), padding='same')(conv_first1)\n",
        "    convsecond_2 = keras.layers.LeakyReLU(alpha=0.01)(convsecond_2)\n",
        "    convsecond_2 = Conv2D(64, (5, 1), padding='same')(convsecond_2)\n",
        "    convsecond_2 = keras.layers.LeakyReLU(alpha=0.01)(convsecond_2)\n",
        "\n",
        "    convsecond_3 = MaxPooling2D((3, 1), strides=(1, 1), padding='same')(conv_first1)\n",
        "    convsecond_3 = Conv2D(64, (1, 1), padding='same')(convsecond_3)\n",
        "    convsecond_3 = keras.layers.LeakyReLU(alpha=0.01)(convsecond_3)\n",
        "    \n",
        "    convsecond_output = keras.layers.concatenate([convsecond_1, convsecond_2, convsecond_3], axis=3)\n",
        "    conv_reshape = Reshape((int(convsecond_output.shape[1]), int(convsecond_output.shape[3])))(convsecond_output)\n",
        "    conv_reshape = keras.layers.Dropout(0.2, noise_shape=(None, 1, int(conv_reshape.shape[2])))(conv_reshape, training=True)\n",
        "\n",
        "    # build the last LSTM layer\n",
        "    conv_lstm = LSTM(number_of_lstm)(conv_reshape)\n",
        "\n",
        "    # build the output layer\n",
        "    out = Dense(3, activation='softmax')(conv_lstm)\n",
        "    model = Model(inputs=input_lmd, outputs=out)\n",
        "    adam = keras.optimizers.Adam(lr=0.0001)\n",
        "    model.compile(optimizer=adam, loss='categorical_crossentropy', metrics=['accuracy'])\n",
        "\n",
        "    return model\n",
        "\n",
        "deeplob = create_deeplob(trainX_CNN.shape[1], trainX_CNN.shape[2], n_hiddens)\n",
        "deeplob.summary()"
      ],
      "metadata": {
        "colab": {
          "base_uri": "https://localhost:8080/"
        },
        "id": "_FkenfnCcOjm",
        "outputId": "05cf0c81-79d7-4e92-fa47-2e34737a82dc"
      },
      "execution_count": null,
      "outputs": [
        {
          "output_type": "stream",
          "name": "stdout",
          "text": [
            "Model: \"model\"\n",
            "__________________________________________________________________________________________________\n",
            " Layer (type)                   Output Shape         Param #     Connected to                     \n",
            "==================================================================================================\n",
            " input_1 (InputLayer)           [(None, 100, 40, 1)  0           []                               \n",
            "                                ]                                                                 \n",
            "                                                                                                  \n",
            " conv2d (Conv2D)                (None, 100, 20, 32)  96          ['input_1[0][0]']                \n",
            "                                                                                                  \n",
            " leaky_re_lu (LeakyReLU)        (None, 100, 20, 32)  0           ['conv2d[0][0]']                 \n",
            "                                                                                                  \n",
            " conv2d_1 (Conv2D)              (None, 100, 20, 32)  4128        ['leaky_re_lu[0][0]']            \n",
            "                                                                                                  \n",
            " leaky_re_lu_1 (LeakyReLU)      (None, 100, 20, 32)  0           ['conv2d_1[0][0]']               \n",
            "                                                                                                  \n",
            " conv2d_2 (Conv2D)              (None, 100, 20, 32)  4128        ['leaky_re_lu_1[0][0]']          \n",
            "                                                                                                  \n",
            " leaky_re_lu_2 (LeakyReLU)      (None, 100, 20, 32)  0           ['conv2d_2[0][0]']               \n",
            "                                                                                                  \n",
            " conv2d_3 (Conv2D)              (None, 100, 10, 32)  2080        ['leaky_re_lu_2[0][0]']          \n",
            "                                                                                                  \n",
            " leaky_re_lu_3 (LeakyReLU)      (None, 100, 10, 32)  0           ['conv2d_3[0][0]']               \n",
            "                                                                                                  \n",
            " conv2d_4 (Conv2D)              (None, 100, 10, 32)  4128        ['leaky_re_lu_3[0][0]']          \n",
            "                                                                                                  \n",
            " leaky_re_lu_4 (LeakyReLU)      (None, 100, 10, 32)  0           ['conv2d_4[0][0]']               \n",
            "                                                                                                  \n",
            " conv2d_5 (Conv2D)              (None, 100, 10, 32)  4128        ['leaky_re_lu_4[0][0]']          \n",
            "                                                                                                  \n",
            " leaky_re_lu_5 (LeakyReLU)      (None, 100, 10, 32)  0           ['conv2d_5[0][0]']               \n",
            "                                                                                                  \n",
            " conv2d_6 (Conv2D)              (None, 100, 1, 32)   10272       ['leaky_re_lu_5[0][0]']          \n",
            "                                                                                                  \n",
            " leaky_re_lu_6 (LeakyReLU)      (None, 100, 1, 32)   0           ['conv2d_6[0][0]']               \n",
            "                                                                                                  \n",
            " conv2d_7 (Conv2D)              (None, 100, 1, 32)   4128        ['leaky_re_lu_6[0][0]']          \n",
            "                                                                                                  \n",
            " leaky_re_lu_7 (LeakyReLU)      (None, 100, 1, 32)   0           ['conv2d_7[0][0]']               \n",
            "                                                                                                  \n",
            " conv2d_8 (Conv2D)              (None, 100, 1, 32)   4128        ['leaky_re_lu_7[0][0]']          \n",
            "                                                                                                  \n",
            " leaky_re_lu_8 (LeakyReLU)      (None, 100, 1, 32)   0           ['conv2d_8[0][0]']               \n",
            "                                                                                                  \n",
            " conv2d_9 (Conv2D)              (None, 100, 1, 64)   2112        ['leaky_re_lu_8[0][0]']          \n",
            "                                                                                                  \n",
            " conv2d_11 (Conv2D)             (None, 100, 1, 64)   2112        ['leaky_re_lu_8[0][0]']          \n",
            "                                                                                                  \n",
            " leaky_re_lu_9 (LeakyReLU)      (None, 100, 1, 64)   0           ['conv2d_9[0][0]']               \n",
            "                                                                                                  \n",
            " leaky_re_lu_11 (LeakyReLU)     (None, 100, 1, 64)   0           ['conv2d_11[0][0]']              \n",
            "                                                                                                  \n",
            " max_pooling2d (MaxPooling2D)   (None, 100, 1, 32)   0           ['leaky_re_lu_8[0][0]']          \n",
            "                                                                                                  \n",
            " conv2d_10 (Conv2D)             (None, 100, 1, 64)   12352       ['leaky_re_lu_9[0][0]']          \n",
            "                                                                                                  \n",
            " conv2d_12 (Conv2D)             (None, 100, 1, 64)   20544       ['leaky_re_lu_11[0][0]']         \n",
            "                                                                                                  \n",
            " conv2d_13 (Conv2D)             (None, 100, 1, 64)   2112        ['max_pooling2d[0][0]']          \n",
            "                                                                                                  \n",
            " leaky_re_lu_10 (LeakyReLU)     (None, 100, 1, 64)   0           ['conv2d_10[0][0]']              \n",
            "                                                                                                  \n",
            " leaky_re_lu_12 (LeakyReLU)     (None, 100, 1, 64)   0           ['conv2d_12[0][0]']              \n",
            "                                                                                                  \n",
            " leaky_re_lu_13 (LeakyReLU)     (None, 100, 1, 64)   0           ['conv2d_13[0][0]']              \n",
            "                                                                                                  \n",
            " concatenate (Concatenate)      (None, 100, 1, 192)  0           ['leaky_re_lu_10[0][0]',         \n",
            "                                                                  'leaky_re_lu_12[0][0]',         \n",
            "                                                                  'leaky_re_lu_13[0][0]']         \n",
            "                                                                                                  \n",
            " reshape (Reshape)              (None, 100, 192)     0           ['concatenate[0][0]']            \n",
            "                                                                                                  \n",
            " dropout (Dropout)              (None, 100, 192)     0           ['reshape[0][0]']                \n",
            "                                                                                                  \n",
            " lstm (LSTM)                    (None, 64)           65792       ['dropout[0][0]']                \n",
            "                                                                                                  \n",
            " dense (Dense)                  (None, 3)            195         ['lstm[0][0]']                   \n",
            "                                                                                                  \n",
            "==================================================================================================\n",
            "Total params: 142,435\n",
            "Trainable params: 142,435\n",
            "Non-trainable params: 0\n",
            "__________________________________________________________________________________________________\n"
          ]
        }
      ]
    },
    {
      "cell_type": "code",
      "source": [
        "%%time\n",
        "\n",
        "model_checkpoint_callback = tf.keras.callbacks.ModelCheckpoint(\n",
        "    filepath=checkpoint_filepath,\n",
        "    save_weights_only=True,\n",
        "    monitor='val_loss',\n",
        "    mode='auto',\n",
        "    save_best_only=True)\n",
        "#epocs = 200\n",
        "deeplob.fit(trainX_CNN, trainY_CNN, validation_data=(valX_CNN, valY_CNN), \n",
        "            epochs=10, batch_size=128, verbose=2, callbacks=[model_checkpoint_callback])"
      ],
      "metadata": {
        "colab": {
          "base_uri": "https://localhost:8080/"
        },
        "id": "Gld0-kTEcW8F",
        "outputId": "d857c628-b495-4a3b-acb5-9c1a97112fec"
      },
      "execution_count": null,
      "outputs": [
        {
          "output_type": "stream",
          "name": "stdout",
          "text": [
            "Epoch 1/10\n",
            "419/419 - 34s - loss: 1.0174 - accuracy: 0.4252 - val_loss: 1.0057 - val_accuracy: 0.4353 - 34s/epoch - 80ms/step\n",
            "Epoch 2/10\n",
            "419/419 - 18s - loss: 0.9846 - accuracy: 0.4878 - val_loss: 0.9453 - val_accuracy: 0.5481 - 18s/epoch - 44ms/step\n",
            "Epoch 3/10\n",
            "419/419 - 19s - loss: 0.9437 - accuracy: 0.5417 - val_loss: 0.9346 - val_accuracy: 0.5509 - 19s/epoch - 45ms/step\n",
            "Epoch 4/10\n",
            "419/419 - 19s - loss: 0.9371 - accuracy: 0.5476 - val_loss: 0.9317 - val_accuracy: 0.5544 - 19s/epoch - 45ms/step\n",
            "Epoch 5/10\n",
            "419/419 - 20s - loss: 0.9338 - accuracy: 0.5503 - val_loss: 0.9409 - val_accuracy: 0.5593 - 20s/epoch - 47ms/step\n",
            "Epoch 6/10\n",
            "419/419 - 18s - loss: 0.9318 - accuracy: 0.5515 - val_loss: 0.9279 - val_accuracy: 0.5595 - 18s/epoch - 44ms/step\n",
            "Epoch 7/10\n",
            "419/419 - 19s - loss: 0.9293 - accuracy: 0.5537 - val_loss: 0.9286 - val_accuracy: 0.5638 - 19s/epoch - 46ms/step\n",
            "Epoch 8/10\n",
            "419/419 - 19s - loss: 0.9284 - accuracy: 0.5556 - val_loss: 0.9303 - val_accuracy: 0.5626 - 19s/epoch - 44ms/step\n",
            "Epoch 9/10\n",
            "419/419 - 19s - loss: 0.9272 - accuracy: 0.5549 - val_loss: 0.9234 - val_accuracy: 0.5639 - 19s/epoch - 44ms/step\n",
            "Epoch 10/10\n",
            "419/419 - 19s - loss: 0.9250 - accuracy: 0.5577 - val_loss: 0.9332 - val_accuracy: 0.5644 - 19s/epoch - 44ms/step\n",
            "CPU times: user 2min 39s, sys: 8.28 s, total: 2min 48s\n",
            "Wall time: 3min 25s\n"
          ]
        },
        {
          "output_type": "execute_result",
          "data": {
            "text/plain": [
              "<keras.callbacks.History at 0x7f17f3d0a510>"
            ]
          },
          "metadata": {},
          "execution_count": 174
        }
      ]
    },
    {
      "cell_type": "code",
      "source": [
        "deeplob.load_weights(checkpoint_filepath)\n",
        "pred = deeplob.predict(valX_CNN)"
      ],
      "metadata": {
        "colab": {
          "base_uri": "https://localhost:8080/"
        },
        "id": "ya7pSsOUcirE",
        "outputId": "82f4fade-c374-4c36-b2a3-b70f4c35d7ba"
      },
      "execution_count": null,
      "outputs": [
        {
          "output_type": "stream",
          "name": "stdout",
          "text": [
            "417/417 [==============================] - 10s 6ms/step\n"
          ]
        }
      ]
    },
    {
      "cell_type": "code",
      "source": [
        "print('accuracy_score:', metrics.accuracy_score(np.argmax(valY_CNN, axis=1), np.argmax(pred, axis=1)))\n",
        "print(metrics.classification_report(np.argmax(valY_CNN, axis=1), np.argmax(pred, axis=1), digits=4))"
      ],
      "metadata": {
        "colab": {
          "base_uri": "https://localhost:8080/"
        },
        "id": "nTxqm6iJcjHI",
        "outputId": "b83be28c-e2dd-49ff-a89e-b10e419e3efc"
      },
      "execution_count": null,
      "outputs": [
        {
          "output_type": "stream",
          "name": "stdout",
          "text": [
            "accuracy_score: 0.5636022514071295\n",
            "              precision    recall  f1-score   support\n",
            "\n",
            "           0     0.2857    0.0011    0.0022      1844\n",
            "           1     0.5761    0.5914    0.5837      5754\n",
            "           2     0.5539    0.7168    0.6249      5727\n",
            "\n",
            "    accuracy                         0.5636     13325\n",
            "   macro avg     0.4719    0.4364    0.4036     13325\n",
            "weighted avg     0.5264    0.5636    0.5209     13325\n",
            "\n"
          ]
        }
      ]
    },
    {
      "cell_type": "markdown",
      "source": [
        "### Backtest DEEPLOB"
      ],
      "metadata": {
        "id": "XOCmFZCSV1s6"
      }
    },
    {
      "cell_type": "code",
      "source": [
        "total = pd.read_csv(\"total.csv\")\n",
        "trainX_CNN, trainY_CNN = prepare_x_y(total, 0, 100)\n",
        "deeplob.load_weights(checkpoint_filepath)\n",
        "predict = deeplob.predict(trainX_CNN)"
      ],
      "metadata": {
        "colab": {
          "base_uri": "https://localhost:8080/"
        },
        "id": "8AK0PNRIM-ky",
        "outputId": "a6b16fc5-6863-48a4-e924-6a2bc0e02a82"
      },
      "execution_count": null,
      "outputs": [
        {
          "output_type": "stream",
          "name": "stdout",
          "text": [
            "2095/2095 [==============================] - 12s 5ms/step\n"
          ]
        }
      ]
    },
    {
      "cell_type": "code",
      "source": [
        "pr = np.argmax(predict, axis=1).reshape(-1,1)\n",
        "a = np.zeros((99,1))\n",
        "pre = np.concatenate((a, pr), axis=0)\n",
        "total['Position'] = pre"
      ],
      "metadata": {
        "id": "a3mAz-6sTJHl"
      },
      "execution_count": null,
      "outputs": []
    },
    {
      "cell_type": "code",
      "source": [
        "def filter(x):\n",
        "  if x==2:\n",
        "    return -1\n",
        "  else:\n",
        "    return x"
      ],
      "metadata": {
        "id": "-JWLCr3PSFII"
      },
      "execution_count": null,
      "outputs": []
    },
    {
      "cell_type": "code",
      "source": [
        "total['Position'] = total['Position'].apply(filter)\n",
        "# Compute the percentage of variation of the asset\n",
        "total[\"pct\"] = total[\"close\"].pct_change(1)\n",
        "total.fillna(0, inplace=True)\n",
        "# Compute the return of the strategy\n",
        "total[\"return\"] = total[\"pct\"]*(total[\"Position\"].shift(1))"
      ],
      "metadata": {
        "id": "lf8YCvneRsIe"
      },
      "execution_count": null,
      "outputs": []
    },
    {
      "cell_type": "code",
      "source": [
        "total[\"return\"].cumsum().plot(figsize=(15,6))"
      ],
      "metadata": {
        "colab": {
          "base_uri": "https://localhost:8080/",
          "height": 391
        },
        "id": "XZv7kv1QU6GL",
        "outputId": "edbd5c2a-be9d-4ece-89e5-e3639d0b4c7b"
      },
      "execution_count": null,
      "outputs": [
        {
          "output_type": "execute_result",
          "data": {
            "text/plain": [
              "<matplotlib.axes._subplots.AxesSubplot at 0x7f586c046cd0>"
            ]
          },
          "metadata": {},
          "execution_count": 41
        },
        {
          "output_type": "display_data",
          "data": {
            "text/plain": [
              "<Figure size 1080x432 with 1 Axes>"
            ],
            "image/png": "[encoded data removed]"
          },
          "metadata": {
            "needs_background": "light"
          }
        }
      ]
    },
    {
      "cell_type": "code",
      "source": [
        "def drawdown_function(serie):\n",
        "# We compute Cumsum of the returns\n",
        "  cum = serie.dropna().cumsum()+1\n",
        "# We compute max of the cumsum on the period (accumulate max)\n",
        "  running_max = np.maximum.accumulate(cum)\n",
        "# We compute drawdown\n",
        "  drawdown  = cum/running_max - 1 \n",
        "  return drawdown"
      ],
      "metadata": {
        "id": "fTFdjAAIWGOK"
      },
      "execution_count": null,
      "outputs": []
    },
    {
      "cell_type": "code",
      "source": [
        "# We compute drawdown\n",
        "drawdown = drawdown_function(total[\"return\"])\n",
        "total[\"drawdown\"] = drawdown \n",
        "# Computation Max drawdown\n",
        "max_drawdown =  -np.min(drawdown)*100\n",
        "print(f\"Max drawdown: {np.round(max_drawdown,1)} %\")"
      ],
      "metadata": {
        "colab": {
          "base_uri": "https://localhost:8080/"
        },
        "outputId": "88bccc14-5766-4bcf-a188-143866db12cf",
        "id": "aas8n7WrWGOL"
      },
      "execution_count": null,
      "outputs": [
        {
          "output_type": "stream",
          "name": "stdout",
          "text": [
            "Max drawdown: 13.7 %\n"
          ]
        }
      ]
    },
    {
      "cell_type": "code",
      "source": [
        "plt.figure(figsize=(15,6))\n",
        "total[\"drawdown\"].plot()\n",
        "\n",
        "plt.show()"
      ],
      "metadata": {
        "colab": {
          "base_uri": "https://localhost:8080/",
          "height": 374
        },
        "outputId": "d9a62601-cee8-42fb-e576-694059b0c54e",
        "id": "xVnn6jEDWGOM"
      },
      "execution_count": null,
      "outputs": [
        {
          "output_type": "display_data",
          "data": {
            "text/plain": [
              "<Figure size 1080x432 with 1 Axes>"
            ],
            "image/png": "[encoded data removed]"
          },
          "metadata": {
            "needs_background": "light"
          }
        }
      ]
    }
  ],
  "metadata": {
    "colab": {
      "provenance": [],
      "toc_visible": true,
      "collapsed_sections": [
        "QcjTEERPgCcI",
        "0sMXmaHtgdmt",
        "AdUHw77pgyed",
        "wewDLBTplZMa",
        "IWEJ6XuGleNm",
        "XrwdxNtSd9jZ",
        "CQLPrQCweAJ2",
        "R7_OO5oDhzVM",
        "A0wcT7qffoDs",
        "UFVtLZUu43qb"
      ],
      "include_colab_link": true
    },
    "kernelspec": {
      "display_name": "Python 3",
      "name": "python3"
    },
    "language_info": {
      "name": "python"
    },
    "accelerator": "GPU",
    "gpuClass": "standard"
  },
  "nbformat": 4,
  "nbformat_minor": 0
}